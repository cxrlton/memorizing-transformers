{
  "nbformat": 4,
  "nbformat_minor": 0,
  "metadata": {
    "colab": {
      "provenance": []
    },
    "kernelspec": {
      "name": "python3",
      "display_name": "Python 3"
    },
    "language_info": {
      "name": "python"
    }
  },
  "cells": [
    {
      "cell_type": "code",
      "execution_count": null,
      "metadata": {
        "colab": {
          "base_uri": "https://localhost:8080/"
        },
        "id": "8LrHr7JW19PC",
        "outputId": "6dbc0f92-2107-4014-c1af-97fe0a694b4b"
      },
      "outputs": [
        {
          "output_type": "stream",
          "name": "stdout",
          "text": [
            "Collecting faiss-gpu\n",
            "  Downloading faiss_gpu-1.7.2-cp310-cp310-manylinux_2_17_x86_64.manylinux2014_x86_64.whl.metadata (1.4 kB)\n",
            "Downloading faiss_gpu-1.7.2-cp310-cp310-manylinux_2_17_x86_64.manylinux2014_x86_64.whl (85.5 MB)\n",
            "\u001b[2K   \u001b[90m━━━━━━━━━━━━━━━━━━━━━━━━━━━━━━━━━━━━━━━━\u001b[0m \u001b[32m85.5/85.5 MB\u001b[0m \u001b[31m10.7 MB/s\u001b[0m eta \u001b[36m0:00:00\u001b[0m\n",
            "\u001b[?25hInstalling collected packages: faiss-gpu\n",
            "Successfully installed faiss-gpu-1.7.2\n"
          ]
        }
      ],
      "source": [
        "!pip install faiss-gpu\n",
        "import faiss\n",
        "import torch\n",
        "from torch import nn\n",
        "import torch.nn.functional as F\n",
        "import numpy as np"
      ]
    },
    {
      "cell_type": "code",
      "source": [
        "dim = 64\n",
        "index = faiss.IndexFlatL2(dim)"
      ],
      "metadata": {
        "id": "dxEWAeZ9H6qF"
      },
      "execution_count": null,
      "outputs": []
    },
    {
      "cell_type": "markdown",
      "source": [
        "IndexFlatL2 measures the L2 (or Euclidean) distance between all given points between our query vector, and the vectors loaded into the index. It’s simple, very accurate, but not too fast."
      ],
      "metadata": {
        "id": "OwxrdzAZP0iL"
      }
    },
    {
      "cell_type": "code",
      "source": [
        "vector_data = np.random.random((10000, dim)).astype('float32')"
      ],
      "metadata": {
        "id": "4NYNvZZhPcAi"
      },
      "execution_count": null,
      "outputs": []
    },
    {
      "cell_type": "code",
      "source": [
        "index.add(vector_data)"
      ],
      "metadata": {
        "id": "vt2OYRijRDXP"
      },
      "execution_count": null,
      "outputs": []
    },
    {
      "cell_type": "code",
      "source": [
        "index.ntotal"
      ],
      "metadata": {
        "colab": {
          "base_uri": "https://localhost:8080/"
        },
        "id": "DwFZEFiuRGJZ",
        "outputId": "d047f7bd-62da-4ec7-ab3a-7e924036157c"
      },
      "execution_count": null,
      "outputs": [
        {
          "output_type": "execute_result",
          "data": {
            "text/plain": [
              "10000"
            ]
          },
          "metadata": {},
          "execution_count": 10
        }
      ]
    },
    {
      "cell_type": "code",
      "source": [
        "index.remove_ids(np.arange(10))"
      ],
      "metadata": {
        "colab": {
          "base_uri": "https://localhost:8080/"
        },
        "id": "Q8iFMzcoRHVu",
        "outputId": "b26840a8-b9e6-41bf-ba50-4692dfce15d8"
      },
      "execution_count": null,
      "outputs": [
        {
          "output_type": "execute_result",
          "data": {
            "text/plain": [
              "10"
            ]
          },
          "metadata": {},
          "execution_count": 11
        }
      ]
    },
    {
      "cell_type": "code",
      "source": [
        "index.ntotal"
      ],
      "metadata": {
        "colab": {
          "base_uri": "https://localhost:8080/"
        },
        "id": "s6kxXEasRRJI",
        "outputId": "af44790c-1712-4996-8eb3-4c7290434f62"
      },
      "execution_count": null,
      "outputs": [
        {
          "output_type": "execute_result",
          "data": {
            "text/plain": [
              "9990"
            ]
          },
          "metadata": {},
          "execution_count": 12
        }
      ]
    },
    {
      "cell_type": "code",
      "source": [
        "query_data = np.random.random((10, dim)).astype('float32')\n",
        "top_k = 2\n",
        "distance, ids = index.search(query_data,top_k)"
      ],
      "metadata": {
        "id": "j7S7a4UGRSJq"
      },
      "execution_count": null,
      "outputs": []
    },
    {
      "cell_type": "code",
      "source": [
        "distance"
      ],
      "metadata": {
        "colab": {
          "base_uri": "https://localhost:8080/"
        },
        "id": "vROE7Eu4RbJo",
        "outputId": "d2f9284c-ad59-4b33-8b97-d9262580c78d"
      },
      "execution_count": null,
      "outputs": [
        {
          "output_type": "execute_result",
          "data": {
            "text/plain": [
              "array([[5.827529 , 5.9235134],\n",
              "       [5.26203  , 6.7408357],\n",
              "       [5.938055 , 6.3166738],\n",
              "       [6.046454 , 6.407394 ],\n",
              "       [5.1537175, 5.591063 ],\n",
              "       [4.8479753, 5.3954043],\n",
              "       [6.462555 , 6.5777235],\n",
              "       [6.5997653, 6.7846956],\n",
              "       [4.966932 , 5.265863 ],\n",
              "       [5.9377885, 6.090594 ]], dtype=float32)"
            ]
          },
          "metadata": {},
          "execution_count": 14
        }
      ]
    },
    {
      "cell_type": "code",
      "source": [
        "ids"
      ],
      "metadata": {
        "colab": {
          "base_uri": "https://localhost:8080/"
        },
        "id": "DwZhmjl7Rmc_",
        "outputId": "4006967f-84cf-4705-934f-f4706af6e7ce"
      },
      "execution_count": null,
      "outputs": [
        {
          "output_type": "execute_result",
          "data": {
            "text/plain": [
              "array([[1649, 2569],\n",
              "       [3664, 7181],\n",
              "       [2811, 1506],\n",
              "       [9839, 5726],\n",
              "       [2630, 2242],\n",
              "       [7215, 8266],\n",
              "       [6718, 7883],\n",
              "       [7982, 3781],\n",
              "       [ 234, 8131],\n",
              "       [7394, 6117]])"
            ]
          },
          "metadata": {},
          "execution_count": 15
        }
      ]
    },
    {
      "cell_type": "code",
      "source": [
        "index.search_and_reconstruct(query_data,top_k)"
      ],
      "metadata": {
        "colab": {
          "base_uri": "https://localhost:8080/"
        },
        "id": "iijpaQJtq8yY",
        "outputId": "31f48a02-6c96-41e1-d8f1-14d4c3082b1c"
      },
      "execution_count": null,
      "outputs": [
        {
          "output_type": "execute_result",
          "data": {
            "text/plain": [
              "(array([[5.827529 , 5.9235134],\n",
              "        [5.26203  , 6.7408357],\n",
              "        [5.938055 , 6.3166738],\n",
              "        [6.046454 , 6.407394 ],\n",
              "        [5.1537175, 5.591063 ],\n",
              "        [4.8479753, 5.3954043],\n",
              "        [6.462555 , 6.5777235],\n",
              "        [6.5997653, 6.7846956],\n",
              "        [4.966932 , 5.265863 ],\n",
              "        [5.9377885, 6.090594 ]], dtype=float32),\n",
              " array([[1649, 2569],\n",
              "        [3664, 7181],\n",
              "        [2811, 1506],\n",
              "        [9839, 5726],\n",
              "        [2630, 2242],\n",
              "        [7215, 8266],\n",
              "        [6718, 7883],\n",
              "        [7982, 3781],\n",
              "        [ 234, 8131],\n",
              "        [7394, 6117]]),\n",
              " array([[[0.23735897, 0.27604678, 0.6506493 , ..., 0.12610015,\n",
              "          0.13045064, 0.14365897],\n",
              "         [0.41333184, 0.5881936 , 0.9008604 , ..., 0.4965098 ,\n",
              "          0.00142935, 0.44413137]],\n",
              " \n",
              "        [[0.9049586 , 0.995561  , 0.3454757 , ..., 0.72844285,\n",
              "          0.14323242, 0.91439706],\n",
              "         [0.4093519 , 0.9812425 , 0.55505455, ..., 0.76743543,\n",
              "          0.17521223, 0.43498406]],\n",
              " \n",
              "        [[0.3151435 , 0.6045696 , 0.59402215, ..., 0.6939233 ,\n",
              "          0.6565522 , 0.389392  ],\n",
              "         [0.42814726, 0.47853854, 0.37495258, ..., 0.5049799 ,\n",
              "          0.8166631 , 0.6862018 ]],\n",
              " \n",
              "        ...,\n",
              " \n",
              "        [[0.05006054, 0.9192352 , 0.42732453, ..., 0.5757803 ,\n",
              "          0.5851194 , 0.33873218],\n",
              "         [0.41921076, 0.86237717, 0.08131903, ..., 0.64355147,\n",
              "          0.58744794, 0.42281148]],\n",
              " \n",
              "        [[0.27175137, 0.44749945, 0.13887441, ..., 0.62587005,\n",
              "          0.66029286, 0.76609844],\n",
              "         [0.17778955, 0.4531528 , 0.16231471, ..., 0.17163453,\n",
              "          0.53770745, 0.9431445 ]],\n",
              " \n",
              "        [[0.7038795 , 0.27069342, 0.24415292, ..., 0.58027494,\n",
              "          0.5083022 , 0.35196462],\n",
              "         [0.5349741 , 0.06987049, 0.16356231, ..., 0.87543297,\n",
              "          0.47569522, 0.40410843]]], dtype=float32))"
            ]
          },
          "metadata": {},
          "execution_count": 16
        }
      ]
    },
    {
      "cell_type": "code",
      "source": [
        "\n",
        "db_filepath = \"./memory.memmap\"\n",
        "max_memories = 10000\n",
        "shape = (max_memories, 2, dim)\n",
        "db = np.memmap(db_filepath, mode = 'w+', dtype = np.float32, shape = shape)"
      ],
      "metadata": {
        "id": "fNK06el6rleB"
      },
      "execution_count": null,
      "outputs": []
    },
    {
      "cell_type": "code",
      "source": [
        "db"
      ],
      "metadata": {
        "colab": {
          "base_uri": "https://localhost:8080/"
        },
        "id": "hM4a0xYo42qh",
        "outputId": "26c065da-4bd3-438e-a39d-e3feaab10f71"
      },
      "execution_count": null,
      "outputs": [
        {
          "output_type": "execute_result",
          "data": {
            "text/plain": [
              "memmap([[[0., 0., 0., ..., 0., 0., 0.],\n",
              "         [0., 0., 0., ..., 0., 0., 0.]],\n",
              "\n",
              "        [[0., 0., 0., ..., 0., 0., 0.],\n",
              "         [0., 0., 0., ..., 0., 0., 0.]],\n",
              "\n",
              "        [[0., 0., 0., ..., 0., 0., 0.],\n",
              "         [0., 0., 0., ..., 0., 0., 0.]],\n",
              "\n",
              "        ...,\n",
              "\n",
              "        [[0., 0., 0., ..., 0., 0., 0.],\n",
              "         [0., 0., 0., ..., 0., 0., 0.]],\n",
              "\n",
              "        [[0., 0., 0., ..., 0., 0., 0.],\n",
              "         [0., 0., 0., ..., 0., 0., 0.]],\n",
              "\n",
              "        [[0., 0., 0., ..., 0., 0., 0.],\n",
              "         [0., 0., 0., ..., 0., 0., 0.]]], dtype=float32)"
            ]
          },
          "metadata": {},
          "execution_count": 18
        }
      ]
    },
    {
      "cell_type": "code",
      "source": [
        "db[1:2] = np.random.rand(1,2,dim)"
      ],
      "metadata": {
        "id": "CSsuATrh5I5f"
      },
      "execution_count": null,
      "outputs": []
    },
    {
      "cell_type": "code",
      "source": [
        "db"
      ],
      "metadata": {
        "colab": {
          "base_uri": "https://localhost:8080/"
        },
        "id": "yJ3o1-TM5Lu1",
        "outputId": "24ed3c33-b029-4f3d-c095-20705d2484a4"
      },
      "execution_count": null,
      "outputs": [
        {
          "output_type": "execute_result",
          "data": {
            "text/plain": [
              "memmap([[[0.        , 0.        , 0.        , ..., 0.        ,\n",
              "          0.        , 0.        ],\n",
              "         [0.        , 0.        , 0.        , ..., 0.        ,\n",
              "          0.        , 0.        ]],\n",
              "\n",
              "        [[0.49275523, 0.11181501, 0.22879675, ..., 0.9322479 ,\n",
              "          0.8035381 , 0.56936264],\n",
              "         [0.02991646, 0.44009668, 0.3851566 , ..., 0.7680023 ,\n",
              "          0.37311602, 0.47453612]],\n",
              "\n",
              "        [[0.        , 0.        , 0.        , ..., 0.        ,\n",
              "          0.        , 0.        ],\n",
              "         [0.        , 0.        , 0.        , ..., 0.        ,\n",
              "          0.        , 0.        ]],\n",
              "\n",
              "        ...,\n",
              "\n",
              "        [[0.        , 0.        , 0.        , ..., 0.        ,\n",
              "          0.        , 0.        ],\n",
              "         [0.        , 0.        , 0.        , ..., 0.        ,\n",
              "          0.        , 0.        ]],\n",
              "\n",
              "        [[0.        , 0.        , 0.        , ..., 0.        ,\n",
              "          0.        , 0.        ],\n",
              "         [0.        , 0.        , 0.        , ..., 0.        ,\n",
              "          0.        , 0.        ]],\n",
              "\n",
              "        [[0.        , 0.        , 0.        , ..., 0.        ,\n",
              "          0.        , 0.        ],\n",
              "         [0.        , 0.        , 0.        , ..., 0.        ,\n",
              "          0.        , 0.        ]]], dtype=float32)"
            ]
          },
          "metadata": {},
          "execution_count": 20
        }
      ]
    },
    {
      "cell_type": "code",
      "source": [
        "db[0] = torch.randn(1,2,dim)"
      ],
      "metadata": {
        "id": "kT_20SzDOukI"
      },
      "execution_count": null,
      "outputs": []
    },
    {
      "cell_type": "code",
      "source": [
        "type(db[0])"
      ],
      "metadata": {
        "colab": {
          "base_uri": "https://localhost:8080/"
        },
        "id": "52sMsGZJOwTv",
        "outputId": "47a516a9-c016-494b-9eeb-252b314caad2"
      },
      "execution_count": null,
      "outputs": [
        {
          "output_type": "execute_result",
          "data": {
            "text/plain": [
              "numpy.memmap"
            ]
          },
          "metadata": {},
          "execution_count": 22
        }
      ]
    },
    {
      "cell_type": "code",
      "source": [
        "db[1].shape"
      ],
      "metadata": {
        "colab": {
          "base_uri": "https://localhost:8080/"
        },
        "id": "7vZwDcGdOxxV",
        "outputId": "64c8ef5a-0b51-4516-d2c4-a72bad9f9e75"
      },
      "execution_count": null,
      "outputs": [
        {
          "output_type": "execute_result",
          "data": {
            "text/plain": [
              "(2, 64)"
            ]
          },
          "metadata": {},
          "execution_count": 23
        }
      ]
    },
    {
      "cell_type": "code",
      "source": [
        "dim = 10\n",
        "max_memories = 10000\n",
        "batch_size = 16\n",
        "top_k = 3\n",
        "\n",
        "db_filepath = \"./memory.memmap\"\n",
        "shape = (max_memories, 2, dim)\n",
        "\n",
        "\n",
        "# create index\n",
        "index = faiss.IndexFlatL2(dim)\n",
        "\n",
        "# create database\n",
        "db = np.memmap(db_filepath, mode = 'w+', dtype = np.float32, shape = shape)"
      ],
      "metadata": {
        "id": "-ihRwmxaNBSp"
      },
      "execution_count": null,
      "outputs": []
    },
    {
      "cell_type": "code",
      "source": [],
      "metadata": {
        "id": "D0ETVxCnOvs1"
      },
      "execution_count": null,
      "outputs": []
    },
    {
      "cell_type": "code",
      "source": [
        "#KNN DATABASE CLASS\n",
        "\n",
        "#add to index\n",
        "#add to database\n",
        "#query the index\n",
        "#retrieve from the database\n",
        "#remove/clear from index and database"
      ],
      "metadata": {
        "id": "69BJNebi5MZm"
      },
      "execution_count": null,
      "outputs": []
    },
    {
      "cell_type": "code",
      "source": [
        "#Stacking key and value projections\n",
        "kv = np.random.rand(batch_size, 512, 2, dim).astype('float32') # b t 2 (hd)\n",
        "kv = kv.reshape(-1, 2, dim)\n",
        "kv.shape #8192 pairs of key value projections"
      ],
      "metadata": {
        "colab": {
          "base_uri": "https://localhost:8080/"
        },
        "id": "mw70Sf-o6BYB",
        "outputId": "7767aed7-9d70-437e-eea3-901a6eb0b882"
      },
      "execution_count": null,
      "outputs": [
        {
          "output_type": "execute_result",
          "data": {
            "text/plain": [
              "(8192, 2, 10)"
            ]
          },
          "metadata": {},
          "execution_count": 26
        }
      ]
    },
    {
      "cell_type": "code",
      "source": [
        "16 * 512"
      ],
      "metadata": {
        "colab": {
          "base_uri": "https://localhost:8080/"
        },
        "id": "1GDLWLly55-k",
        "outputId": "41116f68-d884-442a-be10-4f589a2729c8"
      },
      "execution_count": null,
      "outputs": [
        {
          "output_type": "execute_result",
          "data": {
            "text/plain": [
              "8192"
            ]
          },
          "metadata": {},
          "execution_count": 27
        }
      ]
    },
    {
      "cell_type": "code",
      "source": [
        "k = kv[:,0,:]\n",
        "k.shape"
      ],
      "metadata": {
        "colab": {
          "base_uri": "https://localhost:8080/"
        },
        "id": "nCckGD1_7rl6",
        "outputId": "e5a8bf22-8073-4409-aaba-37b08c8abaaa"
      },
      "execution_count": null,
      "outputs": [
        {
          "output_type": "execute_result",
          "data": {
            "text/plain": [
              "(8192, 10)"
            ]
          },
          "metadata": {},
          "execution_count": 28
        }
      ]
    },
    {
      "cell_type": "code",
      "source": [
        "index.add(np.ascontiguousarray(k))"
      ],
      "metadata": {
        "id": "K7J-zVZzLh3H"
      },
      "execution_count": null,
      "outputs": []
    },
    {
      "cell_type": "code",
      "source": [
        "db_offset = 0\n",
        "kv_len = kv.shape[0]\n",
        "ids = (np.arange(kv_len) + db_offset)\n",
        "db_offset += kv_len\n",
        "db[ids] = kv"
      ],
      "metadata": {
        "id": "G8VKr-COLpBd"
      },
      "execution_count": null,
      "outputs": []
    },
    {
      "cell_type": "markdown",
      "source": [
        "## Query and retrieve\n"
      ],
      "metadata": {
        "id": "IUYw29QIO5er"
      }
    },
    {
      "cell_type": "code",
      "source": [
        "query = np.random.rand(batch_size, 512, dim).astype('float32') # b t (hd)\n",
        "query = query.reshape(-1, dim) #flatten\n",
        "query.shape"
      ],
      "metadata": {
        "colab": {
          "base_uri": "https://localhost:8080/"
        },
        "id": "_mp1zecfNMqO",
        "outputId": "5890b96a-96d7-4e07-98c1-980801b1c500"
      },
      "execution_count": null,
      "outputs": [
        {
          "output_type": "execute_result",
          "data": {
            "text/plain": [
              "(8192, 10)"
            ]
          },
          "metadata": {},
          "execution_count": 32
        }
      ]
    },
    {
      "cell_type": "code",
      "source": [
        "distance, ids = index.search(query, top_k)\n",
        "ids.shape"
      ],
      "metadata": {
        "colab": {
          "base_uri": "https://localhost:8080/"
        },
        "id": "LMdexo3oejSo",
        "outputId": "8a6e2278-2d35-41ca-886f-4ee7885234b9"
      },
      "execution_count": null,
      "outputs": [
        {
          "output_type": "execute_result",
          "data": {
            "text/plain": [
              "(8192, 3)"
            ]
          },
          "metadata": {},
          "execution_count": 33
        }
      ]
    },
    {
      "cell_type": "code",
      "source": [
        "ids"
      ],
      "metadata": {
        "colab": {
          "base_uri": "https://localhost:8080/"
        },
        "id": "QkNFeGLZ8i7e",
        "outputId": "b9315a37-c6c8-4a8d-d98f-000f9ad664fd"
      },
      "execution_count": null,
      "outputs": [
        {
          "output_type": "execute_result",
          "data": {
            "text/plain": [
              "array([[2515, 7663, 7431],\n",
              "       [ 522, 7214, 5771],\n",
              "       [5083, 1415, 2169],\n",
              "       ...,\n",
              "       [3429, 4940, 6444],\n",
              "       [2988, 7767, 3557],\n",
              "       [ 824, 4563,  413]])"
            ]
          },
          "metadata": {},
          "execution_count": 34
        }
      ]
    },
    {
      "cell_type": "code",
      "source": [
        "retrieved_kvs = db[ids]\n",
        "retrieved_kvs.shape"
      ],
      "metadata": {
        "colab": {
          "base_uri": "https://localhost:8080/"
        },
        "id": "VzMjMlAm9ad9",
        "outputId": "27b14d9c-4ec3-4613-90d7-efe995c7b704"
      },
      "execution_count": null,
      "outputs": [
        {
          "output_type": "execute_result",
          "data": {
            "text/plain": [
              "(8192, 3, 2, 10)"
            ]
          },
          "metadata": {},
          "execution_count": 35
        }
      ]
    },
    {
      "cell_type": "markdown",
      "source": [
        "### Remove / Clear / Database management"
      ],
      "metadata": {
        "id": "cdtHRwQ7-7Yg"
      }
    },
    {
      "cell_type": "code",
      "source": [
        "# 5120\n",
        "# 10 segments of 512 tokens"
      ],
      "metadata": {
        "id": "aW_OOeUV-Cgk"
      },
      "execution_count": null,
      "outputs": []
    },
    {
      "cell_type": "code",
      "source": [
        "\n",
        "class KNN():\n",
        "    def __init__(\n",
        "        self,\n",
        "        dim,\n",
        "        max_memories,\n",
        "        ):\n",
        "        self.dim = dim\n",
        "        self.max_memories = max_memories\n",
        "        self.shape = (max_memories, 2, dim)\n",
        "        self.db_offset = 0\n",
        "        self.db_filepath = \"./memory.memmap\"\n",
        "        self.db = np.memmap(self.db_filepath, mode = 'w+', dtype = np.float32, shape = self.shape)\n",
        "        self.index = faiss.IndexFlatL2(dim)\n",
        "\n",
        "\n",
        "    def add_to_db(self, new_data):\n",
        "        new_data_len = new_data.shape[0]\n",
        "        ids = (np.arange(new_data_len) + self.db_offset)\n",
        "        self.db[ids] = new_data\n",
        "        self.db_offset += new_data_len\n",
        "        # Write to file\n",
        "        self.db.flush()\n",
        "\n",
        "\n",
        "    def search_and_retrieve(self, query_vecs, topk):\n",
        "        query_vecs = query_vecs\n",
        "        distances, indices = self.index.search(query_vecs, topk)\n",
        "        kvs = self.db[indices]\n",
        "        return kvs\n",
        "\n",
        "    def add(self, new_data):\n",
        "        # Input is b n 2 d, flatten to (b n) 2 d\n",
        "        new_data = new_data.flatten(0,1)\n",
        "        # Add to db\n",
        "        self.add_to_db(new_data)\n",
        "        # Only keys are used in knn index\n",
        "        keys, vals = new_data.unbind(dim=-2)\n",
        "        # Add (b n) d tensors to index\n",
        "        keys = np.ascontiguousarray(keys.numpy())\n",
        "        # Add to index\n",
        "        self.index.add(keys)\n",
        "\n",
        "    def search(self, query_vecs, topk):\n",
        "        # can override topk\n",
        "        query_batch_size, query_seq_len = query_vecs.shape[0], query_vecs.shape[1]\n",
        "        # Input is b n d, flatten to (b n) d\n",
        "        query_vecs = query_vecs.flatten(0,1)\n",
        "        kvs = self.search_and_retrieve(np.ascontiguousarray(query_vecs.numpy()), topk)\n",
        "        # kvs are (b n) k 2 d, unflatten to b n k 2 d\n",
        "        kvs = torch.tensor(kvs)\n",
        "        kvs = torch.unflatten(kvs, 0, (query_batch_size, query_seq_len))\n",
        "        return kvs\n",
        "\n",
        "    def clear(self): #empties out database\n",
        "        self.index.reset()\n",
        "        self.db[:] = 0\n",
        "        self.db_offset = 0\n"
      ],
      "metadata": {
        "id": "jL4FImJfAj8p"
      },
      "execution_count": null,
      "outputs": []
    },
    {
      "cell_type": "code",
      "source": [
        "#separate memory for each batch dimension"
      ],
      "metadata": {
        "id": "qp8ka8rlAopT"
      },
      "execution_count": null,
      "outputs": []
    },
    {
      "cell_type": "code",
      "source": [
        "#testing\n",
        "\n",
        "batch_size = 16\n",
        "dim = 10\n",
        "segments = 10\n",
        "seq_len = 512\n",
        "max_memories = batch_size * seq_len * segments\n",
        "\n",
        "knn = KNN(dim=dim, max_memories=max_memories)"
      ],
      "metadata": {
        "id": "FnkRBa6YWFpL"
      },
      "execution_count": null,
      "outputs": []
    },
    {
      "cell_type": "code",
      "source": [
        "kv = torch.randn(batch_size, seq_len, 2, dim) # b t 2 (hd)\n",
        "query = torch.randn(batch_size, seq_len, dim) # b t (hd)"
      ],
      "metadata": {
        "id": "852-yXM2WvC7"
      },
      "execution_count": null,
      "outputs": []
    },
    {
      "cell_type": "code",
      "source": [
        "knn.add(kv)"
      ],
      "metadata": {
        "id": "FB70R_NDW6Fi"
      },
      "execution_count": null,
      "outputs": []
    },
    {
      "cell_type": "code",
      "source": [
        "knn.index.ntotal"
      ],
      "metadata": {
        "colab": {
          "base_uri": "https://localhost:8080/"
        },
        "id": "Wd9LN48lW7Pr",
        "outputId": "8a4280e0-0675-4c0f-8bf4-fe3d6c43afce"
      },
      "execution_count": null,
      "outputs": [
        {
          "output_type": "execute_result",
          "data": {
            "text/plain": [
              "8192"
            ]
          },
          "metadata": {},
          "execution_count": 42
        }
      ]
    },
    {
      "cell_type": "code",
      "source": [
        "knn.db[8191]"
      ],
      "metadata": {
        "colab": {
          "base_uri": "https://localhost:8080/"
        },
        "id": "DejKtJefW8mU",
        "outputId": "ef175898-76f3-498b-eb8a-506898539faa"
      },
      "execution_count": null,
      "outputs": [
        {
          "output_type": "execute_result",
          "data": {
            "text/plain": [
              "memmap([[-0.09684315,  1.2812485 ,  0.05524765,  1.4415232 , -1.2765571 ,\n",
              "          0.2632024 ,  1.8022029 ,  1.6431124 , -1.8025988 , -0.2768691 ],\n",
              "        [ 0.10737767, -1.9741173 , -1.0190316 , -0.25465897, -1.1085768 ,\n",
              "          0.2854817 ,  0.4937839 ,  0.67907417,  0.7290921 ,  0.44400656]],\n",
              "       dtype=float32)"
            ]
          },
          "metadata": {},
          "execution_count": 46
        }
      ]
    },
    {
      "cell_type": "code",
      "source": [
        "knn.db[8192]"
      ],
      "metadata": {
        "colab": {
          "base_uri": "https://localhost:8080/"
        },
        "id": "DIqnMC6CXAG4",
        "outputId": "6db1404a-772c-499f-ef42-e1cacdb86b25"
      },
      "execution_count": null,
      "outputs": [
        {
          "output_type": "execute_result",
          "data": {
            "text/plain": [
              "memmap([[0., 0., 0., 0., 0., 0., 0., 0., 0., 0.],\n",
              "        [0., 0., 0., 0., 0., 0., 0., 0., 0., 0.]], dtype=float32)"
            ]
          },
          "metadata": {},
          "execution_count": 47
        }
      ]
    },
    {
      "cell_type": "code",
      "source": [
        "retrieved_kvs = knn.search(query, 3)"
      ],
      "metadata": {
        "id": "D2vx_SGVXH2k"
      },
      "execution_count": null,
      "outputs": []
    },
    {
      "cell_type": "code",
      "source": [
        "retrieved_kvs.shape"
      ],
      "metadata": {
        "colab": {
          "base_uri": "https://localhost:8080/"
        },
        "id": "tXKi8Y5dXLNP",
        "outputId": "aa4363f0-75dd-4c86-91a5-f185f9ca0d43"
      },
      "execution_count": null,
      "outputs": [
        {
          "output_type": "execute_result",
          "data": {
            "text/plain": [
              "torch.Size([16, 512, 3, 2, 10])"
            ]
          },
          "metadata": {},
          "execution_count": 49
        }
      ]
    },
    {
      "cell_type": "markdown",
      "source": [
        "### KNN ATTENTION CLASS\n"
      ],
      "metadata": {
        "id": "40fv0m6gXqOF"
      }
    },
    {
      "cell_type": "code",
      "source": [
        "class MHAttention(nn.Module):\n",
        "    def __init__(\n",
        "        self,\n",
        "        embedding_dimension,\n",
        "        heads = 8,\n",
        "        head_dimension = 32,\n",
        "    ):\n",
        "        super().__init__()\n",
        "        self.heads = heads\n",
        "        self.scale = head_dimension ** -0.5\n",
        "\n",
        "        self.query_matrix = nn.Linear(embedding_dimension, heads * head_dimension)\n",
        "        self.key_matrix = nn.Linear(embedding_dimension, heads * head_dimension)\n",
        "        self.value_matrix = nn.Linear(embedding_dimension, heads * head_dimension)\n",
        "        self.output_matrix = nn.Linear(heads * head_dimension, embedding_dimension)\n",
        "\n",
        "\n",
        "    def forward(\n",
        "        self,\n",
        "        x, # batch_size, sequence_length, embedding_dimension\n",
        "    ):\n",
        "        batch_size, sequence_length = x.shape[:2]\n",
        "        queries = self.query_matrix(x)\n",
        "        keys = self.key_matrix(x)\n",
        "        values = self.value_matrix(x)\n",
        "\n",
        "        # Separate  into heads for multi-head attention\n",
        "        k = keys.reshape(batch_size, sequence_length, self.heads, head_dimension)\n",
        "        q = queries.reshape(batch_size, sequence_length, self.heads, head_dimension)\n",
        "        v = values.reshape(batch_size, sequence_length, self.heads, head_dimension)\n",
        "\n",
        "        # Swap head and sequence length dimensions\n",
        "        q = q.transpose(1,2)\n",
        "        k = k.transpose(1,2)\n",
        "        v = v.transpose(1,2)\n",
        "        # Rearrange keys to prepare for matrix multiplication q@k\n",
        "        k = k.transpose(2,3)\n",
        "\n",
        "        # QK\n",
        "        qk = q@k\n",
        "\n",
        "        qk = qk * self.scale\n",
        "\n",
        "        ############\n",
        "        # TODO\n",
        "        # qk = relative_position_values + qk\n",
        "        ############\n",
        "\n",
        "        i, j = qk.shape[-2:]\n",
        "        mask = torch.ones((i,j), dtype = torch.bool).triu(j-i+1)\n",
        "        qk = qk.masked_fill(mask, float('-inf'))\n",
        "\n",
        "        qk = F.softmax(qk, dim=-1)\n",
        "\n",
        "        qkv = qk@v\n",
        "        qkv = qkv.transpose(1,2)\n",
        "        qkv = qkv.reshape(batch_size, sequence_length, self.heads * head_dimension)\n",
        "\n",
        "        ############\n",
        "        # TODO\n",
        "        # KNN Memory\n",
        "        ############\n",
        "\n",
        "        out = self.output_matrix(qkv)\n",
        "\n",
        "        return out"
      ],
      "metadata": {
        "id": "xBoz_YG0XMTW"
      },
      "execution_count": null,
      "outputs": []
    },
    {
      "cell_type": "code",
      "source": [
        "# make sure q is (b t (hd)) for searching in knn (reshape and transpose)\n",
        "# knn returns (b t k 2 (hd))\n",
        "# split to key and value each size (b n k (hd)) (unbind)\n",
        "# convert k and v to (b t k h d) (reshape)\n",
        "# change q to (b h t d) (transpose)\n",
        "# change k to (b h t d k) (multiple transpose)\n",
        "# change v to (b h t k d) (multiple transpose)\n",
        "# get qk of  (b h t d) @ (b h t d k) -> (b h t k)\n",
        "# get qkv of (b h t k) @ (b h t k d) -> (b h t d)\n",
        "# ....."
      ],
      "metadata": {
        "id": "T0wOrV7FXvgb"
      },
      "execution_count": null,
      "outputs": []
    },
    {
      "cell_type": "code",
      "source": [
        "number_heads = 8\n",
        "head_dimension = 10\n",
        "q = torch.randn(batch_size, seq_len, number_heads * head_dimension)\n",
        "k = torch.randn(batch_size, seq_len, number_heads * head_dimension)\n",
        "k.shape"
      ],
      "metadata": {
        "colab": {
          "base_uri": "https://localhost:8080/"
        },
        "id": "WgzXreKkX6JO",
        "outputId": "186a0691-1c2d-4598-d929-52b007b248ee"
      },
      "execution_count": null,
      "outputs": [
        {
          "output_type": "execute_result",
          "data": {
            "text/plain": [
              "torch.Size([16, 512, 80])"
            ]
          },
          "metadata": {},
          "execution_count": 52
        }
      ]
    },
    {
      "cell_type": "code",
      "source": [
        "# Manually\n",
        "\n",
        "# Separate queries matrix into heads for multi-head attention\n",
        "q = q.reshape(batch_size, seq_len, number_heads, head_dimension)\n",
        "# Rearrange indices to prepare for matrix multiplication q@k\n",
        "q = q.transpose(1,2)\n",
        "# Separate keys matrix into heads for multi-head attention\n",
        "k = k.reshape(batch_size, seq_len, number_heads, head_dimension)\n",
        "# Rearrange indices to prepare for matrix multiplication q@k\n",
        "k = k.permute(0,2,3,1)\n",
        "\n",
        "manual_qk = q@k\n",
        "\n",
        "print (\"queries:\", q.shape)\n",
        "print (\"keys:\", k.shape)\n",
        "print (\"qk:\", manual_qk.shape)"
      ],
      "metadata": {
        "colab": {
          "base_uri": "https://localhost:8080/"
        },
        "id": "XBuMGpPwYHwB",
        "outputId": "baa7a610-34a8-42e3-af27-5fcc9b557e96"
      },
      "execution_count": null,
      "outputs": [
        {
          "output_type": "stream",
          "name": "stdout",
          "text": [
            "queries: torch.Size([16, 8, 512, 10])\n",
            "keys: torch.Size([16, 8, 10, 512])\n",
            "qk: torch.Size([16, 8, 512, 512])\n"
          ]
        }
      ]
    },
    {
      "cell_type": "markdown",
      "source": [
        "### Einops"
      ],
      "metadata": {
        "id": "iw-I2dDDYSLR"
      }
    },
    {
      "cell_type": "code",
      "source": [
        "!pip install einops\n",
        "from einops import rearrange, repeat, pack, unpack, einsum"
      ],
      "metadata": {
        "colab": {
          "base_uri": "https://localhost:8080/"
        },
        "id": "jTas314HYKJn",
        "outputId": "7ebb70e3-f01b-469c-dfd6-9cd4543ba227"
      },
      "execution_count": null,
      "outputs": [
        {
          "output_type": "stream",
          "name": "stdout",
          "text": [
            "Requirement already satisfied: einops in /usr/local/lib/python3.10/dist-packages (0.8.0)\n"
          ]
        }
      ]
    },
    {
      "cell_type": "code",
      "source": [
        "q = torch.randn(batch_size, seq_len, number_heads * head_dimension)\n",
        "k = torch.randn(batch_size, seq_len, number_heads * head_dimension)\n",
        "k.shape"
      ],
      "metadata": {
        "colab": {
          "base_uri": "https://localhost:8080/"
        },
        "id": "KpA9B5z1YRK5",
        "outputId": "91dbc585-9fe5-493e-fb62-5844a90b0459"
      },
      "execution_count": null,
      "outputs": [
        {
          "output_type": "execute_result",
          "data": {
            "text/plain": [
              "torch.Size([16, 512, 80])"
            ]
          },
          "metadata": {},
          "execution_count": 55
        }
      ]
    },
    {
      "cell_type": "code",
      "source": [
        "# With einsum\n",
        "q =  rearrange(q, 'b t (h d) -> b h t d', h = number_heads)\n",
        "k =  rearrange(k, 'b t (h d) -> b h t d', h = number_heads)\n",
        "qk = einsum(q, k, 'b h i d, b h j d -> b h i j')\n",
        "\n",
        "print (\"queries:\", q.shape)\n",
        "print (\"keys:\", k.shape)\n",
        "print (\"qk:\", qk.shape)"
      ],
      "metadata": {
        "colab": {
          "base_uri": "https://localhost:8080/"
        },
        "id": "NGJJsWulYXEq",
        "outputId": "48995278-d8a6-4ff2-ba7d-1f9b483bb88e"
      },
      "execution_count": null,
      "outputs": [
        {
          "output_type": "stream",
          "name": "stdout",
          "text": [
            "queries: torch.Size([16, 8, 512, 10])\n",
            "keys: torch.Size([16, 8, 512, 10])\n",
            "qk: torch.Size([16, 8, 512, 512])\n"
          ]
        }
      ]
    },
    {
      "cell_type": "code",
      "source": [
        "class KNNAttention(nn.Module):\n",
        "    def __init__(\n",
        "        self,\n",
        "        embedding_dimension,\n",
        "        heads = 8,\n",
        "        head_dimension = 32,\n",
        "    ):\n",
        "        super().__init__()\n",
        "        self.heads = heads\n",
        "        self.scale = head_dimension ** -0.5\n",
        "\n",
        "        self.query_matrix = nn.Linear(embedding_dimension, heads * head_dimension)\n",
        "        self.key_matrix = nn.Linear(embedding_dimension, heads * head_dimension)\n",
        "        self.value_matrix = nn.Linear(embedding_dimension, heads * head_dimension)\n",
        "        self.output_matrix = nn.Linear(heads * head_dimension, embedding_dimension)\n",
        "\n",
        "\n",
        "    def forward(\n",
        "        self,\n",
        "        x, # batch_size, sequence_length, embedding_dimension\n",
        "    ):\n",
        "        batch_size, sequence_length = x.shape[:2]\n",
        "        queries = self.query_matrix(x)\n",
        "        keys = self.key_matrix(x)\n",
        "        values = self.value_matrix(x)\n",
        "\n",
        "        queries = rearrange(queries, 'b t (h d) -> b h t d', h = self.heads)\n",
        "        keys    = rearrange(keys, 'b t (h d) -> b h t d', h = self.heads)\n",
        "        qk      = einsum(queries, keys, 'b h i d, b h j d -> b h i j')\n",
        "\n",
        "        qk = qk * self.scale\n",
        "\n",
        "        ############\n",
        "        # TODO\n",
        "        # qk = relative_position_values + qk\n",
        "        ############\n",
        "\n",
        "        i, j = qk.shape[-2:]\n",
        "        mask = torch.ones((i,j), dtype = torch.bool).triu(j-i+1)\n",
        "        qk = qk.masked_fill(mask, float('-inf'))\n",
        "\n",
        "        qk = F.softmax(qk, dim=-1)\n",
        "\n",
        "        values = rearrange(values, 'b t (h d) -> b h t d', h=self.heads)\n",
        "        qkv = qk@values\n",
        "        qkv = rearrange(qkv, 'b h t d -> b t (h d)')\n",
        "\n",
        "        ############\n",
        "        # TODO\n",
        "        # KNN Memory\n",
        "        ############\n",
        "\n",
        "        out = self.output_matrix(qkv)\n",
        "\n",
        "        return out\n"
      ],
      "metadata": {
        "id": "0YceIalBYaHM"
      },
      "execution_count": null,
      "outputs": []
    },
    {
      "cell_type": "code",
      "source": [
        "queries = torch.randn(batch_size, number_heads, seq_len, head_dimension)\n",
        "mem_kv = torch.randn(batch_size, seq_len, 3, 2, number_heads*head_dimension)\n",
        "scale = 1"
      ],
      "metadata": {
        "id": "IoZcb9DqZPjs"
      },
      "execution_count": null,
      "outputs": []
    },
    {
      "cell_type": "code",
      "source": [
        "queries = rearrange(queries, 'b h t d -> b t (h d)')\n",
        "queries.shape"
      ],
      "metadata": {
        "colab": {
          "base_uri": "https://localhost:8080/"
        },
        "id": "dAmMnErKZTvT",
        "outputId": "bab71fd7-5663-4545-92f8-31721fec92ce"
      },
      "execution_count": null,
      "outputs": [
        {
          "output_type": "execute_result",
          "data": {
            "text/plain": [
              "torch.Size([16, 512, 80])"
            ]
          },
          "metadata": {},
          "execution_count": 59
        }
      ]
    },
    {
      "cell_type": "code",
      "source": [
        "# mem_kv = knn.search(queries, topk)\n",
        "mem_k, mem_v = mem_kv.unbind(dim = -2)\n",
        "mem_k = rearrange(mem_k, 'b t k (h d) -> b h t k d', h=number_heads)\n",
        "mem_v = rearrange(mem_v, 'b t k (h d) -> b h t k d', h=number_heads)\n",
        "mem_v.shape"
      ],
      "metadata": {
        "colab": {
          "base_uri": "https://localhost:8080/"
        },
        "id": "W4XlF95dZe3r",
        "outputId": "7857be2f-e214-4ac2-f4cf-fbaec78ef279"
      },
      "execution_count": null,
      "outputs": [
        {
          "output_type": "execute_result",
          "data": {
            "text/plain": [
              "torch.Size([16, 8, 512, 3, 10])"
            ]
          },
          "metadata": {},
          "execution_count": 60
        }
      ]
    },
    {
      "cell_type": "code",
      "source": [
        "queries = rearrange(queries, 'b t (h d) -> b h t d', h=number_heads)\n",
        "mem_qk = einsum(queries, mem_k, 'b h t d, b h t k d -> b h t k') # d dimension\n",
        "mem_qk.shape"
      ],
      "metadata": {
        "colab": {
          "base_uri": "https://localhost:8080/"
        },
        "id": "oN2zUPw2Zx5A",
        "outputId": "ce2e0eb9-5e74-498d-d2b0-a938e8a4a305"
      },
      "execution_count": null,
      "outputs": [
        {
          "output_type": "execute_result",
          "data": {
            "text/plain": [
              "torch.Size([16, 8, 512, 3])"
            ]
          },
          "metadata": {},
          "execution_count": 61
        }
      ]
    },
    {
      "cell_type": "code",
      "source": [
        "mem_qk = mem_qk * scale"
      ],
      "metadata": {
        "id": "PP4M_ZJ8Z17e"
      },
      "execution_count": null,
      "outputs": []
    },
    {
      "cell_type": "code",
      "source": [
        "mem_qk = F.softmax(mem_qk, dim=-1)\n",
        "mem_qkv = einsum(mem_qk, mem_v, 'b h t k, b h t k d -> b h t d') # k dimension\n",
        "mem_qkv.shape"
      ],
      "metadata": {
        "colab": {
          "base_uri": "https://localhost:8080/"
        },
        "id": "s1Q7CwtcZ87x",
        "outputId": "e125ca68-1299-4087-c101-68a9e4dc1fbd"
      },
      "execution_count": null,
      "outputs": [
        {
          "output_type": "execute_result",
          "data": {
            "text/plain": [
              "torch.Size([16, 8, 512, 10])"
            ]
          },
          "metadata": {},
          "execution_count": 67
        }
      ]
    },
    {
      "cell_type": "code",
      "source": [
        "# gate between 0 and 1\n",
        "gate = nn.Parameter(torch.randn(number_heads, 1, 1))\n",
        "combined_qkv = (mem_qkv * gate) + (qkv * (1 - gate))\n",
        "out = output_matrix(combined_qkv)"
      ],
      "metadata": {
        "id": "wlxra_ZpaLGS"
      },
      "execution_count": null,
      "outputs": []
    }
  ]
}