{
  "nbformat": 4,
  "nbformat_minor": 0,
  "metadata": {
    "colab": {
      "provenance": [],
      "gpuType": "T4"
    },
    "kernelspec": {
      "name": "python3",
      "display_name": "Python 3"
    },
    "language_info": {
      "name": "python"
    },
    "accelerator": "GPU",
    "widgets": {
      "application/vnd.jupyter.widget-state+json": {
        "038fa6baa3d3409397f9d592ac87daf0": {
          "model_module": "@jupyter-widgets/controls",
          "model_name": "HBoxModel",
          "model_module_version": "1.5.0",
          "state": {
            "_dom_classes": [],
            "_model_module": "@jupyter-widgets/controls",
            "_model_module_version": "1.5.0",
            "_model_name": "HBoxModel",
            "_view_count": null,
            "_view_module": "@jupyter-widgets/controls",
            "_view_module_version": "1.5.0",
            "_view_name": "HBoxView",
            "box_style": "",
            "children": [
              "IPY_MODEL_005b926782e9423da23b7065a3f7e6ff",
              "IPY_MODEL_68a261ba4ded43779832f6f39961988d",
              "IPY_MODEL_590284a6a50a44b688e709be73bfb59c"
            ],
            "layout": "IPY_MODEL_1245b37515ea4051a91c08a11914bc27"
          }
        },
        "005b926782e9423da23b7065a3f7e6ff": {
          "model_module": "@jupyter-widgets/controls",
          "model_name": "HTMLModel",
          "model_module_version": "1.5.0",
          "state": {
            "_dom_classes": [],
            "_model_module": "@jupyter-widgets/controls",
            "_model_module_version": "1.5.0",
            "_model_name": "HTMLModel",
            "_view_count": null,
            "_view_module": "@jupyter-widgets/controls",
            "_view_module_version": "1.5.0",
            "_view_name": "HTMLView",
            "description": "",
            "description_tooltip": null,
            "layout": "IPY_MODEL_5e9f7dfc2db349bd87a598adffc59684",
            "placeholder": "​",
            "style": "IPY_MODEL_8dbbfa73aa004d6898d923453ccb8470",
            "value": "README.md: 100%"
          }
        },
        "68a261ba4ded43779832f6f39961988d": {
          "model_module": "@jupyter-widgets/controls",
          "model_name": "FloatProgressModel",
          "model_module_version": "1.5.0",
          "state": {
            "_dom_classes": [],
            "_model_module": "@jupyter-widgets/controls",
            "_model_module_version": "1.5.0",
            "_model_name": "FloatProgressModel",
            "_view_count": null,
            "_view_module": "@jupyter-widgets/controls",
            "_view_module_version": "1.5.0",
            "_view_name": "ProgressView",
            "bar_style": "success",
            "description": "",
            "description_tooltip": null,
            "layout": "IPY_MODEL_2515ac3ca4b04185bd7efb831e5afb9a",
            "max": 3965,
            "min": 0,
            "orientation": "horizontal",
            "style": "IPY_MODEL_84678b8439ec43cab50280b2f33ea5a8",
            "value": 3965
          }
        },
        "590284a6a50a44b688e709be73bfb59c": {
          "model_module": "@jupyter-widgets/controls",
          "model_name": "HTMLModel",
          "model_module_version": "1.5.0",
          "state": {
            "_dom_classes": [],
            "_model_module": "@jupyter-widgets/controls",
            "_model_module_version": "1.5.0",
            "_model_name": "HTMLModel",
            "_view_count": null,
            "_view_module": "@jupyter-widgets/controls",
            "_view_module_version": "1.5.0",
            "_view_name": "HTMLView",
            "description": "",
            "description_tooltip": null,
            "layout": "IPY_MODEL_55362f36798c4c158a64b22457540f3f",
            "placeholder": "​",
            "style": "IPY_MODEL_554f266b9f934a0dab5ef5e950a43a5a",
            "value": " 3.96k/3.96k [00:00&lt;00:00, 225kB/s]"
          }
        },
        "1245b37515ea4051a91c08a11914bc27": {
          "model_module": "@jupyter-widgets/base",
          "model_name": "LayoutModel",
          "model_module_version": "1.2.0",
          "state": {
            "_model_module": "@jupyter-widgets/base",
            "_model_module_version": "1.2.0",
            "_model_name": "LayoutModel",
            "_view_count": null,
            "_view_module": "@jupyter-widgets/base",
            "_view_module_version": "1.2.0",
            "_view_name": "LayoutView",
            "align_content": null,
            "align_items": null,
            "align_self": null,
            "border": null,
            "bottom": null,
            "display": null,
            "flex": null,
            "flex_flow": null,
            "grid_area": null,
            "grid_auto_columns": null,
            "grid_auto_flow": null,
            "grid_auto_rows": null,
            "grid_column": null,
            "grid_gap": null,
            "grid_row": null,
            "grid_template_areas": null,
            "grid_template_columns": null,
            "grid_template_rows": null,
            "height": null,
            "justify_content": null,
            "justify_items": null,
            "left": null,
            "margin": null,
            "max_height": null,
            "max_width": null,
            "min_height": null,
            "min_width": null,
            "object_fit": null,
            "object_position": null,
            "order": null,
            "overflow": null,
            "overflow_x": null,
            "overflow_y": null,
            "padding": null,
            "right": null,
            "top": null,
            "visibility": null,
            "width": null
          }
        },
        "5e9f7dfc2db349bd87a598adffc59684": {
          "model_module": "@jupyter-widgets/base",
          "model_name": "LayoutModel",
          "model_module_version": "1.2.0",
          "state": {
            "_model_module": "@jupyter-widgets/base",
            "_model_module_version": "1.2.0",
            "_model_name": "LayoutModel",
            "_view_count": null,
            "_view_module": "@jupyter-widgets/base",
            "_view_module_version": "1.2.0",
            "_view_name": "LayoutView",
            "align_content": null,
            "align_items": null,
            "align_self": null,
            "border": null,
            "bottom": null,
            "display": null,
            "flex": null,
            "flex_flow": null,
            "grid_area": null,
            "grid_auto_columns": null,
            "grid_auto_flow": null,
            "grid_auto_rows": null,
            "grid_column": null,
            "grid_gap": null,
            "grid_row": null,
            "grid_template_areas": null,
            "grid_template_columns": null,
            "grid_template_rows": null,
            "height": null,
            "justify_content": null,
            "justify_items": null,
            "left": null,
            "margin": null,
            "max_height": null,
            "max_width": null,
            "min_height": null,
            "min_width": null,
            "object_fit": null,
            "object_position": null,
            "order": null,
            "overflow": null,
            "overflow_x": null,
            "overflow_y": null,
            "padding": null,
            "right": null,
            "top": null,
            "visibility": null,
            "width": null
          }
        },
        "8dbbfa73aa004d6898d923453ccb8470": {
          "model_module": "@jupyter-widgets/controls",
          "model_name": "DescriptionStyleModel",
          "model_module_version": "1.5.0",
          "state": {
            "_model_module": "@jupyter-widgets/controls",
            "_model_module_version": "1.5.0",
            "_model_name": "DescriptionStyleModel",
            "_view_count": null,
            "_view_module": "@jupyter-widgets/base",
            "_view_module_version": "1.2.0",
            "_view_name": "StyleView",
            "description_width": ""
          }
        },
        "2515ac3ca4b04185bd7efb831e5afb9a": {
          "model_module": "@jupyter-widgets/base",
          "model_name": "LayoutModel",
          "model_module_version": "1.2.0",
          "state": {
            "_model_module": "@jupyter-widgets/base",
            "_model_module_version": "1.2.0",
            "_model_name": "LayoutModel",
            "_view_count": null,
            "_view_module": "@jupyter-widgets/base",
            "_view_module_version": "1.2.0",
            "_view_name": "LayoutView",
            "align_content": null,
            "align_items": null,
            "align_self": null,
            "border": null,
            "bottom": null,
            "display": null,
            "flex": null,
            "flex_flow": null,
            "grid_area": null,
            "grid_auto_columns": null,
            "grid_auto_flow": null,
            "grid_auto_rows": null,
            "grid_column": null,
            "grid_gap": null,
            "grid_row": null,
            "grid_template_areas": null,
            "grid_template_columns": null,
            "grid_template_rows": null,
            "height": null,
            "justify_content": null,
            "justify_items": null,
            "left": null,
            "margin": null,
            "max_height": null,
            "max_width": null,
            "min_height": null,
            "min_width": null,
            "object_fit": null,
            "object_position": null,
            "order": null,
            "overflow": null,
            "overflow_x": null,
            "overflow_y": null,
            "padding": null,
            "right": null,
            "top": null,
            "visibility": null,
            "width": null
          }
        },
        "84678b8439ec43cab50280b2f33ea5a8": {
          "model_module": "@jupyter-widgets/controls",
          "model_name": "ProgressStyleModel",
          "model_module_version": "1.5.0",
          "state": {
            "_model_module": "@jupyter-widgets/controls",
            "_model_module_version": "1.5.0",
            "_model_name": "ProgressStyleModel",
            "_view_count": null,
            "_view_module": "@jupyter-widgets/base",
            "_view_module_version": "1.2.0",
            "_view_name": "StyleView",
            "bar_color": null,
            "description_width": ""
          }
        },
        "55362f36798c4c158a64b22457540f3f": {
          "model_module": "@jupyter-widgets/base",
          "model_name": "LayoutModel",
          "model_module_version": "1.2.0",
          "state": {
            "_model_module": "@jupyter-widgets/base",
            "_model_module_version": "1.2.0",
            "_model_name": "LayoutModel",
            "_view_count": null,
            "_view_module": "@jupyter-widgets/base",
            "_view_module_version": "1.2.0",
            "_view_name": "LayoutView",
            "align_content": null,
            "align_items": null,
            "align_self": null,
            "border": null,
            "bottom": null,
            "display": null,
            "flex": null,
            "flex_flow": null,
            "grid_area": null,
            "grid_auto_columns": null,
            "grid_auto_flow": null,
            "grid_auto_rows": null,
            "grid_column": null,
            "grid_gap": null,
            "grid_row": null,
            "grid_template_areas": null,
            "grid_template_columns": null,
            "grid_template_rows": null,
            "height": null,
            "justify_content": null,
            "justify_items": null,
            "left": null,
            "margin": null,
            "max_height": null,
            "max_width": null,
            "min_height": null,
            "min_width": null,
            "object_fit": null,
            "object_position": null,
            "order": null,
            "overflow": null,
            "overflow_x": null,
            "overflow_y": null,
            "padding": null,
            "right": null,
            "top": null,
            "visibility": null,
            "width": null
          }
        },
        "554f266b9f934a0dab5ef5e950a43a5a": {
          "model_module": "@jupyter-widgets/controls",
          "model_name": "DescriptionStyleModel",
          "model_module_version": "1.5.0",
          "state": {
            "_model_module": "@jupyter-widgets/controls",
            "_model_module_version": "1.5.0",
            "_model_name": "DescriptionStyleModel",
            "_view_count": null,
            "_view_module": "@jupyter-widgets/base",
            "_view_module_version": "1.2.0",
            "_view_name": "StyleView",
            "description_width": ""
          }
        }
      }
    }
  },
  "cells": [
    {
      "cell_type": "code",
      "execution_count": 1,
      "metadata": {
        "colab": {
          "base_uri": "https://localhost:8080/"
        },
        "id": "PdwvvRDjn6-e",
        "outputId": "b0a90a47-d194-416d-8f5f-58b7b76aa718"
      },
      "outputs": [
        {
          "output_type": "stream",
          "name": "stdout",
          "text": [
            "Requirement already satisfied: einops in /usr/local/lib/python3.10/dist-packages (0.8.0)\n",
            "Collecting faiss-gpu\n",
            "  Downloading faiss_gpu-1.7.2-cp310-cp310-manylinux_2_17_x86_64.manylinux2014_x86_64.whl.metadata (1.4 kB)\n",
            "Downloading faiss_gpu-1.7.2-cp310-cp310-manylinux_2_17_x86_64.manylinux2014_x86_64.whl (85.5 MB)\n",
            "\u001b[2K   \u001b[90m━━━━━━━━━━━━━━━━━━━━━━━━━━━━━━━━━━━━━━━━\u001b[0m \u001b[32m85.5/85.5 MB\u001b[0m \u001b[31m8.8 MB/s\u001b[0m eta \u001b[36m0:00:00\u001b[0m\n",
            "\u001b[?25hInstalling collected packages: faiss-gpu\n",
            "Successfully installed faiss-gpu-1.7.2\n",
            "Collecting datasets\n",
            "  Downloading datasets-3.2.0-py3-none-any.whl.metadata (20 kB)\n",
            "Requirement already satisfied: filelock in /usr/local/lib/python3.10/dist-packages (from datasets) (3.16.1)\n",
            "Requirement already satisfied: numpy>=1.17 in /usr/local/lib/python3.10/dist-packages (from datasets) (1.26.4)\n",
            "Requirement already satisfied: pyarrow>=15.0.0 in /usr/local/lib/python3.10/dist-packages (from datasets) (17.0.0)\n",
            "Collecting dill<0.3.9,>=0.3.0 (from datasets)\n",
            "  Downloading dill-0.3.8-py3-none-any.whl.metadata (10 kB)\n",
            "Requirement already satisfied: pandas in /usr/local/lib/python3.10/dist-packages (from datasets) (2.2.2)\n",
            "Requirement already satisfied: requests>=2.32.2 in /usr/local/lib/python3.10/dist-packages (from datasets) (2.32.3)\n",
            "Requirement already satisfied: tqdm>=4.66.3 in /usr/local/lib/python3.10/dist-packages (from datasets) (4.67.1)\n",
            "Collecting xxhash (from datasets)\n",
            "  Downloading xxhash-3.5.0-cp310-cp310-manylinux_2_17_x86_64.manylinux2014_x86_64.whl.metadata (12 kB)\n",
            "Collecting multiprocess<0.70.17 (from datasets)\n",
            "  Downloading multiprocess-0.70.16-py310-none-any.whl.metadata (7.2 kB)\n",
            "Collecting fsspec<=2024.9.0,>=2023.1.0 (from fsspec[http]<=2024.9.0,>=2023.1.0->datasets)\n",
            "  Downloading fsspec-2024.9.0-py3-none-any.whl.metadata (11 kB)\n",
            "Requirement already satisfied: aiohttp in /usr/local/lib/python3.10/dist-packages (from datasets) (3.11.11)\n",
            "Requirement already satisfied: huggingface-hub>=0.23.0 in /usr/local/lib/python3.10/dist-packages (from datasets) (0.27.1)\n",
            "Requirement already satisfied: packaging in /usr/local/lib/python3.10/dist-packages (from datasets) (24.2)\n",
            "Requirement already satisfied: pyyaml>=5.1 in /usr/local/lib/python3.10/dist-packages (from datasets) (6.0.2)\n",
            "Requirement already satisfied: aiohappyeyeballs>=2.3.0 in /usr/local/lib/python3.10/dist-packages (from aiohttp->datasets) (2.4.4)\n",
            "Requirement already satisfied: aiosignal>=1.1.2 in /usr/local/lib/python3.10/dist-packages (from aiohttp->datasets) (1.3.2)\n",
            "Requirement already satisfied: async-timeout<6.0,>=4.0 in /usr/local/lib/python3.10/dist-packages (from aiohttp->datasets) (4.0.3)\n",
            "Requirement already satisfied: attrs>=17.3.0 in /usr/local/lib/python3.10/dist-packages (from aiohttp->datasets) (24.3.0)\n",
            "Requirement already satisfied: frozenlist>=1.1.1 in /usr/local/lib/python3.10/dist-packages (from aiohttp->datasets) (1.5.0)\n",
            "Requirement already satisfied: multidict<7.0,>=4.5 in /usr/local/lib/python3.10/dist-packages (from aiohttp->datasets) (6.1.0)\n",
            "Requirement already satisfied: propcache>=0.2.0 in /usr/local/lib/python3.10/dist-packages (from aiohttp->datasets) (0.2.1)\n",
            "Requirement already satisfied: yarl<2.0,>=1.17.0 in /usr/local/lib/python3.10/dist-packages (from aiohttp->datasets) (1.18.3)\n",
            "Requirement already satisfied: typing-extensions>=3.7.4.3 in /usr/local/lib/python3.10/dist-packages (from huggingface-hub>=0.23.0->datasets) (4.12.2)\n",
            "Requirement already satisfied: charset-normalizer<4,>=2 in /usr/local/lib/python3.10/dist-packages (from requests>=2.32.2->datasets) (3.4.1)\n",
            "Requirement already satisfied: idna<4,>=2.5 in /usr/local/lib/python3.10/dist-packages (from requests>=2.32.2->datasets) (3.10)\n",
            "Requirement already satisfied: urllib3<3,>=1.21.1 in /usr/local/lib/python3.10/dist-packages (from requests>=2.32.2->datasets) (2.3.0)\n",
            "Requirement already satisfied: certifi>=2017.4.17 in /usr/local/lib/python3.10/dist-packages (from requests>=2.32.2->datasets) (2024.12.14)\n",
            "Requirement already satisfied: python-dateutil>=2.8.2 in /usr/local/lib/python3.10/dist-packages (from pandas->datasets) (2.8.2)\n",
            "Requirement already satisfied: pytz>=2020.1 in /usr/local/lib/python3.10/dist-packages (from pandas->datasets) (2024.2)\n",
            "Requirement already satisfied: tzdata>=2022.7 in /usr/local/lib/python3.10/dist-packages (from pandas->datasets) (2024.2)\n",
            "Requirement already satisfied: six>=1.5 in /usr/local/lib/python3.10/dist-packages (from python-dateutil>=2.8.2->pandas->datasets) (1.17.0)\n",
            "Downloading datasets-3.2.0-py3-none-any.whl (480 kB)\n",
            "\u001b[2K   \u001b[90m━━━━━━━━━━━━━━━━━━━━━━━━━━━━━━━━━━━━━━━━\u001b[0m \u001b[32m480.6/480.6 kB\u001b[0m \u001b[31m11.1 MB/s\u001b[0m eta \u001b[36m0:00:00\u001b[0m\n",
            "\u001b[?25hDownloading dill-0.3.8-py3-none-any.whl (116 kB)\n",
            "\u001b[2K   \u001b[90m━━━━━━━━━━━━━━━━━━━━━━━━━━━━━━━━━━━━━━━━\u001b[0m \u001b[32m116.3/116.3 kB\u001b[0m \u001b[31m10.3 MB/s\u001b[0m eta \u001b[36m0:00:00\u001b[0m\n",
            "\u001b[?25hDownloading fsspec-2024.9.0-py3-none-any.whl (179 kB)\n",
            "\u001b[2K   \u001b[90m━━━━━━━━━━━━━━━━━━━━━━━━━━━━━━━━━━━━━━━━\u001b[0m \u001b[32m179.3/179.3 kB\u001b[0m \u001b[31m16.2 MB/s\u001b[0m eta \u001b[36m0:00:00\u001b[0m\n",
            "\u001b[?25hDownloading multiprocess-0.70.16-py310-none-any.whl (134 kB)\n",
            "\u001b[2K   \u001b[90m━━━━━━━━━━━━━━━━━━━━━━━━━━━━━━━━━━━━━━━━\u001b[0m \u001b[32m134.8/134.8 kB\u001b[0m \u001b[31m11.8 MB/s\u001b[0m eta \u001b[36m0:00:00\u001b[0m\n",
            "\u001b[?25hDownloading xxhash-3.5.0-cp310-cp310-manylinux_2_17_x86_64.manylinux2014_x86_64.whl (194 kB)\n",
            "\u001b[2K   \u001b[90m━━━━━━━━━━━━━━━━━━━━━━━━━━━━━━━━━━━━━━━━\u001b[0m \u001b[32m194.1/194.1 kB\u001b[0m \u001b[31m16.9 MB/s\u001b[0m eta \u001b[36m0:00:00\u001b[0m\n",
            "\u001b[?25hInstalling collected packages: xxhash, fsspec, dill, multiprocess, datasets\n",
            "  Attempting uninstall: fsspec\n",
            "    Found existing installation: fsspec 2024.10.0\n",
            "    Uninstalling fsspec-2024.10.0:\n",
            "      Successfully uninstalled fsspec-2024.10.0\n",
            "\u001b[31mERROR: pip's dependency resolver does not currently take into account all the packages that are installed. This behaviour is the source of the following dependency conflicts.\n",
            "gcsfs 2024.10.0 requires fsspec==2024.10.0, but you have fsspec 2024.9.0 which is incompatible.\u001b[0m\u001b[31m\n",
            "\u001b[0mSuccessfully installed datasets-3.2.0 dill-0.3.8 fsspec-2024.9.0 multiprocess-0.70.16 xxhash-3.5.0\n"
          ]
        }
      ],
      "source": [
        "import torch\n",
        "from torch import nn\n",
        "import torch.optim as optim\n",
        "import torch.nn.functional as F\n",
        "from torch.utils.data import DataLoader, Dataset\n",
        "import numpy as np\n",
        "import math\n",
        "import os\n",
        "import random\n",
        "import tqdm\n",
        "import gzip\n",
        "\n",
        "!pip3 install einops\n",
        "from einops import rearrange, repeat, pack, unpack, einsum\n",
        "from einops.layers.torch import Rearrange\n",
        "\n",
        "\n",
        "from functools import partial, wraps\n",
        "from contextlib import contextmanager, ExitStack\n",
        "from pathlib import Path\n",
        "from filelock import FileLock\n",
        "import pickle\n",
        "\n",
        "import transformers\n",
        "from transformers import AutoTokenizer\n",
        "\n",
        "!pip3 install faiss-gpu\n",
        "import faiss\n",
        "\n",
        "!pip3 install datasets\n",
        "import datasets\n"
      ]
    },
    {
      "cell_type": "code",
      "source": [
        "sequence_length = 5\n",
        "sequence_pos = torch.arange(sequence_length, dtype=torch.long)\n",
        "context_pos = torch.arange(2*sequence_length, dtype=torch.long)\n",
        "#context_pos = torch.arange(-sequence_length, sequence_length, dtype=torch.long)\n",
        "sequence_rel_pos = rearrange(sequence_pos, 'i -> i 1')\n",
        "context_rel_pos = rearrange(context_pos, 'j -> 1 j')\n",
        "rel_pos = context_rel_pos - sequence_rel_pos\n",
        "rel_pos"
      ],
      "metadata": {
        "colab": {
          "base_uri": "https://localhost:8080/"
        },
        "id": "V6a7_oEmrW7H",
        "outputId": "bfbd1892-a12f-48ab-c407-c4c52b860dc7"
      },
      "execution_count": 2,
      "outputs": [
        {
          "output_type": "execute_result",
          "data": {
            "text/plain": [
              "tensor([[ 0,  1,  2,  3,  4,  5,  6,  7,  8,  9],\n",
              "        [-1,  0,  1,  2,  3,  4,  5,  6,  7,  8],\n",
              "        [-2, -1,  0,  1,  2,  3,  4,  5,  6,  7],\n",
              "        [-3, -2, -1,  0,  1,  2,  3,  4,  5,  6],\n",
              "        [-4, -3, -2, -1,  0,  1,  2,  3,  4,  5]])"
            ]
          },
          "metadata": {},
          "execution_count": 2
        }
      ]
    },
    {
      "cell_type": "code",
      "source": [
        "# # Outline\n",
        "\n",
        "# # Embedding\n",
        "# token_ids = tokenizer(raw_text)\n",
        "# x = embedding(token_ids)\n",
        "\n",
        "# # BLOCK x n (layers)\n",
        "\n",
        "# # Attention\n",
        "# residual = x.copy()\n",
        "# x = layernorm(x)\n",
        "# x = attention(x) # XL, KNN_XL\n",
        "# x = x + residual\n",
        "\n",
        "# # Feedforward\n",
        "# residual = x.copy()\n",
        "# x = layernorm(x)\n",
        "# x = linear(x)\n",
        "# x = activation(x)\n",
        "# x = dropout(x)\n",
        "# x = linear_2(x)\n",
        "# x = x + residual\n",
        "\n",
        "\n",
        "# # Output\n",
        "# x = layernorm(x)\n",
        "# token_ids = embedding_reverse(x)\n",
        "# loss = cross_entropy(token_ids, labels)"
      ],
      "metadata": {
        "id": "8iNqEz3DskaY"
      },
      "execution_count": 3,
      "outputs": []
    },
    {
      "cell_type": "code",
      "source": [
        "class MemorizingTransformer(nn.Module):\n",
        "    def __init__(\n",
        "        self,\n",
        "        embedding_dimension,\n",
        "        vocab_size,\n",
        "        heads = 8,\n",
        "        depth = 10,\n",
        "        dropout = 0,\n",
        "        head_dimension = 64,\n",
        "        max_knn_memories = 32000,\n",
        "        topk = 5,\n",
        "\n",
        "    ):\n",
        "        super().__init__()\n",
        "        self.heads = heads\n",
        "        self.embedding_dimension = embedding_dimension\n",
        "        self.dropout = dropout\n",
        "        self.depth = depth\n",
        "        self.head_dimension = head_dimension\n",
        "        self.max_knn_memories = max_knn_memories\n",
        "        self.topk = topk\n",
        "\n",
        "        self.rel_pos = RelativePosition(rp_scale = head_dimension** 0.5,\n",
        "                                        heads = self.heads)\n",
        "        self.rel_pos_knn = RelativePosition(rp_scale = head_dimension** 0.5,\n",
        "                                        heads = self.heads)\n",
        "        self.embedding_matrix = nn.Embedding(vocab_size, self.embedding_dimension)\n",
        "\n",
        "        self.knn = KNN(head_dimension * heads, self.max_knn_memories)\n",
        "\n",
        "        self.layers = nn.ModuleList([])\n",
        "\n",
        "        for i in range(self.depth):\n",
        "\n",
        "            if i == self.depth-2:\n",
        "                layer_knn = self.knn\n",
        "            else:\n",
        "                layer_knn = None\n",
        "\n",
        "            self.layers.append(Block(layer_knn))\n",
        "\n",
        "        self.to_logits = nn.Sequential(\n",
        "            nn.LayerNorm(self.embedding_dimension),\n",
        "            nn.Linear(self.embedding_dimension, vocab_size)\n",
        "        )\n",
        "\n",
        "    def forward(\n",
        "        self,\n",
        "        x,\n",
        "        relative_positions = None,\n",
        "        xl_memories = None,\n",
        "        labels = None,\n",
        "    ):\n",
        "\n",
        "        batch_size, sequence_length = x.shape[0], x.shape[1]\n",
        "\n",
        "        # Position values\n",
        "        rel_pos = self.rel_pos(sequence_length)\n",
        "        rel_pos_knn = self.rel_pos_knn(sequence_length)\n",
        "\n",
        "        if xl_memories is not None:\n",
        "            xl_memories = xl_memories\n",
        "        else:\n",
        "            xl_memories = (None,) * self.depth # if we're in first chunk of document\n",
        "\n",
        "        # Iterator\n",
        "        xl_memories_iter = iter(xl_memories)\n",
        "\n",
        "        # Store the XL memories for each pass\n",
        "        new_xl_memories = []\n",
        "\n",
        "        # Embeddings\n",
        "        x = self.embedding_matrix(x)\n",
        "\n",
        "        for ind, block in enumerate(self.layers):\n",
        "\n",
        "            if ind == self.depth-2:\n",
        "                layer_rel_pos = rel_pos_knn\n",
        "            else:\n",
        "                layer_rel_pos = rel_pos\n",
        "\n",
        "            x, xl_mem = block(x, next(xl_memories_iter), layer_rel_pos)\n",
        "\n",
        "            if xl_mem is not None:\n",
        "                new_xl_memories.append(xl_mem)\n",
        "\n",
        "        logits = self.to_logits(x)\n",
        "\n",
        "        loss = F.cross_entropy(rearrange(logits, 'b n c -> b c n'), labels)\n",
        "        if len(new_xl_memories) > 0:\n",
        "            return loss, new_xl_memories\n",
        "        return loss\n",
        "\n",
        "\n",
        "\n"
      ],
      "metadata": {
        "id": "-BwAUJ1Rtpfj"
      },
      "execution_count": 4,
      "outputs": []
    },
    {
      "cell_type": "markdown",
      "source": [
        "## Final Architecture"
      ],
      "metadata": {
        "id": "qkqQIIdH29h-"
      }
    },
    {
      "cell_type": "code",
      "source": [
        "class RelativePosition(nn.Module):\n",
        "  def __init__(\n",
        "      self,\n",
        "      rp_scale,\n",
        "      num_buckets = 32,\n",
        "      rp_max_distance = 128,\n",
        "      heads = 8\n",
        "  ):\n",
        "      super().__init__()\n",
        "      self.scale = rp_scale\n",
        "      self.num_buckets = num_buckets\n",
        "      self.rp_max_distance = rp_max_distance\n",
        "      self.relative_attention_embedding = nn.Embedding(num_buckets, heads)\n",
        "\n",
        "  def relative_position_bucket(self, relative_position_matrix):\n",
        "      n = -relative_position_matrix\n",
        "      n = torch.max(n, torch.zeros_like(n))\n",
        "\n",
        "      max_exact = self.num_buckets // 2\n",
        "\n",
        "      is_small = n < max_exact\n",
        "      val_if_large = max_exact + (torch.log(n.float() / max_exact) / math.log(self.rp_max_distance / max_exact) * (self.num_buckets - max_exact)).long()\n",
        "      val_if_large = torch.min(val_if_large, torch.full_like(val_if_large, self.num_buckets - 1))\n",
        "\n",
        "      return torch.where(is_small, n, val_if_large)\n",
        "\n",
        "  def forward(self, sequence_length):\n",
        "\n",
        "      sequence_pos = torch.arange(sequence_length, dtype=torch.long)\n",
        "      context_pos = torch.arange(2 * sequence_length, dtype=torch.long)\n",
        "      sequence_rel_pos = rearrange(sequence_pos, 'i -> i 1')\n",
        "      context_rel_pos = rearrange(context_pos, 'j -> 1 j')\n",
        "      rel_pos = context_rel_pos - sequence_rel_pos\n",
        "\n",
        "      position_bucket_indices = self.relative_position_bucket(rel_pos)\n",
        "\n",
        "      rp_values = self.relative_attention_embedding(position_bucket_indices)\n",
        "      rp_values = rearrange(rp_values, 'i j h -> () h i j')\n",
        "      return rp_values * self.scale\n",
        "\n",
        "\n",
        "\n",
        "class KNN():\n",
        "    def __init__(\n",
        "        self,\n",
        "        dim,\n",
        "        max_memories,\n",
        "        ):\n",
        "        self.dim = dim\n",
        "        self.max_memories = max_memories\n",
        "        self.shape = (max_memories, 2, dim)\n",
        "        self.db_offset = 0\n",
        "        self.db_filepath = \"./memory.memmap\"\n",
        "        self.db = np.memmap(self.db_filepath, mode = 'w+', dtype = np.float32, shape = self.shape)\n",
        "        self.index = faiss.IndexFlatL2(dim)\n",
        "\n",
        "\n",
        "    def add_to_db(self, new_data):\n",
        "        new_data_len = new_data.shape[0]\n",
        "        ids = (np.arange(new_data_len) + self.db_offset)\n",
        "        self.db[ids] = new_data.detach().numpy()\n",
        "        self.db_offset += new_data_len\n",
        "        # Write to file\n",
        "        self.db.flush()\n",
        "\n",
        "\n",
        "    def search_and_retrieve(self, query_vecs, topk):\n",
        "        query_vecs = query_vecs\n",
        "        distances, indices = self.index.search(query_vecs, topk)\n",
        "        kvs = self.db[indices]\n",
        "        return kvs\n",
        "\n",
        "    def add(self, new_data):\n",
        "        # Input is b n 2 d, flatten to (b n) 2 d\n",
        "        new_data = new_data.flatten(0,1)\n",
        "        # Add to db\n",
        "        self.add_to_db(new_data)\n",
        "        # Only keys are used in knn index\n",
        "        keys, vals = new_data.unbind(dim=-2)\n",
        "        keys = keys.detach().numpy()\n",
        "        # Add (b n) d tensors to index\n",
        "        keys = np.ascontiguousarray(keys)\n",
        "        # Add to index\n",
        "        self.index.add(keys)\n",
        "\n",
        "    def search(self, query_vecs, topk):\n",
        "        # can override topk\n",
        "        query_batch_size, query_seq_len = query_vecs.shape[0], query_vecs.shape[1]\n",
        "        # Input is b n d, flatten to (b n) d\n",
        "        query_vecs = query_vecs.flatten(0,1)\n",
        "        kvs = self.search_and_retrieve(np.ascontiguousarray(query_vecs.detach().numpy()), topk)\n",
        "        # kvs are (b n) k 2 d, unflatten to b n k 2 d\n",
        "        kvs = torch.tensor(kvs)\n",
        "        kvs = torch.unflatten(kvs, 0, (query_batch_size, query_seq_len))\n",
        "        return kvs\n",
        "\n",
        "\n",
        "    def clear(self):\n",
        "        self.index.reset()\n",
        "        self.db[:] = 0\n",
        "        self.db_offset = 0\n",
        "\n",
        "\n",
        "class XLAttention(nn.Module):\n",
        "    def __init__(\n",
        "        self,\n",
        "        embedding_dimension,\n",
        "        heads = 8,\n",
        "        head_dimension = 64,\n",
        "        dropout = 0.,\n",
        "    ):\n",
        "        super().__init__()\n",
        "        self.heads = heads\n",
        "        self.dropout = nn.Dropout(dropout)\n",
        "        self.scale = head_dimension ** -0.5\n",
        "\n",
        "        self.query_matrix = nn.Linear(embedding_dimension, self.heads * head_dimension)\n",
        "        self.key_matrix = nn.Linear(embedding_dimension, self.heads * head_dimension)\n",
        "        self.value_matrix = nn.Linear(embedding_dimension, self.heads * head_dimension)\n",
        "        self.output_matrix = nn.Linear(self.heads * head_dimension, embedding_dimension)\n",
        "\n",
        "    def forward(\n",
        "        self,\n",
        "        x, # batch_size, sequence_length, embedding_dimension\n",
        "        relative_positions = None,\n",
        "        xl_memory = None\n",
        "    ):\n",
        "\n",
        "        queries = self.query_matrix(x)\n",
        "        keys = self.key_matrix(x)\n",
        "        values = self.value_matrix(x)\n",
        "\n",
        "        queries = queries * self.scale\n",
        "\n",
        "        if xl_memory is not None:\n",
        "            k_xl, v_xl = xl_memory.unbind(dim = -2) # assume stacked\n",
        "            keys = torch.cat((k_xl, keys), dim = -2) # prepend XL memory\n",
        "            values = torch.cat((v_xl, values), dim = -2) # prepend XL memory\n",
        "            xl_sequence_length = k_xl.shape[1]\n",
        "\n",
        "        queries = rearrange(queries, 'b t (h d) -> b h t d', h = self.heads)\n",
        "        keys    = rearrange(keys, 'b t (h d) -> b h t d', h = self.heads)\n",
        "        qk      = einsum(queries, keys, 'b h i d, b h j d -> b h i j')\n",
        "\n",
        "        i, j = qk.shape[-2:]\n",
        "        if relative_positions is not None:\n",
        "            qk = relative_positions[..., -i:, -j:] + qk\n",
        "\n",
        "        qk = qk * self.scale\n",
        "\n",
        "        mask = torch.ones((i,j), dtype = torch.bool).triu(j-i+1)\n",
        "        qk = qk.masked_fill(mask, float('-inf'))\n",
        "\n",
        "        qk = F.softmax(qk, dim=-1)\n",
        "        qk = self.dropout(qk)\n",
        "\n",
        "        values = rearrange(values, 'b t (h d) -> b h t d', h=self.heads)\n",
        "        qkv = qk@values\n",
        "        qkv = rearrange(qkv, 'b h t d -> b t (h d)')\n",
        "\n",
        "        out = self.output_matrix(qkv)\n",
        "\n",
        "        # new XL memories\n",
        "\n",
        "        keys = rearrange(keys, 'b h t d -> b t (h d)', h = self.heads)\n",
        "        values = rearrange(values, 'b h t d -> b t (h d)', h=self.heads)\n",
        "        kv_memories = torch.stack((keys, values), dim=-2) # (batch, sequence_len, 2, dimension)\n",
        "\n",
        "\n",
        "        if xl_memory is not None:\n",
        "            xl_memories, current_input = kv_memories[:, :-xl_sequence_length], kv_memories[:, -xl_sequence_length:]\n",
        "            kv_to_add_xl = current_input\n",
        "        else:\n",
        "            kv_to_add_xl = kv_memories\n",
        "\n",
        "        return out, kv_to_add_xl\n",
        "\n",
        "\n",
        "\n",
        "class KNNAttention(nn.Module):\n",
        "    def __init__(\n",
        "        self,\n",
        "        embedding_dimension,\n",
        "        knn,\n",
        "        heads = 8,\n",
        "        head_dimension = 64,\n",
        "        topk_retrieved_memories = 3,\n",
        "        dropout = 0.\n",
        "    ):\n",
        "        super().__init__()\n",
        "        self.heads = heads\n",
        "        self.scale = head_dimension ** -0.5\n",
        "        self.dropout = nn.Dropout(dropout)\n",
        "\n",
        "        self.query_matrix = nn.Linear(embedding_dimension, heads * head_dimension)\n",
        "        self.key_matrix = nn.Linear(embedding_dimension, heads * head_dimension)\n",
        "        self.value_matrix = nn.Linear(embedding_dimension, heads * head_dimension)\n",
        "        self.output_matrix = nn.Linear(heads * head_dimension, embedding_dimension)\n",
        "\n",
        "        self.gate_bias = nn.Parameter(torch.randn(self.heads, 1, 1))\n",
        "        self.topk_retrieved_memories = topk_retrieved_memories\n",
        "        self.knn = knn\n",
        "\n",
        "    def forward(\n",
        "        self,\n",
        "        x, # batch_size, sequence_length, embedding_dimension\n",
        "        relative_positions = None,\n",
        "        xl_memory = None\n",
        "    ):\n",
        "        batch_size, sequence_length = x.shape[:2]\n",
        "        queries = self.query_matrix(x)\n",
        "        keys = self.key_matrix(x)\n",
        "        values = self.value_matrix(x)\n",
        "\n",
        "        queries = F.normalize(queries, dim=-1)\n",
        "        keys = F.normalize(keys, dim=-1)\n",
        "\n",
        "        if xl_memory is not None:\n",
        "            k_xl, v_xl = xl_memory.unbind(dim = -2) # unstack\n",
        "            keys = torch.cat((k_xl, keys), dim = -2) # prepend XL memory\n",
        "            values = torch.cat((v_xl, values), dim = -2) # prepend XL memory\n",
        "            xl_sequence_length = k_xl.shape[1]\n",
        "\n",
        "        ### LOCAL ATTENTION\n",
        "\n",
        "        queries = rearrange(queries, 'b t (h d) -> b h t d', h = self.heads)\n",
        "        keys    = rearrange(keys, 'b t (h d) -> b h t d', h = self.heads)\n",
        "        qk      = einsum(queries, keys, 'b h i d, b h j d -> b h i j')\n",
        "\n",
        "        i, j = qk.shape[-2:]\n",
        "        if relative_positions is not None:\n",
        "            qk = relative_positions[..., -i:, -j:] + qk\n",
        "\n",
        "        qk = qk * self.scale\n",
        "\n",
        "        mask = torch.ones((i,j), dtype = torch.bool).triu(j-i+1)\n",
        "        qk = qk.masked_fill(mask, float('-inf'))\n",
        "\n",
        "        qk = F.softmax(qk, dim=-1)\n",
        "\n",
        "        qk = self.dropout(qk)\n",
        "\n",
        "        values = rearrange(values, 'b t (h d) -> b h t d', h=self.heads)\n",
        "        qkv = qk@values\n",
        "\n",
        "        ### KNN ATTENTION\n",
        "\n",
        "        # If there are knn memories (we're not on the first segment) then perform knn attention\n",
        "        if self.knn.index.ntotal > 0:\n",
        "            # Convert queries to search form\n",
        "            queries = rearrange(queries, 'b h t d -> b t (h d)')\n",
        "            mem_kv = self.knn.search(queries, topk = self.topk_retrieved_memories) # returns b t k 2 d\n",
        "            mem_k, mem_v = mem_kv.unbind(dim = -2)\n",
        "            mem_k = rearrange(mem_k, 'b t k (h d) -> b h t k d', h=self.heads)\n",
        "            mem_v = rearrange(mem_v, 'b t k (h d) -> b h t k d', h=self.heads)\n",
        "\n",
        "            # Convert queries to attention form\n",
        "            queries = rearrange(queries, 'b t (h d) -> b h t d', h = self.heads)\n",
        "            mem_qk = einsum(queries, mem_k, 'b h t d, b h t k d -> b h t k')\n",
        "            mem_qk = mem_qk * self.scale\n",
        "\n",
        "            mem_qk = F.softmax(mem_qk, dim=-1)\n",
        "            mem_qk = self.dropout(mem_qk)\n",
        "            mem_qkv = einsum(mem_qk, mem_v, 'b h t k, b h t k d -> b h t d')\n",
        "\n",
        "            # Combined attentions\n",
        "\n",
        "            combined_qkv = mem_qkv * self.gate_bias + qkv * (1 - self.gate_bias)\n",
        "            combined_qkv = rearrange(combined_qkv, 'b h t d -> b t (h d)')\n",
        "            out = self.output_matrix(combined_qkv)\n",
        "\n",
        "        else:\n",
        "            qkv = rearrange(qkv, 'b h t d -> b t (h d)')\n",
        "            out = self.output_matrix(qkv)\n",
        "\n",
        "        # New XL memories\n",
        "        keys = rearrange(keys, 'b h t d -> b t (h d)', h = self.heads)\n",
        "        values = rearrange(values, 'b h t d -> b t (h d)', h=self.heads)\n",
        "        kv_memories = torch.stack((keys, values), dim=-2) # (batch, sequence_len, 2, dimension)\n",
        "\n",
        "        if xl_memory is not None:\n",
        "            # if we're on a middle/end segment of a document (there are previous XL memories)\n",
        "            xl_memories, current_kv = kv_memories[:, :-xl_sequence_length], kv_memories[:, -xl_sequence_length:]\n",
        "        else:\n",
        "            # if we're at the first segment\n",
        "            current_kv = kv_memories\n",
        "\n",
        "        self.knn.add(current_kv)\n",
        "\n",
        "        return out, current_kv\n",
        "\n",
        "\n",
        "class Block(nn.Module):\n",
        "    def __init__(self, embedding_dimension, attention_type, dropout=0.):\n",
        "        super().__init__()\n",
        "        self.attention = attention_type\n",
        "        self.dim = embedding_dimension\n",
        "\n",
        "        self.ff_block = nn.Sequential(\n",
        "            nn.LayerNorm(self.dim),\n",
        "            nn.Linear(self.dim, self.dim * 4),\n",
        "            nn.GELU(),\n",
        "            nn.Dropout(dropout),\n",
        "            nn.Linear(self.dim * 4, self.dim))\n",
        "\n",
        "    def forward(self, x, xl_memories, rel_pos):\n",
        "        residual = x\n",
        "        norm = nn.LayerNorm(self.dim)\n",
        "        attn_out = norm(x)\n",
        "        attn_out, new_xl_memories = self.attention(attn_out, relative_positions=rel_pos, xl_memory=xl_memories)\n",
        "        attn_out += residual\n",
        "\n",
        "        residual = attn_out\n",
        "        ff_out = self.ff_block(attn_out)\n",
        "        ff_out += residual\n",
        "        return ff_out, new_xl_memories\n",
        "\n",
        "\n",
        "class MemorizingTransformer(nn.Module):\n",
        "    def __init__(\n",
        "        self,\n",
        "        embedding_dimension,\n",
        "        vocab_size,\n",
        "        max_knn_memories = 81920,\n",
        "        heads = 8,\n",
        "        depth = 10,\n",
        "        dropout = 0,\n",
        "        head_dimension = 64,\n",
        "        topk = 5,\n",
        "\n",
        "    ):\n",
        "        super().__init__()\n",
        "        self.heads = heads\n",
        "        self.embedding_dimension = embedding_dimension\n",
        "        self.dropout = dropout\n",
        "        self.depth = depth\n",
        "        self.head_dimension = head_dimension\n",
        "        self.max_knn_memories = max_knn_memories\n",
        "        self.topk = topk\n",
        "\n",
        "        ###########\n",
        "        self.rel_pos = RelativePosition(rp_scale = head_dimension** 0.5,\n",
        "                                        heads = self.heads)\n",
        "        self.rel_pos_knn = RelativePosition(rp_scale = head_dimension** 0.5,\n",
        "                                        heads = self.heads)\n",
        "        self.embedding_matrix = nn.Embedding(vocab_size, self.embedding_dimension)\n",
        "\n",
        "        self.knn = KNN(head_dimension * heads, self.max_knn_memories)\n",
        "\n",
        "\n",
        "\n",
        "        self.layers = nn.ModuleList([])\n",
        "        for i in range(self.depth):\n",
        "\n",
        "            if i == self.depth-2:\n",
        "                attention_type = KNNAttention(self.embedding_dimension,\n",
        "                            self.knn,\n",
        "                            heads = self.heads,\n",
        "                            head_dimension = self.head_dimension,\n",
        "                            dropout = self.dropout)\n",
        "            else:\n",
        "                attention_type = XLAttention(self.embedding_dimension,\n",
        "                            heads = self.heads,\n",
        "                            head_dimension = self.head_dimension,\n",
        "                            dropout = self.dropout)\n",
        "\n",
        "            self.layers.append(Block(self.embedding_dimension, attention_type))\n",
        "\n",
        "        self.to_logits = nn.Sequential(\n",
        "            nn.LayerNorm(self.embedding_dimension),\n",
        "            nn.Linear(self.embedding_dimension, vocab_size)\n",
        "        )\n",
        "\n",
        "\n",
        "    def forward(\n",
        "        self,\n",
        "        x,\n",
        "        relative_positions = None,\n",
        "        xl_memories = None,\n",
        "        labels = None,\n",
        "    ):\n",
        "\n",
        "        batch_size, sequence_length = x.shape[0], x.shape[1]\n",
        "\n",
        "        # Position values\n",
        "        rel_pos = self.rel_pos(sequence_length)\n",
        "        rel_pos_knn = self.rel_pos_knn(sequence_length)\n",
        "\n",
        "        # If no XL memories (start of a sequence) then None type for each layer.\n",
        "        # There is one set of XL memories for each layer\n",
        "        # xl_memories = default(xl_memories, (None,) * self.num_xl_memory_layers)\n",
        "        if xl_memories is not None:\n",
        "            xl_memories = xl_memories\n",
        "        else:\n",
        "            xl_memories = (None,) * self.depth\n",
        "\n",
        "        # Iterator\n",
        "        xl_memories_iter = iter(xl_memories)\n",
        "\n",
        "        # Embeddings\n",
        "        x = self.embedding_matrix(x)\n",
        "\n",
        "        # Store the XL memories for each pass\n",
        "        new_xl_memories = []\n",
        "\n",
        "        for ind, block in enumerate(self.layers):\n",
        "\n",
        "            if i == self.depth-2:\n",
        "                layer_rel_pos = rel_pos_knn\n",
        "            else:\n",
        "                layer_rel_pos = rel_pos\n",
        "\n",
        "            x, xl_mem = block(x, next(xl_memories_iter), layer_rel_pos)\n",
        "\n",
        "            if xl_mem is not None:\n",
        "                ############\n",
        "                new_xl_memories.append(xl_mem.detach())\n",
        "\n",
        "\n",
        "\n",
        "        logits = self.to_logits(x)\n",
        "\n",
        "        # Training\n",
        "        loss = F.cross_entropy(rearrange(logits, 'b n c -> b c n'), labels)\n",
        "        if len(new_xl_memories) > 0:\n",
        "            return loss, new_xl_memories\n",
        "        return loss"
      ],
      "metadata": {
        "id": "UiZYFXGH1DUc"
      },
      "execution_count": 5,
      "outputs": []
    },
    {
      "cell_type": "markdown",
      "source": [
        "## Training Loop"
      ],
      "metadata": {
        "id": "AxhoZR1724ub"
      }
    },
    {
      "cell_type": "code",
      "source": [
        "SEGMENTS = 10\n",
        "SEQUENCE_LENGTH = 512\n",
        "CHUNK_SIZE = (SEGMENTS * SEQUENCE_LENGTH) + 1  # +1 for shifting\n",
        "BATCH_SIZE = 8\n",
        "LEARNING_RATE = 2e-4\n",
        "MAX_GRAD_CLIP_NORM = 0.5\n",
        "VALIDATE_EVERY = 100\n",
        "MAX_KNN_MEMORIES = BATCH_SIZE * 1 * SEQUENCE_LENGTH * SEGMENTS\n",
        "\n",
        "dataset = datasets.load_dataset(\"ccdv/arxiv-summarization\", split='train', streaming=True)\n",
        "raw_dataset = list(dataset.take(3500))\n",
        "\n",
        "def process_document(doc, chunk_size):\n",
        "    # Convert string to bytes then numpy array using frombuffer\n",
        "    byte_array = np.frombuffer(doc.encode('utf-8'), dtype=np.uint8)\n",
        "\n",
        "    # Calculate number of complete chunks we can make\n",
        "    num_complete_chunks = len(byte_array) // chunk_size\n",
        "    if num_complete_chunks == 0:\n",
        "        return None\n",
        "\n",
        "    # Truncate to fit complete chunks\n",
        "    truncated = byte_array[:num_complete_chunks * chunk_size]\n",
        "    return truncated.reshape(num_complete_chunks, chunk_size)\n",
        "\n",
        "# Process documents\n",
        "processed_chunks = []\n",
        "for article in raw_dataset:\n",
        "    doc = article['article']\n",
        "    if len(doc) > CHUNK_SIZE:  # Only process documents long enough\n",
        "        chunks = process_document(doc, CHUNK_SIZE)\n",
        "        if chunks is not None:\n",
        "            processed_chunks.append(chunks)\n",
        "\n",
        "# Stack all chunks into one array\n",
        "all_chunks = np.vstack(processed_chunks)\n",
        "\n",
        "# Convert to tensor\n",
        "processed_data = torch.tensor(all_chunks, dtype=torch.long)\n",
        "\n",
        "# Split into train/val/test\n",
        "eighty_split = int(processed_data.shape[0] * .8)\n",
        "ninety_split = int(processed_data.shape[0] * .9)\n",
        "\n",
        "train_loader = iter(DataLoader(processed_data[:eighty_split], batch_size=BATCH_SIZE, shuffle=True))\n",
        "val_loader = iter(DataLoader(processed_data[eighty_split:ninety_split], batch_size=BATCH_SIZE, shuffle=True))\n",
        "test_loader = iter(DataLoader(processed_data[ninety_split:], batch_size=BATCH_SIZE, shuffle=True))\n",
        "\n",
        "# CHANGES:\n",
        "# Replaced np.fromstring with np.frombuffer to handle string encoding properly\n",
        "# Created a process_document function that:\n",
        "# Properly converts text to byte array\n",
        "#  - Ensures uniform chunk sizes\n",
        "#  - Reshapes data into proper dimensions\n",
        "# Used np.vstack instead of np.array to combine chunks\n",
        "# Added proper filtering for document length\n",
        "# Simplified the preprocessing pipeline"
      ],
      "metadata": {
        "colab": {
          "base_uri": "https://localhost:8080/",
          "height": 176,
          "referenced_widgets": [
            "038fa6baa3d3409397f9d592ac87daf0",
            "005b926782e9423da23b7065a3f7e6ff",
            "68a261ba4ded43779832f6f39961988d",
            "590284a6a50a44b688e709be73bfb59c",
            "1245b37515ea4051a91c08a11914bc27",
            "5e9f7dfc2db349bd87a598adffc59684",
            "8dbbfa73aa004d6898d923453ccb8470",
            "2515ac3ca4b04185bd7efb831e5afb9a",
            "84678b8439ec43cab50280b2f33ea5a8",
            "55362f36798c4c158a64b22457540f3f",
            "554f266b9f934a0dab5ef5e950a43a5a"
          ]
        },
        "id": "PxEbU2e31FqM",
        "outputId": "1d2cb341-e70a-48a7-9113-20dc17699ea1"
      },
      "execution_count": 6,
      "outputs": [
        {
          "output_type": "stream",
          "name": "stderr",
          "text": [
            "/usr/local/lib/python3.10/dist-packages/huggingface_hub/utils/_auth.py:94: UserWarning: \n",
            "The secret `HF_TOKEN` does not exist in your Colab secrets.\n",
            "To authenticate with the Hugging Face Hub, create a token in your settings tab (https://huggingface.co/settings/tokens), set it as secret in your Google Colab and restart your session.\n",
            "You will be able to reuse this secret in all of your notebooks.\n",
            "Please note that authentication is recommended but still optional to access public models or datasets.\n",
            "  warnings.warn(\n"
          ]
        },
        {
          "output_type": "display_data",
          "data": {
            "text/plain": [
              "README.md:   0%|          | 0.00/3.96k [00:00<?, ?B/s]"
            ],
            "application/vnd.jupyter.widget-view+json": {
              "version_major": 2,
              "version_minor": 0,
              "model_id": "038fa6baa3d3409397f9d592ac87daf0"
            }
          },
          "metadata": {}
        }
      ]
    },
    {
      "cell_type": "code",
      "source": [
        "\n",
        "\n",
        "model = MemorizingTransformer(embedding_dimension = 128,\n",
        "                              vocab_size = 128,\n",
        "                              max_knn_memories = MAX_KNN_MEMORIES)\n",
        "\n",
        "optim = torch.optim.Adam(model.parameters(), lr = LEARNING_RATE)\n",
        "model.train()\n",
        "\n",
        "\n",
        "for i in tqdm.tqdm(range(200), mininterval = 10., desc = 'training'):\n",
        "\n",
        "    model.train()\n",
        "    train_loss = 0.\n",
        "\n",
        "    # Clear XL memories\n",
        "    xl_memories = None\n",
        "\n",
        "    # Clear KNN memory\n",
        "    model.knn.clear()\n",
        "\n",
        "    data = next(train_loader)\n",
        "    seq, labels = data[:, :-1], data[:, 1:]\n",
        "\n",
        "\n",
        "    # Each pass will be (BATCH_SIZE * SEGMENTS) iterations\n",
        "    for seq_segment, labels_segment in zip(seq.chunk(SEGMENTS, dim = -1), labels.chunk(SEGMENTS, dim = -1)):\n",
        "\n",
        "        loss, xl_memories = model(\n",
        "            seq_segment,\n",
        "            labels = labels_segment,\n",
        "            xl_memories = xl_memories\n",
        "        )\n",
        "\n",
        "        train_loss += loss.item() / SEGMENTS\n",
        "        (loss / SEGMENTS).backward()\n",
        "        print (\"segment complete\")\n",
        "\n",
        "\n",
        "    print(f'training loss: {train_loss}')\n",
        "    torch.nn.utils.clip_grad_norm_(model.parameters(), MAX_GRAD_CLIP_NORM)\n",
        "    optim.step()\n",
        "    optim.zero_grad()\n",
        "\n",
        "\n",
        "    if not (i % VALIDATE_EVERY):\n",
        "        model.eval()\n",
        "\n",
        "        valid_data = next(val_loader)\n",
        "        valid_loss = 0.\n",
        "\n",
        "        with torch.no_grad():\n",
        "            xl_memories = None\n",
        "            model.knn.clear()\n",
        "            seq, labels = data[:, :-1], data[:, 1:]\n",
        "\n",
        "            for seq_segment, labels_segment in zip(seq.chunk(SEGMENTS, dim = -1), labels.chunk(SEGMENTS, dim = -1)):\n",
        "\n",
        "                loss, xl_memories = model(\n",
        "                    seq_segment,\n",
        "                    labels = labels_segment,\n",
        "                    xl_memories = xl_memories\n",
        "                )\n",
        "\n",
        "                valid_loss += loss.item() / SEGMENTS\n",
        "\n",
        "        print(f'valid loss: {valid_loss}')"
      ],
      "metadata": {
        "colab": {
          "base_uri": "https://localhost:8080/",
          "height": 454
        },
        "id": "FMeWhG2p2Cko",
        "outputId": "94262081-d368-40a2-d5f2-138f32047374"
      },
      "execution_count": 23,
      "outputs": [
        {
          "output_type": "stream",
          "name": "stderr",
          "text": [
            "\rtraining:   0%|          | 0/200 [00:00<?, ?it/s]"
          ]
        },
        {
          "output_type": "stream",
          "name": "stdout",
          "text": [
            "segment complete\n",
            "segment complete\n",
            "segment complete\n",
            "segment complete\n"
          ]
        },
        {
          "output_type": "stream",
          "name": "stderr",
          "text": [
            "\rtraining:   0%|          | 0/200 [01:42<?, ?it/s]\n"
          ]
        },
        {
          "output_type": "error",
          "ename": "KeyboardInterrupt",
          "evalue": "",
          "traceback": [
            "\u001b[0;31m---------------------------------------------------------------------------\u001b[0m",
            "\u001b[0;31mKeyboardInterrupt\u001b[0m                         Traceback (most recent call last)",
            "\u001b[0;32m<ipython-input-23-be69f063af05>\u001b[0m in \u001b[0;36m<cell line: 9>\u001b[0;34m()\u001b[0m\n\u001b[1;32m     32\u001b[0m \u001b[0;34m\u001b[0m\u001b[0m\n\u001b[1;32m     33\u001b[0m         \u001b[0mtrain_loss\u001b[0m \u001b[0;34m+=\u001b[0m \u001b[0mloss\u001b[0m\u001b[0;34m.\u001b[0m\u001b[0mitem\u001b[0m\u001b[0;34m(\u001b[0m\u001b[0;34m)\u001b[0m \u001b[0;34m/\u001b[0m \u001b[0mSEGMENTS\u001b[0m\u001b[0;34m\u001b[0m\u001b[0;34m\u001b[0m\u001b[0m\n\u001b[0;32m---> 34\u001b[0;31m         \u001b[0;34m(\u001b[0m\u001b[0mloss\u001b[0m \u001b[0;34m/\u001b[0m \u001b[0mSEGMENTS\u001b[0m\u001b[0;34m)\u001b[0m\u001b[0;34m.\u001b[0m\u001b[0mbackward\u001b[0m\u001b[0;34m(\u001b[0m\u001b[0;34m)\u001b[0m\u001b[0;34m\u001b[0m\u001b[0;34m\u001b[0m\u001b[0m\n\u001b[0m\u001b[1;32m     35\u001b[0m         \u001b[0mprint\u001b[0m \u001b[0;34m(\u001b[0m\u001b[0;34m\"segment complete\"\u001b[0m\u001b[0;34m)\u001b[0m\u001b[0;34m\u001b[0m\u001b[0;34m\u001b[0m\u001b[0m\n\u001b[1;32m     36\u001b[0m \u001b[0;34m\u001b[0m\u001b[0m\n",
            "\u001b[0;32m/usr/local/lib/python3.10/dist-packages/torch/_tensor.py\u001b[0m in \u001b[0;36mbackward\u001b[0;34m(self, gradient, retain_graph, create_graph, inputs)\u001b[0m\n\u001b[1;32m    579\u001b[0m                 \u001b[0minputs\u001b[0m\u001b[0;34m=\u001b[0m\u001b[0minputs\u001b[0m\u001b[0;34m,\u001b[0m\u001b[0;34m\u001b[0m\u001b[0;34m\u001b[0m\u001b[0m\n\u001b[1;32m    580\u001b[0m             )\n\u001b[0;32m--> 581\u001b[0;31m         torch.autograd.backward(\n\u001b[0m\u001b[1;32m    582\u001b[0m             \u001b[0mself\u001b[0m\u001b[0;34m,\u001b[0m \u001b[0mgradient\u001b[0m\u001b[0;34m,\u001b[0m \u001b[0mretain_graph\u001b[0m\u001b[0;34m,\u001b[0m \u001b[0mcreate_graph\u001b[0m\u001b[0;34m,\u001b[0m \u001b[0minputs\u001b[0m\u001b[0;34m=\u001b[0m\u001b[0minputs\u001b[0m\u001b[0;34m\u001b[0m\u001b[0;34m\u001b[0m\u001b[0m\n\u001b[1;32m    583\u001b[0m         )\n",
            "\u001b[0;32m/usr/local/lib/python3.10/dist-packages/torch/autograd/__init__.py\u001b[0m in \u001b[0;36mbackward\u001b[0;34m(tensors, grad_tensors, retain_graph, create_graph, grad_variables, inputs)\u001b[0m\n\u001b[1;32m    345\u001b[0m     \u001b[0;31m# some Python versions print out the first line of a multi-line function\u001b[0m\u001b[0;34m\u001b[0m\u001b[0;34m\u001b[0m\u001b[0m\n\u001b[1;32m    346\u001b[0m     \u001b[0;31m# calls in the traceback and some print out the last line\u001b[0m\u001b[0;34m\u001b[0m\u001b[0;34m\u001b[0m\u001b[0m\n\u001b[0;32m--> 347\u001b[0;31m     _engine_run_backward(\n\u001b[0m\u001b[1;32m    348\u001b[0m         \u001b[0mtensors\u001b[0m\u001b[0;34m,\u001b[0m\u001b[0;34m\u001b[0m\u001b[0;34m\u001b[0m\u001b[0m\n\u001b[1;32m    349\u001b[0m         \u001b[0mgrad_tensors_\u001b[0m\u001b[0;34m,\u001b[0m\u001b[0;34m\u001b[0m\u001b[0;34m\u001b[0m\u001b[0m\n",
            "\u001b[0;32m/usr/local/lib/python3.10/dist-packages/torch/autograd/graph.py\u001b[0m in \u001b[0;36m_engine_run_backward\u001b[0;34m(t_outputs, *args, **kwargs)\u001b[0m\n\u001b[1;32m    823\u001b[0m         \u001b[0munregister_hooks\u001b[0m \u001b[0;34m=\u001b[0m \u001b[0m_register_logging_hooks_on_whole_graph\u001b[0m\u001b[0;34m(\u001b[0m\u001b[0mt_outputs\u001b[0m\u001b[0;34m)\u001b[0m\u001b[0;34m\u001b[0m\u001b[0;34m\u001b[0m\u001b[0m\n\u001b[1;32m    824\u001b[0m     \u001b[0;32mtry\u001b[0m\u001b[0;34m:\u001b[0m\u001b[0;34m\u001b[0m\u001b[0;34m\u001b[0m\u001b[0m\n\u001b[0;32m--> 825\u001b[0;31m         return Variable._execution_engine.run_backward(  # Calls into the C++ engine to run the backward pass\n\u001b[0m\u001b[1;32m    826\u001b[0m             \u001b[0mt_outputs\u001b[0m\u001b[0;34m,\u001b[0m \u001b[0;34m*\u001b[0m\u001b[0margs\u001b[0m\u001b[0;34m,\u001b[0m \u001b[0;34m**\u001b[0m\u001b[0mkwargs\u001b[0m\u001b[0;34m\u001b[0m\u001b[0;34m\u001b[0m\u001b[0m\n\u001b[1;32m    827\u001b[0m         )  # Calls into the C++ engine to run the backward pass\n",
            "\u001b[0;31mKeyboardInterrupt\u001b[0m: "
          ]
        }
      ]
    },
    {
      "cell_type": "code",
      "source": [
        "import torch\n",
        "from torch import nn\n",
        "import torch.optim as optim\n",
        "import torch.nn.functional as F\n",
        "from torch.utils.data import DataLoader, Dataset\n",
        "import numpy as np\n",
        "import math\n",
        "import os\n",
        "import random\n",
        "import tqdm\n",
        "import gzip\n",
        "import time\n",
        "\n",
        "!pip install einops\n",
        "from einops import rearrange, repeat, pack, unpack, einsum\n",
        "from einops.layers.torch import Rearrange\n",
        "\n",
        "\n",
        "from functools import partial, wraps\n",
        "from contextlib import contextmanager, ExitStack\n",
        "from pathlib import Path\n",
        "from filelock import FileLock\n",
        "import pickle\n",
        "\n",
        "import transformers\n",
        "from transformers import AutoTokenizer\n",
        "\n",
        "!pip install faiss-gpu\n",
        "import faiss\n",
        "\n",
        "!pip install datasets\n",
        "import datasets"
      ],
      "metadata": {
        "colab": {
          "base_uri": "https://localhost:8080/"
        },
        "id": "RzbqR2Jm6rk9",
        "outputId": "a90246ab-acb6-4323-8b32-6e9476e089dd"
      },
      "execution_count": 13,
      "outputs": [
        {
          "output_type": "stream",
          "name": "stdout",
          "text": [
            "Requirement already satisfied: einops in /usr/local/lib/python3.10/dist-packages (0.8.0)\n",
            "Requirement already satisfied: faiss-gpu in /usr/local/lib/python3.10/dist-packages (1.7.2)\n",
            "Requirement already satisfied: datasets in /usr/local/lib/python3.10/dist-packages (3.2.0)\n",
            "Requirement already satisfied: filelock in /usr/local/lib/python3.10/dist-packages (from datasets) (3.16.1)\n",
            "Requirement already satisfied: numpy>=1.17 in /usr/local/lib/python3.10/dist-packages (from datasets) (1.26.4)\n",
            "Requirement already satisfied: pyarrow>=15.0.0 in /usr/local/lib/python3.10/dist-packages (from datasets) (17.0.0)\n",
            "Requirement already satisfied: dill<0.3.9,>=0.3.0 in /usr/local/lib/python3.10/dist-packages (from datasets) (0.3.8)\n",
            "Requirement already satisfied: pandas in /usr/local/lib/python3.10/dist-packages (from datasets) (2.2.2)\n",
            "Requirement already satisfied: requests>=2.32.2 in /usr/local/lib/python3.10/dist-packages (from datasets) (2.32.3)\n",
            "Requirement already satisfied: tqdm>=4.66.3 in /usr/local/lib/python3.10/dist-packages (from datasets) (4.67.1)\n",
            "Requirement already satisfied: xxhash in /usr/local/lib/python3.10/dist-packages (from datasets) (3.5.0)\n",
            "Requirement already satisfied: multiprocess<0.70.17 in /usr/local/lib/python3.10/dist-packages (from datasets) (0.70.16)\n",
            "Requirement already satisfied: fsspec<=2024.9.0,>=2023.1.0 in /usr/local/lib/python3.10/dist-packages (from fsspec[http]<=2024.9.0,>=2023.1.0->datasets) (2024.9.0)\n",
            "Requirement already satisfied: aiohttp in /usr/local/lib/python3.10/dist-packages (from datasets) (3.11.11)\n",
            "Requirement already satisfied: huggingface-hub>=0.23.0 in /usr/local/lib/python3.10/dist-packages (from datasets) (0.27.1)\n",
            "Requirement already satisfied: packaging in /usr/local/lib/python3.10/dist-packages (from datasets) (24.2)\n",
            "Requirement already satisfied: pyyaml>=5.1 in /usr/local/lib/python3.10/dist-packages (from datasets) (6.0.2)\n",
            "Requirement already satisfied: aiohappyeyeballs>=2.3.0 in /usr/local/lib/python3.10/dist-packages (from aiohttp->datasets) (2.4.4)\n",
            "Requirement already satisfied: aiosignal>=1.1.2 in /usr/local/lib/python3.10/dist-packages (from aiohttp->datasets) (1.3.2)\n",
            "Requirement already satisfied: async-timeout<6.0,>=4.0 in /usr/local/lib/python3.10/dist-packages (from aiohttp->datasets) (4.0.3)\n",
            "Requirement already satisfied: attrs>=17.3.0 in /usr/local/lib/python3.10/dist-packages (from aiohttp->datasets) (24.3.0)\n",
            "Requirement already satisfied: frozenlist>=1.1.1 in /usr/local/lib/python3.10/dist-packages (from aiohttp->datasets) (1.5.0)\n",
            "Requirement already satisfied: multidict<7.0,>=4.5 in /usr/local/lib/python3.10/dist-packages (from aiohttp->datasets) (6.1.0)\n",
            "Requirement already satisfied: propcache>=0.2.0 in /usr/local/lib/python3.10/dist-packages (from aiohttp->datasets) (0.2.1)\n",
            "Requirement already satisfied: yarl<2.0,>=1.17.0 in /usr/local/lib/python3.10/dist-packages (from aiohttp->datasets) (1.18.3)\n",
            "Requirement already satisfied: typing-extensions>=3.7.4.3 in /usr/local/lib/python3.10/dist-packages (from huggingface-hub>=0.23.0->datasets) (4.12.2)\n",
            "Requirement already satisfied: charset-normalizer<4,>=2 in /usr/local/lib/python3.10/dist-packages (from requests>=2.32.2->datasets) (3.4.1)\n",
            "Requirement already satisfied: idna<4,>=2.5 in /usr/local/lib/python3.10/dist-packages (from requests>=2.32.2->datasets) (3.10)\n",
            "Requirement already satisfied: urllib3<3,>=1.21.1 in /usr/local/lib/python3.10/dist-packages (from requests>=2.32.2->datasets) (2.3.0)\n",
            "Requirement already satisfied: certifi>=2017.4.17 in /usr/local/lib/python3.10/dist-packages (from requests>=2.32.2->datasets) (2024.12.14)\n",
            "Requirement already satisfied: python-dateutil>=2.8.2 in /usr/local/lib/python3.10/dist-packages (from pandas->datasets) (2.8.2)\n",
            "Requirement already satisfied: pytz>=2020.1 in /usr/local/lib/python3.10/dist-packages (from pandas->datasets) (2024.2)\n",
            "Requirement already satisfied: tzdata>=2022.7 in /usr/local/lib/python3.10/dist-packages (from pandas->datasets) (2024.2)\n",
            "Requirement already satisfied: six>=1.5 in /usr/local/lib/python3.10/dist-packages (from python-dateutil>=2.8.2->pandas->datasets) (1.17.0)\n"
          ]
        }
      ]
    },
    {
      "cell_type": "code",
      "source": [
        "!nvidia-smi"
      ],
      "metadata": {
        "colab": {
          "base_uri": "https://localhost:8080/"
        },
        "id": "n1KSke0O3NIq",
        "outputId": "a5277ac4-fb99-47c7-9c7a-61526a4990e9"
      },
      "execution_count": 14,
      "outputs": [
        {
          "output_type": "stream",
          "name": "stdout",
          "text": [
            "Wed Jan  8 21:56:05 2025       \n",
            "+---------------------------------------------------------------------------------------+\n",
            "| NVIDIA-SMI 535.104.05             Driver Version: 535.104.05   CUDA Version: 12.2     |\n",
            "|-----------------------------------------+----------------------+----------------------+\n",
            "| GPU  Name                 Persistence-M | Bus-Id        Disp.A | Volatile Uncorr. ECC |\n",
            "| Fan  Temp   Perf          Pwr:Usage/Cap |         Memory-Usage | GPU-Util  Compute M. |\n",
            "|                                         |                      |               MIG M. |\n",
            "|=========================================+======================+======================|\n",
            "|   0  Tesla T4                       Off | 00000000:00:04.0 Off |                    0 |\n",
            "| N/A   45C    P0              27W /  70W |    119MiB / 15360MiB |      0%      Default |\n",
            "|                                         |                      |                  N/A |\n",
            "+-----------------------------------------+----------------------+----------------------+\n",
            "                                                                                         \n",
            "+---------------------------------------------------------------------------------------+\n",
            "| Processes:                                                                            |\n",
            "|  GPU   GI   CI        PID   Type   Process name                            GPU Memory |\n",
            "|        ID   ID                                                             Usage      |\n",
            "|=======================================================================================|\n",
            "+---------------------------------------------------------------------------------------+\n"
          ]
        }
      ]
    },
    {
      "cell_type": "code",
      "source": [
        "device = torch.device(\"cuda\" if torch.cuda.is_available() else \"cpu\")"
      ],
      "metadata": {
        "id": "VNrfmkDX6B7r"
      },
      "execution_count": 15,
      "outputs": []
    },
    {
      "cell_type": "code",
      "source": [
        "class RelativePosition(nn.Module):\n",
        "  def __init__(\n",
        "      self,\n",
        "      rp_scale,\n",
        "      num_buckets = 32,\n",
        "      rp_max_distance = 128,\n",
        "      heads = 8\n",
        "  ):\n",
        "      super().__init__()\n",
        "      self.scale = rp_scale\n",
        "      self.num_buckets = num_buckets\n",
        "      self.rp_max_distance = rp_max_distance\n",
        "      self.relative_attention_embedding = nn.Embedding(num_buckets, heads)\n",
        "\n",
        "  def relative_position_bucket(self, relative_position_matrix):\n",
        "      n = -relative_position_matrix\n",
        "      n = torch.max(n, torch.zeros_like(n))\n",
        "\n",
        "      max_exact = self.num_buckets // 2\n",
        "\n",
        "      is_small = n < max_exact\n",
        "      val_if_large = max_exact + (torch.log(n.float() / max_exact) / math.log(self.rp_max_distance / max_exact) * (self.num_buckets - max_exact)).long()\n",
        "      val_if_large = torch.min(val_if_large, torch.full_like(val_if_large, self.num_buckets - 1))\n",
        "\n",
        "      return torch.where(is_small, n, val_if_large)\n",
        "\n",
        "  def forward(self, sequence_length, device):\n",
        "\n",
        "      sequence_pos = torch.arange(sequence_length, dtype=torch.long, device=device) ##########\n",
        "      context_pos = torch.arange(2 * sequence_length, dtype=torch.long, device=device) ###########\n",
        "      sequence_rel_pos = rearrange(sequence_pos, 'i -> i 1')\n",
        "      context_rel_pos = rearrange(context_pos, 'j -> 1 j')\n",
        "      rel_pos = context_rel_pos - sequence_rel_pos\n",
        "\n",
        "      position_bucket_indices = self.relative_position_bucket(rel_pos)\n",
        "\n",
        "      rp_values = self.relative_attention_embedding(position_bucket_indices)\n",
        "      rp_values = rearrange(rp_values, 'i j h -> () h i j')\n",
        "      return rp_values * self.scale\n",
        "\n",
        "\n",
        "\n",
        "class KNN():\n",
        "    def __init__(\n",
        "        self,\n",
        "        dim,\n",
        "        max_memories,\n",
        "        ):\n",
        "        self.dim = dim\n",
        "        self.max_memories = max_memories\n",
        "        self.shape = (max_memories, 2, dim)\n",
        "        self.db_offset = 0\n",
        "        self.db_filepath = \"./memory.memmap\"\n",
        "        self.db = np.memmap(self.db_filepath, mode = 'w+', dtype = np.float32, shape = self.shape)\n",
        "        self.index = faiss.IndexFlatL2(dim)\n",
        "\n",
        "\n",
        "    def add_to_db(self, new_data):\n",
        "        new_data_len = new_data.shape[0]\n",
        "        ids = (np.arange(new_data_len) + self.db_offset)\n",
        "        self.db[ids] = new_data.detach().cpu().numpy() #######\n",
        "        self.db_offset += new_data_len\n",
        "        # Write to file\n",
        "        self.db.flush()\n",
        "\n",
        "\n",
        "    def search_and_retrieve(self, query_vecs, topk):\n",
        "        query_vecs = query_vecs\n",
        "        distances, indices = self.index.search(query_vecs, topk)\n",
        "        kvs = self.db[indices]\n",
        "        return kvs\n",
        "\n",
        "    def add(self, new_data):\n",
        "        # Input is b n 2 d, flatten to (b n) 2 d\n",
        "        new_data = new_data.flatten(0,1)\n",
        "        # Add to db\n",
        "        self.add_to_db(new_data)\n",
        "        # Only keys are used in knn index\n",
        "        keys, vals = new_data.unbind(dim=-2)\n",
        "        keys = keys.detach().cpu().numpy() ######\n",
        "        # Add (b n) d tensors to index\n",
        "        keys = np.ascontiguousarray(keys)\n",
        "        # Add to index\n",
        "        self.index.add(keys)\n",
        "\n",
        "    def search(self, query_vecs, topk):\n",
        "        query_batch_size, query_seq_len = query_vecs.shape[0], query_vecs.shape[1]\n",
        "        device = query_vecs.device ######\n",
        "        # Input is b n d, flatten to (b n) d\n",
        "        query_vecs = query_vecs.flatten(0,1)\n",
        "        kvs = self.search_and_retrieve(np.ascontiguousarray(query_vecs.detach().cpu().numpy()), topk) ######\n",
        "        # kvs are (b n) k 2 d, unflatten to b n k 2 d\n",
        "        kvs = torch.tensor(kvs)\n",
        "        kvs = torch.unflatten(kvs, 0, (query_batch_size, query_seq_len))\n",
        "        return kvs.to(device)\n",
        "\n",
        "    def clear(self):\n",
        "        self.index.reset()\n",
        "        self.db[:] = 0\n",
        "        self.db_offset = 0\n",
        "\n",
        "\n",
        "class XLAttention(nn.Module):\n",
        "    def __init__(\n",
        "        self,\n",
        "        embedding_dimension,\n",
        "        heads = 8,\n",
        "        head_dimension = 64,\n",
        "        dropout = 0.,\n",
        "    ):\n",
        "        super().__init__()\n",
        "        self.heads = heads\n",
        "        self.dropout = nn.Dropout(dropout)\n",
        "        self.scale = head_dimension ** -0.5\n",
        "\n",
        "        self.query_matrix = nn.Linear(embedding_dimension, self.heads * head_dimension)\n",
        "        self.key_matrix = nn.Linear(embedding_dimension, self.heads * head_dimension)\n",
        "        self.value_matrix = nn.Linear(embedding_dimension, self.heads * head_dimension)\n",
        "        self.output_matrix = nn.Linear(self.heads * head_dimension, embedding_dimension)\n",
        "\n",
        "    def forward(\n",
        "        self,\n",
        "        x, # batch_size, sequence_length, embedding_dimension\n",
        "        relative_positions = None,\n",
        "        xl_memory = None\n",
        "    ):\n",
        "\n",
        "        device = x.device ##########\n",
        "        queries = self.query_matrix(x)\n",
        "        keys = self.key_matrix(x)\n",
        "        values = self.value_matrix(x)\n",
        "\n",
        "        queries = queries * self.scale\n",
        "\n",
        "        if xl_memory is not None:\n",
        "            k_xl, v_xl = xl_memory.unbind(dim = -2) # assume stacked\n",
        "            keys = torch.cat((k_xl, keys), dim = -2) # prepend XL memory\n",
        "            values = torch.cat((v_xl, values), dim = -2) # prepend XL memory\n",
        "            xl_sequence_length = k_xl.shape[1]\n",
        "\n",
        "        queries = rearrange(queries, 'b t (h d) -> b h t d', h = self.heads)\n",
        "        keys    = rearrange(keys, 'b t (h d) -> b h t d', h = self.heads)\n",
        "        qk      = einsum(queries, keys, 'b h i d, b h j d -> b h i j')\n",
        "\n",
        "        i, j = qk.shape[-2:]\n",
        "        if relative_positions is not None:\n",
        "            qk = relative_positions[..., -i:, -j:] + qk\n",
        "\n",
        "        qk = qk * self.scale\n",
        "\n",
        "        mask = torch.ones((i,j), dtype = torch.bool, device=device).triu(j-i+1) ########\n",
        "        qk = qk.masked_fill(mask, float('-inf'))\n",
        "\n",
        "        qk = F.softmax(qk, dim=-1)\n",
        "        qk = self.dropout(qk)\n",
        "\n",
        "        values = rearrange(values, 'b t (h d) -> b h t d', h=self.heads)\n",
        "        qkv = qk@values\n",
        "        qkv = rearrange(qkv, 'b h t d -> b t (h d)')\n",
        "\n",
        "        out = self.output_matrix(qkv)\n",
        "\n",
        "        # new XL memories\n",
        "\n",
        "        keys = rearrange(keys, 'b h t d -> b t (h d)', h = self.heads)\n",
        "        values = rearrange(values, 'b h t d -> b t (h d)', h=self.heads)\n",
        "        kv_memories = torch.stack((keys, values), dim=-2) # (batch, sequence_len, 2, dimension)\n",
        "\n",
        "\n",
        "        if xl_memory is not None:\n",
        "            xl_memories, current_input = kv_memories[:, :-xl_sequence_length], kv_memories[:, -xl_sequence_length:]\n",
        "            kv_to_add_xl = current_input\n",
        "        else:\n",
        "            kv_to_add_xl = kv_memories\n",
        "\n",
        "        return out, kv_to_add_xl\n",
        "\n",
        "\n",
        "\n",
        "class KNNAttention(nn.Module):\n",
        "    def __init__(\n",
        "        self,\n",
        "        embedding_dimension,\n",
        "        knn,\n",
        "        heads = 8,\n",
        "        head_dimension = 64,\n",
        "        topk_retrieved_memories = 3,\n",
        "        dropout = 0.\n",
        "    ):\n",
        "        super().__init__()\n",
        "        self.heads = heads\n",
        "        self.scale = head_dimension ** -0.5\n",
        "        self.dropout = nn.Dropout(dropout)\n",
        "\n",
        "        self.query_matrix = nn.Linear(embedding_dimension, heads * head_dimension)\n",
        "        self.key_matrix = nn.Linear(embedding_dimension, heads * head_dimension)\n",
        "        self.value_matrix = nn.Linear(embedding_dimension, heads * head_dimension)\n",
        "        self.output_matrix = nn.Linear(heads * head_dimension, embedding_dimension)\n",
        "\n",
        "        self.gate_bias = nn.Parameter(torch.randn(self.heads, 1, 1))\n",
        "        self.topk_retrieved_memories = topk_retrieved_memories\n",
        "        self.knn = knn\n",
        "\n",
        "    def forward(\n",
        "        self,\n",
        "        x, # batch_size, sequence_length, embedding_dimension\n",
        "        relative_positions = None,\n",
        "        xl_memory = None\n",
        "    ):\n",
        "\n",
        "        device = x.device ########\n",
        "        batch_size, sequence_length = x.shape[:2]\n",
        "        queries = self.query_matrix(x)\n",
        "        keys = self.key_matrix(x)\n",
        "        values = self.value_matrix(x)\n",
        "\n",
        "        queries = F.normalize(queries, dim=-1)\n",
        "        keys = F.normalize(keys, dim=-1)\n",
        "\n",
        "        if xl_memory is not None:\n",
        "            k_xl, v_xl = xl_memory.unbind(dim = -2) # unstack\n",
        "            keys = torch.cat((k_xl, keys), dim = -2) # prepend XL memory\n",
        "            values = torch.cat((v_xl, values), dim = -2) # prepend XL memory\n",
        "            xl_sequence_length = k_xl.shape[1]\n",
        "\n",
        "        ### LOCAL ATTENTION\n",
        "\n",
        "        queries = rearrange(queries, 'b t (h d) -> b h t d', h = self.heads)\n",
        "        keys    = rearrange(keys, 'b t (h d) -> b h t d', h = self.heads)\n",
        "        qk      = einsum(queries, keys, 'b h i d, b h j d -> b h i j')\n",
        "\n",
        "        i, j = qk.shape[-2:]\n",
        "        if relative_positions is not None:\n",
        "            qk = relative_positions[..., -i:, -j:] + qk\n",
        "\n",
        "        qk = qk * self.scale\n",
        "\n",
        "        mask = torch.ones((i,j), dtype = torch.bool, device=device).triu(j-i+1) ########\n",
        "        qk = qk.masked_fill(mask, float('-inf'))\n",
        "\n",
        "        qk = F.softmax(qk, dim=-1)\n",
        "\n",
        "        qk = self.dropout(qk)\n",
        "\n",
        "        values = rearrange(values, 'b t (h d) -> b h t d', h=self.heads)\n",
        "        qkv = qk@values\n",
        "\n",
        "        ### KNN ATTENTION\n",
        "\n",
        "        # If there are knn memories (we're not on the first segment) then perform knn attention\n",
        "        if self.knn.index.ntotal > 0:\n",
        "            t1 = time.time()\n",
        "            print (\"Begin KNN operations\")\n",
        "            # Convert queries to search form\n",
        "            queries = rearrange(queries, 'b h t d -> b t (h d)')\n",
        "            mem_kv = self.knn.search(queries, topk = self.topk_retrieved_memories) # returns b t k 2 d\n",
        "            mem_k, mem_v = mem_kv.unbind(dim = -2)\n",
        "            mem_k = rearrange(mem_k, 'b t k (h d) -> b h t k d', h=self.heads)\n",
        "            mem_v = rearrange(mem_v, 'b t k (h d) -> b h t k d', h=self.heads)\n",
        "\n",
        "            # Convert queries to attention form\n",
        "            queries = rearrange(queries, 'b t (h d) -> b h t d', h = self.heads)\n",
        "            mem_qk = einsum(queries, mem_k, 'b h t d, b h t k d -> b h t k')\n",
        "            mem_qk = mem_qk * self.scale\n",
        "\n",
        "            mem_qk = F.softmax(mem_qk, dim=-1)\n",
        "            mem_qk = self.dropout(mem_qk)\n",
        "            mem_qkv = einsum(mem_qk, mem_v, 'b h t k, b h t k d -> b h t d')\n",
        "\n",
        "            # Combined attentions\n",
        "\n",
        "            combined_qkv = mem_qkv * self.gate_bias + qkv * (1 - self.gate_bias)\n",
        "            combined_qkv = rearrange(combined_qkv, 'b h t d -> b t (h d)')\n",
        "            out = self.output_matrix(combined_qkv)\n",
        "            t2 = time.time()\n",
        "            print (\"End KNN operations, time taken:\", t2-t1)\n",
        "\n",
        "        else:\n",
        "            qkv = rearrange(qkv, 'b h t d -> b t (h d)')\n",
        "            out = self.output_matrix(qkv)\n",
        "\n",
        "        # New XL memories\n",
        "        keys = rearrange(keys, 'b h t d -> b t (h d)', h = self.heads)\n",
        "        values = rearrange(values, 'b h t d -> b t (h d)', h=self.heads)\n",
        "        kv_memories = torch.stack((keys, values), dim=-2) # (batch, sequence_len, 2, dimension)\n",
        "\n",
        "        if xl_memory is not None:\n",
        "            # if we're on a middle/end segment of a document (there are previous XL memories)\n",
        "            xl_memories, current_kv = kv_memories[:, :-xl_sequence_length], kv_memories[:, -xl_sequence_length:]\n",
        "        else:\n",
        "            # if we're at the first segment\n",
        "            current_kv = kv_memories\n",
        "\n",
        "        self.knn.add(current_kv)\n",
        "\n",
        "        return out, current_kv\n",
        "\n",
        "\n",
        "class Block(nn.Module):\n",
        "    def __init__(self, embedding_dimension, attention_type, dropout=0.):\n",
        "        super().__init__()\n",
        "        self.attention = attention_type\n",
        "        self.dim = embedding_dimension\n",
        "        self.norm = nn.LayerNorm(self.dim)\n",
        "\n",
        "        self.ff_block = nn.Sequential(\n",
        "            nn.LayerNorm(self.dim),\n",
        "            nn.Linear(self.dim, self.dim * 4),\n",
        "            nn.GELU(),\n",
        "            nn.Dropout(dropout),\n",
        "            nn.Linear(self.dim * 4, self.dim))\n",
        "\n",
        "    def forward(self, x, xl_memories, rel_pos):\n",
        "        residual = x\n",
        "        #norm = nn.LayerNorm(self.dim) #########\n",
        "        attn_out = self.norm(x)\n",
        "        attn_out, new_xl_memories = self.attention(attn_out, relative_positions=rel_pos, xl_memory=xl_memories)\n",
        "        attn_out += residual\n",
        "\n",
        "        residual = attn_out\n",
        "        ff_out = self.ff_block(attn_out)\n",
        "        ff_out += residual\n",
        "        return ff_out, new_xl_memories\n",
        "\n",
        "\n",
        "class MemorizingTransformer(nn.Module):\n",
        "    def __init__(\n",
        "        self,\n",
        "        embedding_dimension,\n",
        "        vocab_size,\n",
        "        max_knn_memories = 81920,\n",
        "        heads = 8,\n",
        "        depth = 10,\n",
        "        dropout = 0,\n",
        "        head_dimension = 64,\n",
        "        topk = 5,\n",
        "\n",
        "    ):\n",
        "        super().__init__()\n",
        "        self.heads = heads\n",
        "        self.embedding_dimension = embedding_dimension\n",
        "        self.dropout = dropout\n",
        "        self.depth = depth\n",
        "        self.head_dimension = head_dimension\n",
        "        self.max_knn_memories = max_knn_memories\n",
        "        self.topk = topk\n",
        "\n",
        "        ###########\n",
        "        self.rel_pos = RelativePosition(rp_scale = head_dimension** 0.5,\n",
        "                                        heads = self.heads)\n",
        "        self.rel_pos_knn = RelativePosition(rp_scale = head_dimension** 0.5,\n",
        "                                        heads = self.heads)\n",
        "        self.embedding_matrix = nn.Embedding(vocab_size, self.embedding_dimension)\n",
        "\n",
        "        self.knn = KNN(head_dimension * heads, self.max_knn_memories)\n",
        "\n",
        "\n",
        "\n",
        "        self.layers = nn.ModuleList([])\n",
        "        for i in range(self.depth):\n",
        "\n",
        "            if i == self.depth-2:\n",
        "                attention_type = KNNAttention(self.embedding_dimension,\n",
        "                            self.knn,\n",
        "                            heads = self.heads,\n",
        "                            head_dimension = self.head_dimension,\n",
        "                            dropout = self.dropout)\n",
        "            else:\n",
        "                attention_type = XLAttention(self.embedding_dimension,\n",
        "                            heads = self.heads,\n",
        "                            head_dimension = self.head_dimension,\n",
        "                            dropout = self.dropout)\n",
        "\n",
        "            self.layers.append(Block(self.embedding_dimension, attention_type))\n",
        "\n",
        "        self.to_logits = nn.Sequential(\n",
        "            nn.LayerNorm(self.embedding_dimension),\n",
        "            nn.Linear(self.embedding_dimension, vocab_size)\n",
        "        )\n",
        "\n",
        "\n",
        "    def forward(\n",
        "        self,\n",
        "        x,\n",
        "        relative_positions = None,\n",
        "        xl_memories = None,\n",
        "        labels = None,\n",
        "    ):\n",
        "\n",
        "        device = x.device ########\n",
        "        batch_size, sequence_length = x.shape[0], x.shape[1]\n",
        "\n",
        "        # Position values\n",
        "        rel_pos = self.rel_pos(sequence_length, device=device) ########\n",
        "        rel_pos_knn = self.rel_pos_knn(sequence_length, device=device) ########\n",
        "\n",
        "        # If no XL memories (start of a sequence) then None type for each layer.\n",
        "        # There is one set of XL memories for each layer\n",
        "        # xl_memories = default(xl_memories, (None,) * self.num_xl_memory_layers)\n",
        "        if xl_memories is not None:\n",
        "            xl_memories = xl_memories\n",
        "        else:\n",
        "            xl_memories = (None,) * self.depth\n",
        "\n",
        "        # Iterator\n",
        "        xl_memories_iter = iter(xl_memories)\n",
        "\n",
        "        # Embeddings\n",
        "        x = self.embedding_matrix(x)\n",
        "\n",
        "        # Store the XL memories for each pass\n",
        "        new_xl_memories = []\n",
        "\n",
        "        for ind, block in enumerate(self.layers):\n",
        "\n",
        "            if i == self.depth-2:\n",
        "                layer_rel_pos = rel_pos_knn\n",
        "            else:\n",
        "                layer_rel_pos = rel_pos\n",
        "\n",
        "            x, xl_mem = block(x, next(xl_memories_iter), layer_rel_pos)\n",
        "\n",
        "            if xl_mem is not None:\n",
        "                ############\n",
        "                new_xl_memories.append(xl_mem.detach())\n",
        "\n",
        "\n",
        "\n",
        "        logits = self.to_logits(x)\n",
        "\n",
        "        # Training\n",
        "        loss = F.cross_entropy(rearrange(logits, 'b n c -> b c n'), labels)\n",
        "        if len(new_xl_memories) > 0:\n",
        "            return loss, new_xl_memories\n",
        "        return loss"
      ],
      "metadata": {
        "id": "pJcwfLaZ6Iq7"
      },
      "execution_count": 16,
      "outputs": []
    },
    {
      "cell_type": "code",
      "source": [
        "SEGMENTS = 10\n",
        "SEQUENCE_LENGTH = 512\n",
        "CHUNK_SIZE = (SEGMENTS * SEQUENCE_LENGTH) + 1  # +1 for shifting\n",
        "BATCH_SIZE = 8\n",
        "LEARNING_RATE = 2e-4\n",
        "MAX_GRAD_CLIP_NORM = 0.5\n",
        "VALIDATE_EVERY = 100\n",
        "MAX_KNN_MEMORIES = BATCH_SIZE * 1 * SEQUENCE_LENGTH * SEGMENTS\n",
        "\n",
        "dataset = datasets.load_dataset(\"ccdv/arxiv-summarization\", split='train', streaming=True)\n",
        "raw_dataset = list(dataset.take(3500))\n",
        "\n",
        "def process_document(doc, chunk_size):\n",
        "    # Convert string to bytes then numpy array using frombuffer\n",
        "    byte_array = np.frombuffer(doc.encode('utf-8'), dtype=np.uint8)\n",
        "\n",
        "    # Calculate number of complete chunks we can make\n",
        "    num_complete_chunks = len(byte_array) // chunk_size\n",
        "    if num_complete_chunks == 0:\n",
        "        return None\n",
        "\n",
        "    # Truncate to fit complete chunks\n",
        "    truncated = byte_array[:num_complete_chunks * chunk_size]\n",
        "    return truncated.reshape(num_complete_chunks, chunk_size)\n",
        "\n",
        "# Process documents\n",
        "processed_chunks = []\n",
        "for article in raw_dataset:\n",
        "    doc = article['article']\n",
        "    if len(doc) > CHUNK_SIZE:  # Only process documents long enough\n",
        "        chunks = process_document(doc, CHUNK_SIZE)\n",
        "        if chunks is not None:\n",
        "            processed_chunks.append(chunks)\n",
        "\n",
        "# Stack all chunks into one array\n",
        "all_chunks = np.vstack(processed_chunks)\n",
        "\n",
        "# Convert to tensor\n",
        "processed_data = torch.tensor(all_chunks, dtype=torch.long)\n",
        "\n",
        "# Split into train/val/test\n",
        "eighty_split = int(processed_data.shape[0] * .8)\n",
        "ninety_split = int(processed_data.shape[0] * .9)\n",
        "\n",
        "train_loader = iter(DataLoader(processed_data[:eighty_split], batch_size=BATCH_SIZE, shuffle=True))\n",
        "val_loader = iter(DataLoader(processed_data[eighty_split:ninety_split], batch_size=BATCH_SIZE, shuffle=True))\n",
        "test_loader = iter(DataLoader(processed_data[ninety_split:], batch_size=BATCH_SIZE, shuffle=True))\n",
        "\n",
        "# CHANGES:\n",
        "# Replaced np.fromstring with np.frombuffer to handle string encoding properly\n",
        "# Created a process_document function that:\n",
        "# Properly converts text to byte array\n",
        "#  - Ensures uniform chunk sizes\n",
        "#  - Reshapes data into proper dimensions\n",
        "# Used np.vstack instead of np.array to combine chunks\n",
        "# Added proper filtering for document length\n",
        "# Simplified the preprocessing pipeline"
      ],
      "metadata": {
        "id": "iEhGgqBO6SOx"
      },
      "execution_count": 17,
      "outputs": []
    },
    {
      "cell_type": "code",
      "source": [
        "model = MemorizingTransformer(embedding_dimension = 128,\n",
        "                              vocab_size = 128,\n",
        "                              max_knn_memories = MAX_KNN_MEMORIES)\n",
        "\n",
        "model.to(device) ###########\n",
        "\n",
        "optim = torch.optim.Adam(model.parameters(), lr = LEARNING_RATE)\n",
        "model.train()\n",
        "\n",
        "for i in tqdm.tqdm(range(200), mininterval = 10., desc = 'training'):\n",
        "\n",
        "    model.train()\n",
        "    train_loss = 0.\n",
        "    # Clear XL memories\n",
        "    xl_memories = None\n",
        "    # Clear KNN memory\n",
        "    model.knn.clear()\n",
        "\n",
        "    data = next(train_loader).to(device=device)\n",
        "    seq, labels = data[:, :-1], data[:, 1:]\n",
        "\n",
        "    t0 = time.time()\n",
        "    print (\"Begin document\")\n",
        "\n",
        "    # Each pass will be (BATCH_SIZE * SEGMENTS) iterations\n",
        "    for seq_segment, labels_segment in zip(seq.chunk(SEGMENTS, dim = -1), labels.chunk(SEGMENTS, dim = -1)):\n",
        "\n",
        "        loss, xl_memories = model(\n",
        "            seq_segment,\n",
        "            labels = labels_segment,\n",
        "            xl_memories = xl_memories\n",
        "        )\n",
        "\n",
        "        train_loss += loss.item() / SEGMENTS\n",
        "        (loss / SEGMENTS).backward()\n",
        "\n",
        "\n",
        "    print(f'training loss: {train_loss}')\n",
        "    t1 = time.time()\n",
        "    print (\"End document, total time:\", t1 - t0)\n",
        "    torch.nn.utils.clip_grad_norm_(model.parameters(), MAX_GRAD_CLIP_NORM)\n",
        "    optim.step()\n",
        "    optim.zero_grad()\n",
        "\n",
        "\n",
        "    if not (i % VALIDATE_EVERY):\n",
        "        model.eval()\n",
        "\n",
        "        valid_data = next(val_loader)\n",
        "        valid_loss = 0.\n",
        "\n",
        "        with torch.no_grad():\n",
        "            xl_memories = None\n",
        "            model.knn.clear()\n",
        "            seq, labels = data[:, :-1], data[:, 1:]\n",
        "\n",
        "            for seq_segment, labels_segment in zip(seq.chunk(SEGMENTS, dim = -1), labels.chunk(SEGMENTS, dim = -1)):\n",
        "\n",
        "                loss, xl_memories = model(\n",
        "                    seq_segment,\n",
        "                    labels = labels_segment,\n",
        "                    xl_memories = xl_memories\n",
        "                )\n",
        "\n",
        "                valid_loss += loss.item() / SEGMENTS\n",
        "\n",
        "        print(f'valid loss: {valid_loss}')\n"
      ],
      "metadata": {
        "colab": {
          "base_uri": "https://localhost:8080/"
        },
        "id": "T4ctm-Dv6Wdw",
        "outputId": "a6dec9e6-e169-426d-ff0c-ab2ca9a08263"
      },
      "execution_count": 18,
      "outputs": [
        {
          "output_type": "stream",
          "name": "stderr",
          "text": [
            "\rtraining:   0%|          | 0/200 [00:00<?, ?it/s]"
          ]
        },
        {
          "output_type": "stream",
          "name": "stdout",
          "text": [
            "Begin document\n",
            "Begin KNN operations\n",
            "End KNN operations, time taken: 0.5154924392700195\n",
            "Begin KNN operations\n",
            "End KNN operations, time taken: 0.8348844051361084\n",
            "Begin KNN operations\n",
            "End KNN operations, time taken: 1.0847976207733154\n",
            "Begin KNN operations\n",
            "End KNN operations, time taken: 1.3569858074188232\n",
            "Begin KNN operations\n",
            "End KNN operations, time taken: 1.5730655193328857\n",
            "Begin KNN operations\n",
            "End KNN operations, time taken: 1.8154258728027344\n",
            "Begin KNN operations\n",
            "End KNN operations, time taken: 2.3961751461029053\n",
            "Begin KNN operations\n",
            "End KNN operations, time taken: 3.1835293769836426\n",
            "Begin KNN operations\n",
            "End KNN operations, time taken: 2.6336846351623535\n",
            "training loss: 4.9564862728118895\n",
            "End document, total time: 18.936240911483765\n",
            "Begin KNN operations\n",
            "End KNN operations, time taken: 0.43695592880249023\n",
            "Begin KNN operations\n",
            "End KNN operations, time taken: 0.6755294799804688\n",
            "Begin KNN operations\n",
            "End KNN operations, time taken: 0.9465794563293457\n",
            "Begin KNN operations\n",
            "End KNN operations, time taken: 1.1943471431732178\n",
            "Begin KNN operations\n",
            "End KNN operations, time taken: 1.611910343170166\n",
            "Begin KNN operations\n",
            "End KNN operations, time taken: 2.9265518188476562\n",
            "Begin KNN operations\n",
            "End KNN operations, time taken: 2.0088870525360107\n",
            "Begin KNN operations\n",
            "End KNN operations, time taken: 2.195286750793457\n",
            "Begin KNN operations\n"
          ]
        },
        {
          "output_type": "stream",
          "name": "stderr",
          "text": [
            "\rtraining:   0%|          | 1/200 [00:35<1:59:12, 35.94s/it]"
          ]
        },
        {
          "output_type": "stream",
          "name": "stdout",
          "text": [
            "End KNN operations, time taken: 2.4303550720214844\n",
            "valid loss: 4.482905149459839\n",
            "Begin document\n",
            "Begin KNN operations\n",
            "End KNN operations, time taken: 0.5505039691925049\n",
            "Begin KNN operations\n",
            "End KNN operations, time taken: 0.8205890655517578\n",
            "Begin KNN operations\n",
            "End KNN operations, time taken: 1.6385221481323242\n",
            "Begin KNN operations\n",
            "End KNN operations, time taken: 2.040978193283081\n",
            "Begin KNN operations\n",
            "End KNN operations, time taken: 1.573127031326294\n",
            "Begin KNN operations\n",
            "End KNN operations, time taken: 1.8171672821044922\n",
            "Begin KNN operations\n",
            "End KNN operations, time taken: 2.0540266036987305\n",
            "Begin KNN operations\n",
            "End KNN operations, time taken: 2.3792049884796143\n",
            "Begin KNN operations\n"
          ]
        },
        {
          "output_type": "stream",
          "name": "stderr",
          "text": [
            "\rtraining:   1%|          | 2/200 [00:54<1:24:40, 25.66s/it]"
          ]
        },
        {
          "output_type": "stream",
          "name": "stdout",
          "text": [
            "End KNN operations, time taken: 3.570066452026367\n",
            "training loss: 4.470467901229859\n",
            "End document, total time: 18.26030445098877\n",
            "Begin document\n",
            "Begin KNN operations\n",
            "End KNN operations, time taken: 0.5279738903045654\n",
            "Begin KNN operations\n",
            "End KNN operations, time taken: 0.8413984775543213\n",
            "Begin KNN operations\n",
            "End KNN operations, time taken: 1.0777008533477783\n",
            "Begin KNN operations\n",
            "End KNN operations, time taken: 1.3200905323028564\n",
            "Begin KNN operations\n",
            "End KNN operations, time taken: 1.6294310092926025\n",
            "Begin KNN operations\n",
            "End KNN operations, time taken: 1.8276903629302979\n",
            "Begin KNN operations\n",
            "End KNN operations, time taken: 2.3134055137634277\n",
            "Begin KNN operations\n",
            "End KNN operations, time taken: 3.288159132003784\n",
            "Begin KNN operations\n"
          ]
        },
        {
          "output_type": "stream",
          "name": "stderr",
          "text": [
            "\rtraining:   2%|▏         | 3/200 [01:11<1:11:37, 21.82s/it]"
          ]
        },
        {
          "output_type": "stream",
          "name": "stdout",
          "text": [
            "End KNN operations, time taken: 2.5826659202575684\n",
            "training loss: 4.19776349067688\n",
            "End document, total time: 16.9807231426239\n",
            "Begin document\n",
            "Begin KNN operations\n",
            "End KNN operations, time taken: 0.5018801689147949\n",
            "Begin KNN operations\n",
            "End KNN operations, time taken: 0.7946596145629883\n",
            "Begin KNN operations\n",
            "End KNN operations, time taken: 1.051633596420288\n",
            "Begin KNN operations\n",
            "End KNN operations, time taken: 1.2894728183746338\n",
            "Begin KNN operations\n",
            "End KNN operations, time taken: 1.6706805229187012\n",
            "Begin KNN operations\n",
            "End KNN operations, time taken: 2.9396843910217285\n",
            "Begin KNN operations\n",
            "End KNN operations, time taken: 2.0859060287475586\n",
            "Begin KNN operations\n",
            "End KNN operations, time taken: 2.316490411758423\n",
            "Begin KNN operations\n"
          ]
        },
        {
          "output_type": "stream",
          "name": "stderr",
          "text": [
            "\rtraining:   2%|▏         | 4/200 [01:28<1:05:20, 20.00s/it]"
          ]
        },
        {
          "output_type": "stream",
          "name": "stdout",
          "text": [
            "End KNN operations, time taken: 2.6794381141662598\n",
            "training loss: 4.012228226661683\n",
            "End document, total time: 17.005945920944214\n",
            "Begin document\n",
            "Begin KNN operations\n",
            "End KNN operations, time taken: 0.5157375335693359\n",
            "Begin KNN operations\n",
            "End KNN operations, time taken: 0.9198815822601318\n",
            "Begin KNN operations\n",
            "End KNN operations, time taken: 1.7130811214447021\n",
            "Begin KNN operations\n",
            "End KNN operations, time taken: 2.2917823791503906\n",
            "Begin KNN operations\n",
            "End KNN operations, time taken: 2.1347782611846924\n",
            "Begin KNN operations\n",
            "End KNN operations, time taken: 1.8415842056274414\n",
            "Begin KNN operations\n",
            "End KNN operations, time taken: 2.1353065967559814\n",
            "Begin KNN operations\n",
            "End KNN operations, time taken: 2.322293281555176\n",
            "Begin KNN operations\n"
          ]
        },
        {
          "output_type": "stream",
          "name": "stderr",
          "text": [
            "\rtraining:   2%|▎         | 5/200 [01:49<1:05:59, 20.31s/it]"
          ]
        },
        {
          "output_type": "stream",
          "name": "stdout",
          "text": [
            "End KNN operations, time taken: 4.9890735149383545\n",
            "training loss: 3.894817328453064\n",
            "End document, total time: 20.604676246643066\n",
            "Begin document\n",
            "Begin KNN operations\n",
            "End KNN operations, time taken: 0.504497766494751\n",
            "Begin KNN operations\n",
            "End KNN operations, time taken: 0.8082551956176758\n",
            "Begin KNN operations\n",
            "End KNN operations, time taken: 1.06386399269104\n",
            "Begin KNN operations\n",
            "End KNN operations, time taken: 1.3031425476074219\n",
            "Begin KNN operations\n",
            "End KNN operations, time taken: 1.5735998153686523\n",
            "Begin KNN operations\n",
            "End KNN operations, time taken: 1.8523273468017578\n",
            "Begin KNN operations\n",
            "End KNN operations, time taken: 3.306574821472168\n",
            "Begin KNN operations\n",
            "End KNN operations, time taken: 2.322391986846924\n",
            "Begin KNN operations\n"
          ]
        },
        {
          "output_type": "stream",
          "name": "stderr",
          "text": [
            "\rtraining:   3%|▎         | 6/200 [02:07<1:02:27, 19.32s/it]"
          ]
        },
        {
          "output_type": "stream",
          "name": "stdout",
          "text": [
            "End KNN operations, time taken: 2.685556173324585\n",
            "training loss: 3.7950266122818\n",
            "End document, total time: 17.199434757232666\n",
            "Begin document\n",
            "Begin KNN operations\n",
            "End KNN operations, time taken: 0.4975852966308594\n",
            "Begin KNN operations\n",
            "End KNN operations, time taken: 0.8281240463256836\n",
            "Begin KNN operations\n",
            "End KNN operations, time taken: 1.0920417308807373\n",
            "Begin KNN operations\n",
            "End KNN operations, time taken: 1.5962212085723877\n",
            "Begin KNN operations\n",
            "End KNN operations, time taken: 2.821258544921875\n",
            "Begin KNN operations\n",
            "End KNN operations, time taken: 1.8248348236083984\n",
            "Begin KNN operations\n",
            "End KNN operations, time taken: 2.1243643760681152\n",
            "Begin KNN operations\n",
            "End KNN operations, time taken: 2.397642135620117\n",
            "Begin KNN operations\n"
          ]
        },
        {
          "output_type": "stream",
          "name": "stderr",
          "text": [
            "\rtraining:   4%|▎         | 7/200 [02:24<1:00:31, 18.82s/it]"
          ]
        },
        {
          "output_type": "stream",
          "name": "stdout",
          "text": [
            "End KNN operations, time taken: 2.579733371734619\n",
            "training loss: 3.7215362787246704\n",
            "End document, total time: 17.571873664855957\n",
            "Begin document\n",
            "Begin KNN operations\n",
            "End KNN operations, time taken: 0.7191791534423828\n",
            "Begin KNN operations\n",
            "End KNN operations, time taken: 1.2712867259979248\n",
            "Begin KNN operations\n",
            "End KNN operations, time taken: 1.056096076965332\n",
            "Begin KNN operations\n",
            "End KNN operations, time taken: 1.332317590713501\n",
            "Begin KNN operations\n",
            "End KNN operations, time taken: 1.5757381916046143\n",
            "Begin KNN operations\n",
            "End KNN operations, time taken: 1.7934587001800537\n",
            "Begin KNN operations\n",
            "End KNN operations, time taken: 2.0851874351501465\n",
            "Begin KNN operations\n",
            "End KNN operations, time taken: 2.9386112689971924\n",
            "Begin KNN operations\n"
          ]
        },
        {
          "output_type": "stream",
          "name": "stderr",
          "text": [
            "\rtraining:   4%|▍         | 8/200 [02:42<59:27, 18.58s/it]  "
          ]
        },
        {
          "output_type": "stream",
          "name": "stdout",
          "text": [
            "End KNN operations, time taken: 3.29862904548645\n",
            "training loss: 3.641513013839721\n",
            "End document, total time: 17.878047943115234\n",
            "Begin document\n",
            "Begin KNN operations\n",
            "End KNN operations, time taken: 0.5151824951171875\n",
            "Begin KNN operations\n",
            "End KNN operations, time taken: 0.826805830001831\n",
            "Begin KNN operations\n",
            "End KNN operations, time taken: 1.1010932922363281\n",
            "Begin KNN operations\n",
            "End KNN operations, time taken: 1.3546760082244873\n",
            "Begin KNN operations\n",
            "End KNN operations, time taken: 1.5564014911651611\n",
            "Begin KNN operations\n",
            "End KNN operations, time taken: 2.102653980255127\n",
            "Begin KNN operations\n",
            "End KNN operations, time taken: 2.9959065914154053\n",
            "Begin KNN operations\n",
            "End KNN operations, time taken: 2.3890292644500732\n",
            "Begin KNN operations\n"
          ]
        },
        {
          "output_type": "stream",
          "name": "stderr",
          "text": [
            "\rtraining:   4%|▍         | 9/200 [03:00<58:00, 18.22s/it]"
          ]
        },
        {
          "output_type": "stream",
          "name": "stdout",
          "text": [
            "End KNN operations, time taken: 2.6001088619232178\n",
            "training loss: 3.6084408283233644\n",
            "End document, total time: 17.22401738166809\n",
            "Begin document\n",
            "Begin KNN operations\n",
            "End KNN operations, time taken: 0.5210685729980469\n",
            "Begin KNN operations\n",
            "End KNN operations, time taken: 0.8506262302398682\n",
            "Begin KNN operations\n",
            "End KNN operations, time taken: 1.0596904754638672\n",
            "Begin KNN operations\n",
            "End KNN operations, time taken: 2.0953712463378906\n",
            "Begin KNN operations\n",
            "End KNN operations, time taken: 2.036181688308716\n",
            "Begin KNN operations\n",
            "End KNN operations, time taken: 1.858522653579712\n",
            "Begin KNN operations\n",
            "End KNN operations, time taken: 2.1271157264709473\n",
            "Begin KNN operations\n",
            "End KNN operations, time taken: 2.302229404449463\n",
            "Begin KNN operations\n"
          ]
        },
        {
          "output_type": "stream",
          "name": "stderr",
          "text": [
            "\rtraining:   5%|▌         | 10/200 [03:17<57:03, 18.02s/it]"
          ]
        },
        {
          "output_type": "stream",
          "name": "stdout",
          "text": [
            "End KNN operations, time taken: 2.7110965251922607\n",
            "training loss: 3.564248871803284\n",
            "End document, total time: 17.358691930770874\n",
            "Begin document\n",
            "Begin KNN operations\n",
            "End KNN operations, time taken: 0.7287352085113525\n",
            "Begin KNN operations\n",
            "End KNN operations, time taken: 0.8385777473449707\n",
            "Begin KNN operations\n",
            "End KNN operations, time taken: 1.0896954536437988\n",
            "Begin KNN operations\n",
            "End KNN operations, time taken: 1.3635189533233643\n",
            "Begin KNN operations\n",
            "End KNN operations, time taken: 1.5576696395874023\n",
            "Begin KNN operations\n",
            "End KNN operations, time taken: 1.8343064785003662\n",
            "Begin KNN operations\n",
            "End KNN operations, time taken: 2.0915274620056152\n",
            "Begin KNN operations\n",
            "End KNN operations, time taken: 3.674905300140381\n",
            "Begin KNN operations\n"
          ]
        },
        {
          "output_type": "stream",
          "name": "stderr",
          "text": [
            "\rtraining:   6%|▌         | 11/200 [03:35<56:36, 17.97s/it]"
          ]
        },
        {
          "output_type": "stream",
          "name": "stdout",
          "text": [
            "End KNN operations, time taken: 2.628941774368286\n",
            "training loss: 3.518237614631653\n",
            "End document, total time: 17.613946437835693\n",
            "Begin document\n",
            "Begin KNN operations\n",
            "End KNN operations, time taken: 0.527106523513794\n",
            "Begin KNN operations\n",
            "End KNN operations, time taken: 0.8285121917724609\n",
            "Begin KNN operations\n",
            "End KNN operations, time taken: 1.0675201416015625\n",
            "Begin KNN operations\n",
            "End KNN operations, time taken: 1.3307719230651855\n",
            "Begin KNN operations\n",
            "End KNN operations, time taken: 1.63081955909729\n",
            "Begin KNN operations\n",
            "End KNN operations, time taken: 2.6912081241607666\n",
            "Begin KNN operations\n",
            "End KNN operations, time taken: 2.5037105083465576\n",
            "Begin KNN operations\n",
            "End KNN operations, time taken: 2.345892906188965\n",
            "Begin KNN operations\n"
          ]
        },
        {
          "output_type": "stream",
          "name": "stderr",
          "text": [
            "\rtraining:   6%|▌         | 12/200 [03:53<55:48, 17.81s/it]"
          ]
        },
        {
          "output_type": "stream",
          "name": "stdout",
          "text": [
            "End KNN operations, time taken: 2.6185662746429443\n",
            "training loss: 3.5189935922622686\n",
            "End document, total time: 17.260907649993896\n",
            "Begin document\n",
            "Begin KNN operations\n",
            "End KNN operations, time taken: 0.5192193984985352\n",
            "Begin KNN operations\n",
            "End KNN operations, time taken: 0.8243131637573242\n",
            "Begin KNN operations\n",
            "End KNN operations, time taken: 1.177877426147461\n",
            "Begin KNN operations\n",
            "End KNN operations, time taken: 2.125751495361328\n",
            "Begin KNN operations\n",
            "End KNN operations, time taken: 1.6020879745483398\n",
            "Begin KNN operations\n",
            "End KNN operations, time taken: 1.8489265441894531\n",
            "Begin KNN operations\n",
            "End KNN operations, time taken: 2.1278626918792725\n",
            "Begin KNN operations\n",
            "End KNN operations, time taken: 3.814291477203369\n",
            "Begin KNN operations\n"
          ]
        },
        {
          "output_type": "stream",
          "name": "stderr",
          "text": [
            "\rtraining:   6%|▋         | 13/200 [04:13<57:38, 18.49s/it]"
          ]
        },
        {
          "output_type": "stream",
          "name": "stdout",
          "text": [
            "End KNN operations, time taken: 4.086561441421509\n",
            "training loss: 3.4234962940216063\n",
            "End document, total time: 19.851942539215088\n",
            "Begin document\n",
            "Begin KNN operations\n",
            "End KNN operations, time taken: 0.5127489566802979\n",
            "Begin KNN operations\n",
            "End KNN operations, time taken: 0.8326494693756104\n",
            "Begin KNN operations\n",
            "End KNN operations, time taken: 1.0888609886169434\n",
            "Begin KNN operations\n",
            "End KNN operations, time taken: 1.3156650066375732\n",
            "Begin KNN operations\n",
            "End KNN operations, time taken: 1.5572075843811035\n",
            "Begin KNN operations\n",
            "End KNN operations, time taken: 1.8556525707244873\n",
            "Begin KNN operations\n",
            "End KNN operations, time taken: 3.126987934112549\n",
            "Begin KNN operations\n",
            "End KNN operations, time taken: 2.3978774547576904\n",
            "Begin KNN operations\n"
          ]
        },
        {
          "output_type": "stream",
          "name": "stderr",
          "text": [
            "\rtraining:   7%|▋         | 14/200 [04:30<56:04, 18.09s/it]"
          ]
        },
        {
          "output_type": "stream",
          "name": "stdout",
          "text": [
            "End KNN operations, time taken: 2.5904626846313477\n",
            "training loss: 3.3987446546554567\n",
            "End document, total time: 16.963919401168823\n",
            "Begin document\n",
            "Begin KNN operations\n",
            "End KNN operations, time taken: 0.5619347095489502\n",
            "Begin KNN operations\n",
            "End KNN operations, time taken: 0.8340928554534912\n",
            "Begin KNN operations\n",
            "End KNN operations, time taken: 1.0895917415618896\n",
            "Begin KNN operations\n",
            "End KNN operations, time taken: 1.3064303398132324\n",
            "Begin KNN operations\n",
            "End KNN operations, time taken: 2.5660877227783203\n",
            "Begin KNN operations\n",
            "End KNN operations, time taken: 1.8191206455230713\n",
            "Begin KNN operations\n",
            "End KNN operations, time taken: 2.123599052429199\n",
            "Begin KNN operations\n",
            "End KNN operations, time taken: 2.3836207389831543\n",
            "Begin KNN operations\n"
          ]
        },
        {
          "output_type": "stream",
          "name": "stderr",
          "text": [
            "\rtraining:   8%|▊         | 15/200 [04:47<55:00, 17.84s/it]"
          ]
        },
        {
          "output_type": "stream",
          "name": "stdout",
          "text": [
            "End KNN operations, time taken: 2.619926691055298\n",
            "training loss: 3.4044701099395747\n",
            "End document, total time: 17.058297872543335\n",
            "Begin document\n",
            "Begin KNN operations\n",
            "End KNN operations, time taken: 0.709486722946167\n",
            "Begin KNN operations\n",
            "End KNN operations, time taken: 1.212573766708374\n",
            "Begin KNN operations\n",
            "End KNN operations, time taken: 1.2896168231964111\n",
            "Begin KNN operations\n",
            "End KNN operations, time taken: 1.3529307842254639\n",
            "Begin KNN operations\n",
            "End KNN operations, time taken: 1.5900304317474365\n",
            "Begin KNN operations\n",
            "End KNN operations, time taken: 1.8041393756866455\n",
            "Begin KNN operations\n",
            "End KNN operations, time taken: 2.0893023014068604\n",
            "Begin KNN operations\n",
            "End KNN operations, time taken: 2.553894281387329\n",
            "Begin KNN operations\n"
          ]
        },
        {
          "output_type": "stream",
          "name": "stderr",
          "text": [
            "\rtraining:   8%|▊         | 16/200 [05:05<54:58, 17.93s/it]"
          ]
        },
        {
          "output_type": "stream",
          "name": "stdout",
          "text": [
            "End KNN operations, time taken: 3.629483699798584\n",
            "training loss: 3.3615806341171264\n",
            "End document, total time: 17.91324806213379\n",
            "Begin document\n",
            "Begin KNN operations\n",
            "End KNN operations, time taken: 0.5292117595672607\n",
            "Begin KNN operations\n",
            "End KNN operations, time taken: 0.8145432472229004\n",
            "Begin KNN operations\n",
            "End KNN operations, time taken: 1.070927381515503\n",
            "Begin KNN operations\n",
            "End KNN operations, time taken: 1.330606460571289\n",
            "Begin KNN operations\n",
            "End KNN operations, time taken: 1.6023986339569092\n",
            "Begin KNN operations\n",
            "End KNN operations, time taken: 1.8552148342132568\n",
            "Begin KNN operations\n",
            "End KNN operations, time taken: 3.4005727767944336\n",
            "Begin KNN operations\n",
            "End KNN operations, time taken: 2.3420722484588623\n",
            "Begin KNN operations\n"
          ]
        },
        {
          "output_type": "stream",
          "name": "stderr",
          "text": [
            "\rtraining:   8%|▊         | 17/200 [05:23<54:13, 17.78s/it]"
          ]
        },
        {
          "output_type": "stream",
          "name": "stdout",
          "text": [
            "End KNN operations, time taken: 2.606696128845215\n",
            "training loss: 3.3893409967422485\n",
            "End document, total time: 17.231279373168945\n",
            "Begin document\n",
            "Begin KNN operations\n",
            "End KNN operations, time taken: 0.5443940162658691\n",
            "Begin KNN operations\n",
            "End KNN operations, time taken: 0.8239407539367676\n",
            "Begin KNN operations\n",
            "End KNN operations, time taken: 1.096299648284912\n",
            "Begin KNN operations\n",
            "End KNN operations, time taken: 1.559826374053955\n",
            "Begin KNN operations\n",
            "End KNN operations, time taken: 2.596074104309082\n",
            "Begin KNN operations\n",
            "End KNN operations, time taken: 1.9175608158111572\n",
            "Begin KNN operations\n",
            "End KNN operations, time taken: 2.125912666320801\n",
            "Begin KNN operations\n",
            "End KNN operations, time taken: 2.3378360271453857\n",
            "Begin KNN operations\n"
          ]
        },
        {
          "output_type": "stream",
          "name": "stderr",
          "text": [
            "\rtraining:   9%|▉         | 18/200 [05:40<53:41, 17.70s/it]"
          ]
        },
        {
          "output_type": "stream",
          "name": "stdout",
          "text": [
            "End KNN operations, time taken: 2.653022527694702\n",
            "training loss: 3.288809299468994\n",
            "End document, total time: 17.32183051109314\n",
            "Begin document\n",
            "Begin KNN operations\n",
            "End KNN operations, time taken: 0.7293038368225098\n",
            "Begin KNN operations\n",
            "End KNN operations, time taken: 1.2397093772888184\n",
            "Begin KNN operations\n",
            "End KNN operations, time taken: 1.0976412296295166\n",
            "Begin KNN operations\n",
            "End KNN operations, time taken: 1.3193490505218506\n",
            "Begin KNN operations\n",
            "End KNN operations, time taken: 1.5606012344360352\n",
            "Begin KNN operations\n",
            "End KNN operations, time taken: 1.805159091949463\n",
            "Begin KNN operations\n",
            "End KNN operations, time taken: 2.124882221221924\n",
            "Begin KNN operations\n",
            "End KNN operations, time taken: 3.03544020652771\n",
            "Begin KNN operations\n"
          ]
        },
        {
          "output_type": "stream",
          "name": "stderr",
          "text": [
            "\rtraining:  10%|▉         | 19/200 [05:58<53:40, 17.80s/it]"
          ]
        },
        {
          "output_type": "stream",
          "name": "stdout",
          "text": [
            "End KNN operations, time taken: 3.1932997703552246\n",
            "training loss: 3.1916358947753904\n",
            "End document, total time: 17.82378053665161\n",
            "Begin document\n",
            "Begin KNN operations\n",
            "End KNN operations, time taken: 0.5233068466186523\n",
            "Begin KNN operations\n",
            "End KNN operations, time taken: 0.8302011489868164\n",
            "Begin KNN operations\n",
            "End KNN operations, time taken: 1.0998072624206543\n",
            "Begin KNN operations\n",
            "End KNN operations, time taken: 1.3615491390228271\n",
            "Begin KNN operations\n",
            "End KNN operations, time taken: 1.5900790691375732\n",
            "Begin KNN operations\n",
            "End KNN operations, time taken: 2.1658055782318115\n",
            "Begin KNN operations\n",
            "End KNN operations, time taken: 2.992452383041382\n",
            "Begin KNN operations\n",
            "End KNN operations, time taken: 2.398632049560547\n",
            "Begin KNN operations\n"
          ]
        },
        {
          "output_type": "stream",
          "name": "stderr",
          "text": [
            "\rtraining:  10%|█         | 20/200 [06:16<53:10, 17.72s/it]"
          ]
        },
        {
          "output_type": "stream",
          "name": "stdout",
          "text": [
            "End KNN operations, time taken: 2.7429966926574707\n",
            "training loss: 3.324982786178589\n",
            "End document, total time: 17.352416276931763\n",
            "Begin document\n",
            "Begin KNN operations\n",
            "End KNN operations, time taken: 0.5187087059020996\n",
            "Begin KNN operations\n",
            "End KNN operations, time taken: 0.8220884799957275\n",
            "Begin KNN operations\n",
            "End KNN operations, time taken: 1.0700280666351318\n",
            "Begin KNN operations\n",
            "End KNN operations, time taken: 2.1198716163635254\n",
            "Begin KNN operations\n",
            "End KNN operations, time taken: 1.9400699138641357\n",
            "Begin KNN operations\n",
            "End KNN operations, time taken: 1.8441643714904785\n",
            "Begin KNN operations\n",
            "End KNN operations, time taken: 2.134740114212036\n",
            "Begin KNN operations\n",
            "End KNN operations, time taken: 2.4211647510528564\n",
            "Begin KNN operations\n"
          ]
        },
        {
          "output_type": "stream",
          "name": "stderr",
          "text": [
            "\rtraining:  10%|█         | 21/200 [06:34<52:52, 17.72s/it]"
          ]
        },
        {
          "output_type": "stream",
          "name": "stdout",
          "text": [
            "End KNN operations, time taken: 2.9520835876464844\n",
            "training loss: 3.1577123641967773\n",
            "End document, total time: 17.52675199508667\n",
            "Begin document\n",
            "Begin KNN operations\n",
            "End KNN operations, time taken: 0.7806720733642578\n",
            "Begin KNN operations\n",
            "End KNN operations, time taken: 0.8155889511108398\n",
            "Begin KNN operations\n",
            "End KNN operations, time taken: 1.0620040893554688\n",
            "Begin KNN operations\n",
            "End KNN operations, time taken: 1.317126989364624\n",
            "Begin KNN operations\n",
            "End KNN operations, time taken: 2.1272833347320557\n",
            "Begin KNN operations\n",
            "End KNN operations, time taken: 2.5286037921905518\n",
            "Begin KNN operations\n",
            "End KNN operations, time taken: 2.319892406463623\n",
            "Begin KNN operations\n",
            "End KNN operations, time taken: 3.354534864425659\n",
            "Begin KNN operations\n"
          ]
        },
        {
          "output_type": "stream",
          "name": "stderr",
          "text": [
            "\rtraining:  11%|█         | 22/200 [06:53<53:38, 18.08s/it]"
          ]
        },
        {
          "output_type": "stream",
          "name": "stdout",
          "text": [
            "End KNN operations, time taken: 2.608525276184082\n",
            "training loss: 3.1221840143203736\n",
            "End document, total time: 18.68401002883911\n",
            "Begin document\n",
            "Begin KNN operations\n",
            "End KNN operations, time taken: 0.5162820816040039\n",
            "Begin KNN operations\n",
            "End KNN operations, time taken: 0.8073914051055908\n",
            "Begin KNN operations\n",
            "End KNN operations, time taken: 1.0950360298156738\n",
            "Begin KNN operations\n",
            "End KNN operations, time taken: 1.342627763748169\n",
            "Begin KNN operations\n",
            "End KNN operations, time taken: 1.7063806056976318\n",
            "Begin KNN operations\n",
            "End KNN operations, time taken: 2.9231653213500977\n",
            "Begin KNN operations\n",
            "End KNN operations, time taken: 2.154493570327759\n",
            "Begin KNN operations\n",
            "End KNN operations, time taken: 2.381324291229248\n",
            "Begin KNN operations\n"
          ]
        },
        {
          "output_type": "stream",
          "name": "stderr",
          "text": [
            "\rtraining:  12%|█▏        | 23/200 [07:10<52:45, 17.88s/it]"
          ]
        },
        {
          "output_type": "stream",
          "name": "stdout",
          "text": [
            "End KNN operations, time taken: 2.6192171573638916\n",
            "training loss: 3.0841204166412357\n",
            "End document, total time: 17.218166828155518\n",
            "Begin document\n",
            "Begin KNN operations\n",
            "End KNN operations, time taken: 0.5179193019866943\n",
            "Begin KNN operations\n",
            "End KNN operations, time taken: 1.003866195678711\n",
            "Begin KNN operations\n",
            "End KNN operations, time taken: 1.7090604305267334\n",
            "Begin KNN operations\n",
            "End KNN operations, time taken: 1.4723689556121826\n",
            "Begin KNN operations\n",
            "End KNN operations, time taken: 1.5801899433135986\n",
            "Begin KNN operations\n",
            "End KNN operations, time taken: 1.804741382598877\n",
            "Begin KNN operations\n",
            "End KNN operations, time taken: 2.076591968536377\n",
            "Begin KNN operations\n",
            "End KNN operations, time taken: 2.3384034633636475\n",
            "Begin KNN operations\n"
          ]
        },
        {
          "output_type": "stream",
          "name": "stderr",
          "text": [
            "\rtraining:  12%|█▏        | 24/200 [07:28<53:00, 18.07s/it]"
          ]
        },
        {
          "output_type": "stream",
          "name": "stdout",
          "text": [
            "End KNN operations, time taken: 4.110901594161987\n",
            "training loss: 3.136989712715149\n",
            "End document, total time: 18.311405420303345\n",
            "Begin document\n",
            "Begin KNN operations\n",
            "End KNN operations, time taken: 0.5074462890625\n",
            "Begin KNN operations\n",
            "End KNN operations, time taken: 0.8295743465423584\n",
            "Begin KNN operations\n",
            "End KNN operations, time taken: 1.0640826225280762\n",
            "Begin KNN operations\n",
            "End KNN operations, time taken: 1.3587920665740967\n",
            "Begin KNN operations\n",
            "End KNN operations, time taken: 1.5951662063598633\n",
            "Begin KNN operations\n",
            "End KNN operations, time taken: 1.9234135150909424\n",
            "Begin KNN operations\n",
            "End KNN operations, time taken: 2.8340160846710205\n",
            "Begin KNN operations\n",
            "End KNN operations, time taken: 2.7977960109710693\n",
            "Begin KNN operations\n"
          ]
        },
        {
          "output_type": "stream",
          "name": "stderr",
          "text": [
            "\rtraining:  12%|█▎        | 25/200 [07:46<52:06, 17.86s/it]"
          ]
        },
        {
          "output_type": "stream",
          "name": "stdout",
          "text": [
            "End KNN operations, time taken: 2.5943615436553955\n",
            "training loss: 3.0278072118759156\n",
            "End document, total time: 17.173182010650635\n",
            "Begin document\n",
            "Begin KNN operations\n",
            "End KNN operations, time taken: 0.5276975631713867\n",
            "Begin KNN operations\n",
            "End KNN operations, time taken: 0.8600139617919922\n",
            "Begin KNN operations\n",
            "End KNN operations, time taken: 1.0925335884094238\n",
            "Begin KNN operations\n",
            "End KNN operations, time taken: 1.3220751285552979\n",
            "Begin KNN operations\n",
            "End KNN operations, time taken: 2.3702237606048584\n",
            "Begin KNN operations\n",
            "End KNN operations, time taken: 2.326152801513672\n",
            "Begin KNN operations\n",
            "End KNN operations, time taken: 2.1625747680664062\n",
            "Begin KNN operations\n",
            "End KNN operations, time taken: 2.3544719219207764\n",
            "Begin KNN operations\n"
          ]
        },
        {
          "output_type": "stream",
          "name": "stderr",
          "text": [
            "\rtraining:  13%|█▎        | 26/200 [08:03<51:31, 17.77s/it]"
          ]
        },
        {
          "output_type": "stream",
          "name": "stdout",
          "text": [
            "End KNN operations, time taken: 2.649317741394043\n",
            "training loss: 3.0650020360946653\n",
            "End document, total time: 17.361998319625854\n",
            "Begin document\n",
            "Begin KNN operations\n",
            "End KNN operations, time taken: 0.5571579933166504\n",
            "Begin KNN operations\n",
            "End KNN operations, time taken: 1.2544176578521729\n",
            "Begin KNN operations\n",
            "End KNN operations, time taken: 1.6486823558807373\n",
            "Begin KNN operations\n",
            "End KNN operations, time taken: 1.3561501502990723\n",
            "Begin KNN operations\n",
            "End KNN operations, time taken: 1.5886085033416748\n",
            "Begin KNN operations\n",
            "End KNN operations, time taken: 1.8153345584869385\n",
            "Begin KNN operations\n",
            "End KNN operations, time taken: 2.125866413116455\n",
            "Begin KNN operations\n",
            "End KNN operations, time taken: 2.3937137126922607\n",
            "Begin KNN operations\n"
          ]
        },
        {
          "output_type": "stream",
          "name": "stderr",
          "text": [
            "\rtraining:  14%|█▎        | 27/200 [08:22<51:48, 17.97s/it]"
          ]
        },
        {
          "output_type": "stream",
          "name": "stdout",
          "text": [
            "End KNN operations, time taken: 3.8082311153411865\n",
            "training loss: 3.0660548686981204\n",
            "End document, total time: 18.24241590499878\n",
            "Begin document\n",
            "Begin KNN operations\n",
            "End KNN operations, time taken: 0.5315544605255127\n",
            "Begin KNN operations\n",
            "End KNN operations, time taken: 0.8177883625030518\n",
            "Begin KNN operations\n",
            "End KNN operations, time taken: 1.0769927501678467\n",
            "Begin KNN operations\n",
            "End KNN operations, time taken: 1.345027208328247\n",
            "Begin KNN operations\n",
            "End KNN operations, time taken: 1.6183524131774902\n",
            "Begin KNN operations\n",
            "End KNN operations, time taken: 1.8895642757415771\n",
            "Begin KNN operations\n",
            "End KNN operations, time taken: 3.4388437271118164\n",
            "Begin KNN operations\n",
            "End KNN operations, time taken: 2.3854122161865234\n",
            "Begin KNN operations\n"
          ]
        },
        {
          "output_type": "stream",
          "name": "stderr",
          "text": [
            "\rtraining:  14%|█▍        | 28/200 [08:40<51:15, 17.88s/it]"
          ]
        },
        {
          "output_type": "stream",
          "name": "stdout",
          "text": [
            "End KNN operations, time taken: 2.665602922439575\n",
            "training loss: 2.991801357269287\n",
            "End document, total time: 17.468507528305054\n",
            "Begin document\n",
            "Begin KNN operations\n",
            "End KNN operations, time taken: 0.515148401260376\n",
            "Begin KNN operations\n",
            "End KNN operations, time taken: 0.8543403148651123\n",
            "Begin KNN operations\n",
            "End KNN operations, time taken: 1.0782911777496338\n",
            "Begin KNN operations\n",
            "End KNN operations, time taken: 1.8781874179840088\n",
            "Begin KNN operations\n",
            "End KNN operations, time taken: 2.332890748977661\n",
            "Begin KNN operations\n",
            "End KNN operations, time taken: 1.8693578243255615\n",
            "Begin KNN operations\n",
            "End KNN operations, time taken: 2.0879268646240234\n",
            "Begin KNN operations\n",
            "End KNN operations, time taken: 2.3358051776885986\n",
            "Begin KNN operations\n"
          ]
        },
        {
          "output_type": "stream",
          "name": "stderr",
          "text": [
            "\rtraining:  14%|█▍        | 29/200 [08:57<50:46, 17.82s/it]"
          ]
        },
        {
          "output_type": "stream",
          "name": "stdout",
          "text": [
            "End KNN operations, time taken: 2.675786018371582\n",
            "training loss: 2.9324195861816404\n",
            "End document, total time: 17.436076164245605\n",
            "Begin document\n",
            "Begin KNN operations\n",
            "End KNN operations, time taken: 0.728548526763916\n",
            "Begin KNN operations\n",
            "End KNN operations, time taken: 1.2344465255737305\n",
            "Begin KNN operations\n",
            "End KNN operations, time taken: 1.0705032348632812\n",
            "Begin KNN operations\n",
            "End KNN operations, time taken: 1.3793790340423584\n",
            "Begin KNN operations\n",
            "End KNN operations, time taken: 1.6106321811676025\n",
            "Begin KNN operations\n",
            "End KNN operations, time taken: 1.8222594261169434\n",
            "Begin KNN operations\n",
            "End KNN operations, time taken: 2.124295949935913\n",
            "Begin KNN operations\n",
            "End KNN operations, time taken: 3.414940118789673\n",
            "Begin KNN operations\n"
          ]
        },
        {
          "output_type": "stream",
          "name": "stderr",
          "text": [
            "\rtraining:  15%|█▌        | 30/200 [09:17<52:03, 18.37s/it]"
          ]
        },
        {
          "output_type": "stream",
          "name": "stdout",
          "text": [
            "End KNN operations, time taken: 4.274633169174194\n",
            "training loss: 3.0042669534683233\n",
            "End document, total time: 19.440303325653076\n",
            "Begin document\n",
            "Begin KNN operations\n",
            "End KNN operations, time taken: 0.5371143817901611\n",
            "Begin KNN operations\n",
            "End KNN operations, time taken: 0.843308687210083\n",
            "Begin KNN operations\n",
            "End KNN operations, time taken: 1.103501558303833\n",
            "Begin KNN operations\n",
            "End KNN operations, time taken: 1.3056907653808594\n",
            "Begin KNN operations\n",
            "End KNN operations, time taken: 1.5625057220458984\n",
            "Begin KNN operations\n",
            "End KNN operations, time taken: 2.1448581218719482\n",
            "Begin KNN operations\n",
            "End KNN operations, time taken: 2.9989964962005615\n",
            "Begin KNN operations\n",
            "End KNN operations, time taken: 2.417874336242676\n",
            "Begin KNN operations\n"
          ]
        },
        {
          "output_type": "stream",
          "name": "stderr",
          "text": [
            "\rtraining:  16%|█▌        | 31/200 [09:34<50:59, 18.10s/it]"
          ]
        },
        {
          "output_type": "stream",
          "name": "stdout",
          "text": [
            "End KNN operations, time taken: 2.6321487426757812\n",
            "training loss: 2.962299537658691\n",
            "End document, total time: 17.252734899520874\n",
            "Begin document\n",
            "Begin KNN operations\n",
            "End KNN operations, time taken: 0.5396668910980225\n",
            "Begin KNN operations\n",
            "End KNN operations, time taken: 0.834134578704834\n",
            "Begin KNN operations\n",
            "End KNN operations, time taken: 1.0850138664245605\n",
            "Begin KNN operations\n",
            "End KNN operations, time taken: 2.172149419784546\n",
            "Begin KNN operations\n",
            "End KNN operations, time taken: 2.001044511795044\n",
            "Begin KNN operations\n",
            "End KNN operations, time taken: 1.8462138175964355\n",
            "Begin KNN operations\n",
            "End KNN operations, time taken: 2.11130952835083\n",
            "Begin KNN operations\n",
            "End KNN operations, time taken: 2.3724892139434814\n",
            "Begin KNN operations\n"
          ]
        },
        {
          "output_type": "stream",
          "name": "stderr",
          "text": [
            "\rtraining:  16%|█▌        | 32/200 [09:52<50:27, 18.02s/it]"
          ]
        },
        {
          "output_type": "stream",
          "name": "stdout",
          "text": [
            "End KNN operations, time taken: 2.9133799076080322\n",
            "training loss: 2.9627074718475344\n",
            "End document, total time: 17.639922857284546\n",
            "Begin document\n",
            "Begin KNN operations\n",
            "End KNN operations, time taken: 0.7469232082366943\n",
            "Begin KNN operations\n",
            "End KNN operations, time taken: 0.8337359428405762\n",
            "Begin KNN operations\n",
            "End KNN operations, time taken: 1.0814950466156006\n",
            "Begin KNN operations\n",
            "End KNN operations, time taken: 1.3637065887451172\n",
            "Begin KNN operations\n",
            "End KNN operations, time taken: 1.6022589206695557\n",
            "Begin KNN operations\n",
            "End KNN operations, time taken: 1.84065580368042\n",
            "Begin KNN operations\n",
            "End KNN operations, time taken: 2.0885777473449707\n",
            "Begin KNN operations\n",
            "End KNN operations, time taken: 3.613629102706909\n",
            "Begin KNN operations\n"
          ]
        },
        {
          "output_type": "stream",
          "name": "stderr",
          "text": [
            "\rtraining:  16%|█▋        | 33/200 [10:10<49:54, 17.93s/it]"
          ]
        },
        {
          "output_type": "stream",
          "name": "stdout",
          "text": [
            "End KNN operations, time taken: 2.612504482269287\n",
            "training loss: 2.8989522218704225\n",
            "End document, total time: 17.451943397521973\n",
            "Begin document\n",
            "Begin KNN operations\n",
            "End KNN operations, time taken: 0.5214037895202637\n",
            "Begin KNN operations\n",
            "End KNN operations, time taken: 0.8349075317382812\n",
            "Begin KNN operations\n",
            "End KNN operations, time taken: 1.0752413272857666\n",
            "Begin KNN operations\n",
            "End KNN operations, time taken: 1.3149454593658447\n",
            "Begin KNN operations\n",
            "End KNN operations, time taken: 1.6111207008361816\n",
            "Begin KNN operations\n",
            "End KNN operations, time taken: 2.7545113563537598\n",
            "Begin KNN operations\n",
            "End KNN operations, time taken: 2.4695165157318115\n",
            "Begin KNN operations\n",
            "End KNN operations, time taken: 2.309702157974243\n",
            "Begin KNN operations\n"
          ]
        },
        {
          "output_type": "stream",
          "name": "stderr",
          "text": [
            "\rtraining:  17%|█▋        | 34/200 [10:27<49:09, 17.77s/it]"
          ]
        },
        {
          "output_type": "stream",
          "name": "stdout",
          "text": [
            "End KNN operations, time taken: 2.606846332550049\n",
            "training loss: 2.882503843307495\n",
            "End document, total time: 17.192508220672607\n",
            "Begin document\n",
            "Begin KNN operations\n",
            "End KNN operations, time taken: 0.5363080501556396\n",
            "Begin KNN operations\n",
            "End KNN operations, time taken: 0.8515682220458984\n",
            "Begin KNN operations\n",
            "End KNN operations, time taken: 1.1991374492645264\n",
            "Begin KNN operations\n",
            "End KNN operations, time taken: 2.159778118133545\n",
            "Begin KNN operations\n",
            "End KNN operations, time taken: 1.611130952835083\n",
            "Begin KNN operations\n",
            "End KNN operations, time taken: 1.8757927417755127\n",
            "Begin KNN operations\n",
            "End KNN operations, time taken: 2.128059148788452\n",
            "Begin KNN operations\n",
            "End KNN operations, time taken: 2.4494314193725586\n",
            "Begin KNN operations\n"
          ]
        },
        {
          "output_type": "stream",
          "name": "stderr",
          "text": [
            "\rtraining:  18%|█▊        | 35/200 [10:45<49:03, 17.84s/it]"
          ]
        },
        {
          "output_type": "stream",
          "name": "stdout",
          "text": [
            "End KNN operations, time taken: 3.2562224864959717\n",
            "training loss: 2.8785343408584594\n",
            "End document, total time: 17.80351233482361\n",
            "Begin document\n",
            "Begin KNN operations\n",
            "End KNN operations, time taken: 0.5039675235748291\n",
            "Begin KNN operations\n",
            "End KNN operations, time taken: 0.8087220191955566\n",
            "Begin KNN operations\n",
            "End KNN operations, time taken: 1.0869290828704834\n",
            "Begin KNN operations\n",
            "End KNN operations, time taken: 1.3281638622283936\n",
            "Begin KNN operations\n",
            "End KNN operations, time taken: 1.5729601383209229\n",
            "Begin KNN operations\n",
            "End KNN operations, time taken: 1.8440139293670654\n",
            "Begin KNN operations\n",
            "End KNN operations, time taken: 2.03385591506958\n",
            "Begin KNN operations\n",
            "End KNN operations, time taken: 3.6788878440856934\n",
            "Begin KNN operations\n"
          ]
        },
        {
          "output_type": "stream",
          "name": "stderr",
          "text": [
            "\rtraining:  18%|█▊        | 36/200 [11:03<48:23, 17.70s/it]"
          ]
        },
        {
          "output_type": "stream",
          "name": "stdout",
          "text": [
            "End KNN operations, time taken: 2.6276910305023193\n",
            "training loss: 2.888151788711548\n",
            "End document, total time: 17.15183401107788\n",
            "Begin document\n",
            "Begin KNN operations\n",
            "End KNN operations, time taken: 0.5204057693481445\n",
            "Begin KNN operations\n",
            "End KNN operations, time taken: 0.8216323852539062\n",
            "Begin KNN operations\n",
            "End KNN operations, time taken: 1.0809485912322998\n",
            "Begin KNN operations\n",
            "End KNN operations, time taken: 1.3122451305389404\n",
            "Begin KNN operations\n",
            "End KNN operations, time taken: 1.547508955001831\n",
            "Begin KNN operations\n",
            "End KNN operations, time taken: 3.1023976802825928\n",
            "Begin KNN operations\n",
            "End KNN operations, time taken: 2.1275439262390137\n",
            "Begin KNN operations\n",
            "End KNN operations, time taken: 2.3941478729248047\n",
            "Begin KNN operations\n"
          ]
        },
        {
          "output_type": "stream",
          "name": "stderr",
          "text": [
            "\rtraining:  18%|█▊        | 37/200 [11:20<47:51, 17.61s/it]"
          ]
        },
        {
          "output_type": "stream",
          "name": "stdout",
          "text": [
            "End KNN operations, time taken: 2.615476608276367\n",
            "training loss: 2.8561847209930424\n",
            "End document, total time: 17.215912580490112\n",
            "Begin document\n",
            "Begin KNN operations\n",
            "End KNN operations, time taken: 0.5254440307617188\n",
            "Begin KNN operations\n",
            "End KNN operations, time taken: 0.8281915187835693\n",
            "Begin KNN operations\n",
            "End KNN operations, time taken: 1.6589229106903076\n",
            "Begin KNN operations\n",
            "End KNN operations, time taken: 1.862229585647583\n",
            "Begin KNN operations\n",
            "End KNN operations, time taken: 1.591785192489624\n",
            "Begin KNN operations\n",
            "End KNN operations, time taken: 1.8426620960235596\n",
            "Begin KNN operations\n",
            "End KNN operations, time taken: 2.0761914253234863\n",
            "Begin KNN operations\n",
            "End KNN operations, time taken: 2.4069182872772217\n",
            "Begin KNN operations\n"
          ]
        },
        {
          "output_type": "stream",
          "name": "stderr",
          "text": [
            "\rtraining:  19%|█▉        | 38/200 [11:39<48:14, 17.87s/it]"
          ]
        },
        {
          "output_type": "stream",
          "name": "stdout",
          "text": [
            "End KNN operations, time taken: 3.8150293827056885\n",
            "training loss: 2.7991246461868284\n",
            "End document, total time: 18.250723123550415\n",
            "Begin document\n",
            "Begin KNN operations\n",
            "End KNN operations, time taken: 0.5395998954772949\n",
            "Begin KNN operations\n",
            "End KNN operations, time taken: 0.8550448417663574\n",
            "Begin KNN operations\n",
            "End KNN operations, time taken: 1.1075878143310547\n",
            "Begin KNN operations\n",
            "End KNN operations, time taken: 1.8111727237701416\n",
            "Begin KNN operations\n",
            "End KNN operations, time taken: 2.3527088165283203\n",
            "Begin KNN operations\n",
            "End KNN operations, time taken: 1.856830358505249\n",
            "Begin KNN operations\n",
            "End KNN operations, time taken: 3.5127408504486084\n",
            "Begin KNN operations\n",
            "End KNN operations, time taken: 2.369612216949463\n",
            "Begin KNN operations\n"
          ]
        },
        {
          "output_type": "stream",
          "name": "stderr",
          "text": [
            "\rtraining:  20%|█▉        | 39/200 [11:58<48:55, 18.23s/it]"
          ]
        },
        {
          "output_type": "stream",
          "name": "stdout",
          "text": [
            "End KNN operations, time taken: 2.660896062850952\n",
            "training loss: 2.918005633354187\n",
            "End document, total time: 18.85318088531494\n",
            "Begin document\n",
            "Begin KNN operations\n",
            "End KNN operations, time taken: 0.5307104587554932\n",
            "Begin KNN operations\n",
            "End KNN operations, time taken: 0.8743994235992432\n",
            "Begin KNN operations\n",
            "End KNN operations, time taken: 1.1273484230041504\n",
            "Begin KNN operations\n",
            "End KNN operations, time taken: 1.7308003902435303\n",
            "Begin KNN operations\n",
            "End KNN operations, time taken: 2.528630495071411\n",
            "Begin KNN operations\n",
            "End KNN operations, time taken: 1.8390204906463623\n",
            "Begin KNN operations\n",
            "End KNN operations, time taken: 2.081247329711914\n",
            "Begin KNN operations\n",
            "End KNN operations, time taken: 2.354159116744995\n",
            "Begin KNN operations\n"
          ]
        },
        {
          "output_type": "stream",
          "name": "stderr",
          "text": [
            "\rtraining:  20%|██        | 40/200 [12:15<48:06, 18.04s/it]"
          ]
        },
        {
          "output_type": "stream",
          "name": "stdout",
          "text": [
            "End KNN operations, time taken: 2.680327892303467\n",
            "training loss: 2.8175379991531373\n",
            "End document, total time: 17.383957624435425\n",
            "Begin document\n",
            "Begin KNN operations\n",
            "End KNN operations, time taken: 0.7465331554412842\n",
            "Begin KNN operations\n",
            "End KNN operations, time taken: 1.2494440078735352\n",
            "Begin KNN operations\n",
            "End KNN operations, time taken: 1.086444616317749\n",
            "Begin KNN operations\n",
            "End KNN operations, time taken: 1.331779956817627\n",
            "Begin KNN operations\n",
            "End KNN operations, time taken: 1.613386869430542\n",
            "Begin KNN operations\n",
            "End KNN operations, time taken: 1.8257861137390137\n",
            "Begin KNN operations\n",
            "End KNN operations, time taken: 2.076310157775879\n",
            "Begin KNN operations\n",
            "End KNN operations, time taken: 2.898395299911499\n",
            "Begin KNN operations\n"
          ]
        },
        {
          "output_type": "stream",
          "name": "stderr",
          "text": [
            "\rtraining:  20%|██        | 41/200 [12:33<47:43, 18.01s/it]"
          ]
        },
        {
          "output_type": "stream",
          "name": "stdout",
          "text": [
            "End KNN operations, time taken: 3.217031240463257\n",
            "training loss: 2.7437067508697512\n",
            "End document, total time: 17.757566213607788\n",
            "Begin document\n",
            "Begin KNN operations\n",
            "End KNN operations, time taken: 0.5147826671600342\n",
            "Begin KNN operations\n",
            "End KNN operations, time taken: 0.842036247253418\n",
            "Begin KNN operations\n",
            "End KNN operations, time taken: 1.081284761428833\n",
            "Begin KNN operations\n",
            "End KNN operations, time taken: 1.3223540782928467\n",
            "Begin KNN operations\n",
            "End KNN operations, time taken: 1.5583579540252686\n",
            "Begin KNN operations\n",
            "End KNN operations, time taken: 2.0370614528656006\n",
            "Begin KNN operations\n",
            "End KNN operations, time taken: 3.1929333209991455\n",
            "Begin KNN operations\n",
            "End KNN operations, time taken: 2.3946433067321777\n",
            "Begin KNN operations\n"
          ]
        },
        {
          "output_type": "stream",
          "name": "stderr",
          "text": [
            "\rtraining:  21%|██        | 42/200 [12:51<46:57, 17.83s/it]"
          ]
        },
        {
          "output_type": "stream",
          "name": "stdout",
          "text": [
            "End KNN operations, time taken: 2.5687196254730225\n",
            "training loss: 2.784251213073731\n",
            "End document, total time: 17.22818088531494\n",
            "Begin document\n",
            "Begin KNN operations\n",
            "End KNN operations, time taken: 0.5328922271728516\n",
            "Begin KNN operations\n",
            "End KNN operations, time taken: 0.811126708984375\n",
            "Begin KNN operations\n",
            "End KNN operations, time taken: 1.0693550109863281\n",
            "Begin KNN operations\n",
            "End KNN operations, time taken: 1.9025733470916748\n",
            "Begin KNN operations\n",
            "End KNN operations, time taken: 2.2935354709625244\n",
            "Begin KNN operations\n",
            "End KNN operations, time taken: 1.8657982349395752\n",
            "Begin KNN operations\n",
            "End KNN operations, time taken: 2.1205015182495117\n",
            "Begin KNN operations\n",
            "End KNN operations, time taken: 2.3779141902923584\n",
            "Begin KNN operations\n"
          ]
        },
        {
          "output_type": "stream",
          "name": "stderr",
          "text": [
            "\rtraining:  22%|██▏       | 43/200 [13:08<46:22, 17.72s/it]"
          ]
        },
        {
          "output_type": "stream",
          "name": "stdout",
          "text": [
            "End KNN operations, time taken: 2.608962059020996\n",
            "training loss: 2.857908725738526\n",
            "End document, total time: 17.260461807250977\n",
            "Begin document\n",
            "Begin KNN operations\n",
            "End KNN operations, time taken: 0.7083008289337158\n",
            "Begin KNN operations\n",
            "End KNN operations, time taken: 0.9592583179473877\n",
            "Begin KNN operations\n",
            "End KNN operations, time taken: 1.0831325054168701\n",
            "Begin KNN operations\n",
            "End KNN operations, time taken: 1.3214364051818848\n",
            "Begin KNN operations\n",
            "End KNN operations, time taken: 1.5883440971374512\n",
            "Begin KNN operations\n",
            "End KNN operations, time taken: 1.8440358638763428\n",
            "Begin KNN operations\n",
            "End KNN operations, time taken: 2.0901882648468018\n",
            "Begin KNN operations\n",
            "End KNN operations, time taken: 3.3963215351104736\n",
            "Begin KNN operations\n"
          ]
        },
        {
          "output_type": "stream",
          "name": "stderr",
          "text": [
            "\rtraining:  22%|██▏       | 44/200 [13:26<46:00, 17.69s/it]"
          ]
        },
        {
          "output_type": "stream",
          "name": "stdout",
          "text": [
            "End KNN operations, time taken: 2.628086805343628\n",
            "training loss: 2.752458667755127\n",
            "End document, total time: 17.369375228881836\n",
            "Begin document\n",
            "Begin KNN operations\n",
            "End KNN operations, time taken: 0.5263199806213379\n",
            "Begin KNN operations\n",
            "End KNN operations, time taken: 0.7947309017181396\n",
            "Begin KNN operations\n",
            "End KNN operations, time taken: 1.0614492893218994\n",
            "Begin KNN operations\n",
            "End KNN operations, time taken: 1.3102071285247803\n",
            "Begin KNN operations\n",
            "End KNN operations, time taken: 1.5917844772338867\n",
            "Begin KNN operations\n",
            "End KNN operations, time taken: 2.660613775253296\n",
            "Begin KNN operations\n",
            "End KNN operations, time taken: 2.5388293266296387\n",
            "Begin KNN operations\n",
            "End KNN operations, time taken: 2.366687774658203\n",
            "Begin KNN operations\n"
          ]
        },
        {
          "output_type": "stream",
          "name": "stderr",
          "text": [
            "\rtraining:  22%|██▎       | 45/200 [13:43<45:32, 17.63s/it]"
          ]
        },
        {
          "output_type": "stream",
          "name": "stdout",
          "text": [
            "End KNN operations, time taken: 2.653536081314087\n",
            "training loss: 2.704523205757141\n",
            "End document, total time: 17.277406454086304\n",
            "Begin document\n",
            "Begin KNN operations\n",
            "End KNN operations, time taken: 0.5288763046264648\n",
            "Begin KNN operations\n",
            "End KNN operations, time taken: 0.8323974609375\n",
            "Begin KNN operations\n",
            "End KNN operations, time taken: 1.1623308658599854\n",
            "Begin KNN operations\n",
            "End KNN operations, time taken: 2.2082359790802\n",
            "Begin KNN operations\n",
            "End KNN operations, time taken: 1.6381151676177979\n",
            "Begin KNN operations\n",
            "End KNN operations, time taken: 1.8265471458435059\n",
            "Begin KNN operations\n",
            "End KNN operations, time taken: 2.0815165042877197\n",
            "Begin KNN operations\n",
            "End KNN operations, time taken: 2.4032373428344727\n",
            "Begin KNN operations\n"
          ]
        },
        {
          "output_type": "stream",
          "name": "stderr",
          "text": [
            "\rtraining:  23%|██▎       | 46/200 [14:01<45:21, 17.67s/it]"
          ]
        },
        {
          "output_type": "stream",
          "name": "stdout",
          "text": [
            "End KNN operations, time taken: 3.2115681171417236\n",
            "training loss: 2.7841542482376096\n",
            "End document, total time: 17.552823305130005\n",
            "Begin document\n",
            "Begin KNN operations\n",
            "End KNN operations, time taken: 0.5156235694885254\n",
            "Begin KNN operations\n",
            "End KNN operations, time taken: 0.8182339668273926\n",
            "Begin KNN operations\n",
            "End KNN operations, time taken: 1.1082837581634521\n",
            "Begin KNN operations\n",
            "End KNN operations, time taken: 1.3426334857940674\n",
            "Begin KNN operations\n",
            "End KNN operations, time taken: 1.597625732421875\n",
            "Begin KNN operations\n",
            "End KNN operations, time taken: 1.8894107341766357\n",
            "Begin KNN operations\n",
            "End KNN operations, time taken: 2.0654544830322266\n",
            "Begin KNN operations\n",
            "End KNN operations, time taken: 4.188537836074829\n",
            "Begin KNN operations\n"
          ]
        },
        {
          "output_type": "stream",
          "name": "stderr",
          "text": [
            "\rtraining:  24%|██▎       | 47/200 [14:20<45:56, 18.02s/it]"
          ]
        },
        {
          "output_type": "stream",
          "name": "stdout",
          "text": [
            "End KNN operations, time taken: 3.325443983078003\n",
            "training loss: 2.665877795219421\n",
            "End document, total time: 18.619187831878662\n",
            "Begin document\n",
            "Begin KNN operations\n",
            "End KNN operations, time taken: 0.5269448757171631\n",
            "Begin KNN operations\n",
            "End KNN operations, time taken: 0.8115971088409424\n",
            "Begin KNN operations\n",
            "End KNN operations, time taken: 1.083608865737915\n",
            "Begin KNN operations\n",
            "End KNN operations, time taken: 1.3227639198303223\n",
            "Begin KNN operations\n",
            "End KNN operations, time taken: 2.3143749237060547\n",
            "Begin KNN operations\n",
            "End KNN operations, time taken: 2.3395397663116455\n",
            "Begin KNN operations\n",
            "End KNN operations, time taken: 2.0766208171844482\n",
            "Begin KNN operations\n",
            "End KNN operations, time taken: 2.3727121353149414\n",
            "Begin KNN operations\n"
          ]
        },
        {
          "output_type": "stream",
          "name": "stderr",
          "text": [
            "\rtraining:  24%|██▍       | 48/200 [14:37<45:12, 17.85s/it]"
          ]
        },
        {
          "output_type": "stream",
          "name": "stdout",
          "text": [
            "End KNN operations, time taken: 2.5950284004211426\n",
            "training loss: 2.7349448680877693\n",
            "End document, total time: 17.244662046432495\n",
            "Begin document\n",
            "Begin KNN operations\n",
            "End KNN operations, time taken: 0.5333342552185059\n",
            "Begin KNN operations\n",
            "End KNN operations, time taken: 1.2257740497589111\n",
            "Begin KNN operations\n",
            "End KNN operations, time taken: 1.7037813663482666\n",
            "Begin KNN operations\n",
            "End KNN operations, time taken: 1.3431005477905273\n",
            "Begin KNN operations\n",
            "End KNN operations, time taken: 1.5965051651000977\n",
            "Begin KNN operations\n",
            "End KNN operations, time taken: 1.8420333862304688\n",
            "Begin KNN operations\n",
            "End KNN operations, time taken: 2.076204299926758\n",
            "Begin KNN operations\n",
            "End KNN operations, time taken: 2.3221781253814697\n",
            "Begin KNN operations\n"
          ]
        },
        {
          "output_type": "stream",
          "name": "stderr",
          "text": [
            "\rtraining:  24%|██▍       | 49/200 [14:56<45:27, 18.06s/it]"
          ]
        },
        {
          "output_type": "stream",
          "name": "stdout",
          "text": [
            "End KNN operations, time taken: 3.9129910469055176\n",
            "training loss: 2.6604883909225467\n",
            "End document, total time: 18.36257839202881\n",
            "Begin document\n",
            "Begin KNN operations\n",
            "End KNN operations, time taken: 0.5184841156005859\n",
            "Begin KNN operations\n",
            "End KNN operations, time taken: 0.8167941570281982\n",
            "Begin KNN operations\n",
            "End KNN operations, time taken: 1.0590019226074219\n",
            "Begin KNN operations\n",
            "End KNN operations, time taken: 1.3309669494628906\n",
            "Begin KNN operations\n",
            "End KNN operations, time taken: 1.570357084274292\n",
            "Begin KNN operations\n",
            "End KNN operations, time taken: 1.8598225116729736\n",
            "Begin KNN operations\n",
            "End KNN operations, time taken: 3.3465726375579834\n",
            "Begin KNN operations\n",
            "End KNN operations, time taken: 2.3892362117767334\n",
            "Begin KNN operations\n"
          ]
        },
        {
          "output_type": "stream",
          "name": "stderr",
          "text": [
            "\rtraining:  25%|██▌       | 50/200 [15:13<44:36, 17.84s/it]"
          ]
        },
        {
          "output_type": "stream",
          "name": "stdout",
          "text": [
            "End KNN operations, time taken: 2.568835496902466\n",
            "training loss: 2.666727805137634\n",
            "End document, total time: 17.138594388961792\n",
            "Begin document\n",
            "Begin KNN operations\n",
            "End KNN operations, time taken: 0.5122675895690918\n",
            "Begin KNN operations\n",
            "End KNN operations, time taken: 0.8427553176879883\n",
            "Begin KNN operations\n",
            "End KNN operations, time taken: 1.0691707134246826\n",
            "Begin KNN operations\n",
            "End KNN operations, time taken: 1.3597958087921143\n",
            "Begin KNN operations\n",
            "End KNN operations, time taken: 2.652698040008545\n",
            "Begin KNN operations\n",
            "End KNN operations, time taken: 1.8348586559295654\n",
            "Begin KNN operations\n",
            "End KNN operations, time taken: 2.0921528339385986\n",
            "Begin KNN operations\n",
            "End KNN operations, time taken: 2.381031036376953\n",
            "Begin KNN operations\n"
          ]
        },
        {
          "output_type": "stream",
          "name": "stderr",
          "text": [
            "\rtraining:  26%|██▌       | 51/200 [15:30<43:49, 17.65s/it]"
          ]
        },
        {
          "output_type": "stream",
          "name": "stdout",
          "text": [
            "End KNN operations, time taken: 2.6394646167755127\n",
            "training loss: 2.8442923784255982\n",
            "End document, total time: 16.991594076156616\n",
            "Begin document\n",
            "Begin KNN operations\n",
            "End KNN operations, time taken: 0.7128064632415771\n",
            "Begin KNN operations\n",
            "End KNN operations, time taken: 1.2175476551055908\n",
            "Begin KNN operations\n",
            "End KNN operations, time taken: 1.171377420425415\n",
            "Begin KNN operations\n",
            "End KNN operations, time taken: 1.3361725807189941\n",
            "Begin KNN operations\n",
            "End KNN operations, time taken: 1.5881223678588867\n",
            "Begin KNN operations\n",
            "End KNN operations, time taken: 1.8190596103668213\n",
            "Begin KNN operations\n",
            "End KNN operations, time taken: 2.144829511642456\n",
            "Begin KNN operations\n",
            "End KNN operations, time taken: 2.8101797103881836\n",
            "Begin KNN operations\n"
          ]
        },
        {
          "output_type": "stream",
          "name": "stderr",
          "text": [
            "\rtraining:  26%|██▌       | 52/200 [15:49<44:01, 17.85s/it]"
          ]
        },
        {
          "output_type": "stream",
          "name": "stdout",
          "text": [
            "End KNN operations, time taken: 3.496257781982422\n",
            "training loss: 2.663610553741455\n",
            "End document, total time: 18.110551357269287\n",
            "Begin document\n",
            "Begin KNN operations\n",
            "End KNN operations, time taken: 0.5211198329925537\n",
            "Begin KNN operations\n",
            "End KNN operations, time taken: 0.821242094039917\n",
            "Begin KNN operations\n",
            "End KNN operations, time taken: 1.0709357261657715\n",
            "Begin KNN operations\n",
            "End KNN operations, time taken: 1.3257808685302734\n",
            "Begin KNN operations\n",
            "End KNN operations, time taken: 1.5826475620269775\n",
            "Begin KNN operations\n",
            "End KNN operations, time taken: 1.9475042819976807\n",
            "Begin KNN operations\n",
            "End KNN operations, time taken: 3.218449115753174\n",
            "Begin KNN operations\n",
            "End KNN operations, time taken: 2.393406867980957\n",
            "Begin KNN operations\n"
          ]
        },
        {
          "output_type": "stream",
          "name": "stderr",
          "text": [
            "\rtraining:  26%|██▋       | 53/200 [16:06<43:25, 17.73s/it]"
          ]
        },
        {
          "output_type": "stream",
          "name": "stdout",
          "text": [
            "End KNN operations, time taken: 2.6621932983398438\n",
            "training loss: 2.8141170263290407\n",
            "End document, total time: 17.23067355155945\n",
            "Begin document\n",
            "Begin KNN operations\n",
            "End KNN operations, time taken: 0.5239808559417725\n",
            "Begin KNN operations\n",
            "End KNN operations, time taken: 0.8322980403900146\n",
            "Begin KNN operations\n",
            "End KNN operations, time taken: 1.083632230758667\n",
            "Begin KNN operations\n",
            "End KNN operations, time taken: 1.9956839084625244\n",
            "Begin KNN operations\n",
            "End KNN operations, time taken: 2.1737563610076904\n",
            "Begin KNN operations\n",
            "End KNN operations, time taken: 1.8494563102722168\n",
            "Begin KNN operations\n",
            "End KNN operations, time taken: 2.0891048908233643\n",
            "Begin KNN operations\n",
            "End KNN operations, time taken: 2.3565542697906494\n",
            "Begin KNN operations\n"
          ]
        },
        {
          "output_type": "stream",
          "name": "stderr",
          "text": [
            "\rtraining:  27%|██▋       | 54/200 [16:24<43:01, 17.68s/it]"
          ]
        },
        {
          "output_type": "stream",
          "name": "stdout",
          "text": [
            "End KNN operations, time taken: 2.6886398792266846\n",
            "training loss: 2.724227643013001\n",
            "End document, total time: 17.370054006576538\n",
            "Begin document\n",
            "Begin KNN operations\n",
            "End KNN operations, time taken: 0.7222745418548584\n",
            "Begin KNN operations\n",
            "End KNN operations, time taken: 0.9118542671203613\n",
            "Begin KNN operations\n",
            "End KNN operations, time taken: 1.0863821506500244\n",
            "Begin KNN operations\n",
            "End KNN operations, time taken: 1.3492934703826904\n",
            "Begin KNN operations\n",
            "End KNN operations, time taken: 1.5804808139801025\n",
            "Begin KNN operations\n",
            "End KNN operations, time taken: 1.848384141921997\n",
            "Begin KNN operations\n",
            "End KNN operations, time taken: 2.0959866046905518\n",
            "Begin KNN operations\n",
            "End KNN operations, time taken: 3.470686674118042\n",
            "Begin KNN operations\n"
          ]
        },
        {
          "output_type": "stream",
          "name": "stderr",
          "text": [
            "\rtraining:  28%|██▊       | 55/200 [16:41<42:46, 17.70s/it]"
          ]
        },
        {
          "output_type": "stream",
          "name": "stdout",
          "text": [
            "End KNN operations, time taken: 2.659234046936035\n",
            "training loss: 2.679787802696228\n",
            "End document, total time: 17.506206035614014\n",
            "Begin document\n",
            "Begin KNN operations\n",
            "End KNN operations, time taken: 0.5221781730651855\n",
            "Begin KNN operations\n",
            "End KNN operations, time taken: 1.1331748962402344\n",
            "Begin KNN operations\n",
            "End KNN operations, time taken: 1.6839511394500732\n",
            "Begin KNN operations\n",
            "End KNN operations, time taken: 1.336474895477295\n",
            "Begin KNN operations\n",
            "End KNN operations, time taken: 1.6208350658416748\n",
            "Begin KNN operations\n",
            "End KNN operations, time taken: 3.0308823585510254\n",
            "Begin KNN operations\n",
            "End KNN operations, time taken: 2.10349178314209\n",
            "Begin KNN operations\n",
            "End KNN operations, time taken: 2.3393070697784424\n",
            "Begin KNN operations\n"
          ]
        },
        {
          "output_type": "stream",
          "name": "stderr",
          "text": [
            "\rtraining:  28%|██▊       | 56/200 [17:00<42:53, 17.87s/it]"
          ]
        },
        {
          "output_type": "stream",
          "name": "stdout",
          "text": [
            "End KNN operations, time taken: 2.5848681926727295\n",
            "training loss: 2.6747100591659545\n",
            "End document, total time: 18.07711100578308\n",
            "Begin document\n",
            "Begin KNN operations\n",
            "End KNN operations, time taken: 0.5273823738098145\n",
            "Begin KNN operations\n",
            "End KNN operations, time taken: 0.8291833400726318\n",
            "Begin KNN operations\n",
            "End KNN operations, time taken: 1.684147834777832\n",
            "Begin KNN operations\n",
            "End KNN operations, time taken: 1.8837645053863525\n",
            "Begin KNN operations\n",
            "End KNN operations, time taken: 1.5585198402404785\n",
            "Begin KNN operations\n",
            "End KNN operations, time taken: 1.8243441581726074\n",
            "Begin KNN operations\n",
            "End KNN operations, time taken: 2.0944738388061523\n",
            "Begin KNN operations\n",
            "End KNN operations, time taken: 2.3886191844940186\n",
            "Begin KNN operations\n"
          ]
        },
        {
          "output_type": "stream",
          "name": "stderr",
          "text": [
            "\rtraining:  28%|██▊       | 57/200 [17:18<43:09, 18.11s/it]"
          ]
        },
        {
          "output_type": "stream",
          "name": "stdout",
          "text": [
            "End KNN operations, time taken: 3.8731002807617188\n",
            "training loss: 2.6647148847579953\n",
            "End document, total time: 18.461211442947388\n",
            "Begin document\n",
            "Begin KNN operations\n",
            "End KNN operations, time taken: 0.5211830139160156\n",
            "Begin KNN operations\n",
            "End KNN operations, time taken: 0.8053715229034424\n",
            "Begin KNN operations\n",
            "End KNN operations, time taken: 1.0567374229431152\n",
            "Begin KNN operations\n",
            "End KNN operations, time taken: 1.305037260055542\n",
            "Begin KNN operations\n",
            "End KNN operations, time taken: 1.606792688369751\n",
            "Begin KNN operations\n",
            "End KNN operations, time taken: 1.8851075172424316\n",
            "Begin KNN operations\n",
            "End KNN operations, time taken: 2.417728900909424\n",
            "Begin KNN operations\n",
            "End KNN operations, time taken: 3.1629929542541504\n",
            "Begin KNN operations\n"
          ]
        },
        {
          "output_type": "stream",
          "name": "stderr",
          "text": [
            "\rtraining:  29%|██▉       | 58/200 [17:36<42:17, 17.87s/it]"
          ]
        },
        {
          "output_type": "stream",
          "name": "stdout",
          "text": [
            "End KNN operations, time taken: 2.640716314315796\n",
            "training loss: 2.619908905029297\n",
            "End document, total time: 17.12397050857544\n",
            "Begin document\n",
            "Begin KNN operations\n",
            "End KNN operations, time taken: 0.5017662048339844\n",
            "Begin KNN operations\n",
            "End KNN operations, time taken: 0.8248636722564697\n",
            "Begin KNN operations\n",
            "End KNN operations, time taken: 1.063060998916626\n",
            "Begin KNN operations\n",
            "End KNN operations, time taken: 1.3090622425079346\n",
            "Begin KNN operations\n",
            "End KNN operations, time taken: 2.1128876209259033\n",
            "Begin KNN operations\n",
            "End KNN operations, time taken: 2.524625539779663\n",
            "Begin KNN operations\n",
            "End KNN operations, time taken: 2.136983871459961\n",
            "Begin KNN operations\n",
            "End KNN operations, time taken: 2.32295298576355\n",
            "Begin KNN operations\n"
          ]
        },
        {
          "output_type": "stream",
          "name": "stderr",
          "text": [
            "\rtraining:  30%|██▉       | 59/200 [17:53<41:40, 17.73s/it]"
          ]
        },
        {
          "output_type": "stream",
          "name": "stdout",
          "text": [
            "End KNN operations, time taken: 2.6123993396759033\n",
            "training loss: 2.607659697532654\n",
            "End document, total time: 17.202818155288696\n",
            "Begin document\n",
            "Begin KNN operations\n",
            "End KNN operations, time taken: 0.5251939296722412\n",
            "Begin KNN operations\n",
            "End KNN operations, time taken: 1.2114558219909668\n",
            "Begin KNN operations\n",
            "End KNN operations, time taken: 1.709787130355835\n",
            "Begin KNN operations\n",
            "End KNN operations, time taken: 1.3257758617401123\n",
            "Begin KNN operations\n",
            "End KNN operations, time taken: 1.6212360858917236\n",
            "Begin KNN operations\n",
            "End KNN operations, time taken: 1.8172039985656738\n",
            "Begin KNN operations\n",
            "End KNN operations, time taken: 2.068178415298462\n",
            "Begin KNN operations\n",
            "End KNN operations, time taken: 2.346367120742798\n",
            "Begin KNN operations\n"
          ]
        },
        {
          "output_type": "stream",
          "name": "stderr",
          "text": [
            "\rtraining:  30%|███       | 60/200 [18:11<41:54, 17.96s/it]"
          ]
        },
        {
          "output_type": "stream",
          "name": "stdout",
          "text": [
            "End KNN operations, time taken: 4.029197454452515\n",
            "training loss: 2.5889561653137205\n",
            "End document, total time: 18.294889211654663\n",
            "Begin document\n",
            "Begin KNN operations\n",
            "End KNN operations, time taken: 0.5339007377624512\n",
            "Begin KNN operations\n",
            "End KNN operations, time taken: 0.8254437446594238\n",
            "Begin KNN operations\n",
            "End KNN operations, time taken: 1.0688157081604004\n",
            "Begin KNN operations\n",
            "End KNN operations, time taken: 1.3552277088165283\n",
            "Begin KNN operations\n",
            "End KNN operations, time taken: 1.5539183616638184\n",
            "Begin KNN operations\n",
            "End KNN operations, time taken: 1.8300552368164062\n",
            "Begin KNN operations\n",
            "End KNN operations, time taken: 3.0185391902923584\n",
            "Begin KNN operations\n",
            "End KNN operations, time taken: 2.502502918243408\n",
            "Begin KNN operations\n"
          ]
        },
        {
          "output_type": "stream",
          "name": "stderr",
          "text": [
            "\rtraining:  30%|███       | 61/200 [18:29<41:07, 17.75s/it]"
          ]
        },
        {
          "output_type": "stream",
          "name": "stdout",
          "text": [
            "End KNN operations, time taken: 2.6072335243225098\n",
            "training loss: 2.6734416961669925\n",
            "End document, total time: 17.04949951171875\n",
            "Begin document\n",
            "Begin KNN operations\n",
            "End KNN operations, time taken: 0.5183355808258057\n",
            "Begin KNN operations\n",
            "End KNN operations, time taken: 0.8203022480010986\n",
            "Begin KNN operations\n",
            "End KNN operations, time taken: 1.0528466701507568\n",
            "Begin KNN operations\n",
            "End KNN operations, time taken: 1.393092393875122\n",
            "Begin KNN operations\n",
            "End KNN operations, time taken: 2.462068557739258\n",
            "Begin KNN operations\n",
            "End KNN operations, time taken: 2.2052149772644043\n",
            "Begin KNN operations\n",
            "End KNN operations, time taken: 2.085271120071411\n",
            "Begin KNN operations\n",
            "End KNN operations, time taken: 2.3512814044952393\n",
            "Begin KNN operations\n"
          ]
        },
        {
          "output_type": "stream",
          "name": "stderr",
          "text": [
            "\rtraining:  31%|███       | 62/200 [18:46<40:30, 17.61s/it]"
          ]
        },
        {
          "output_type": "stream",
          "name": "stdout",
          "text": [
            "End KNN operations, time taken: 2.5969808101654053\n",
            "training loss: 2.614357042312622\n",
            "End document, total time: 17.079472303390503\n",
            "Begin document\n",
            "Begin KNN operations\n",
            "End KNN operations, time taken: 0.5256831645965576\n",
            "Begin KNN operations\n",
            "End KNN operations, time taken: 1.2548890113830566\n",
            "Begin KNN operations\n",
            "End KNN operations, time taken: 1.65938138961792\n",
            "Begin KNN operations\n",
            "End KNN operations, time taken: 1.328324556350708\n",
            "Begin KNN operations\n",
            "End KNN operations, time taken: 1.5735671520233154\n",
            "Begin KNN operations\n",
            "End KNN operations, time taken: 1.818554401397705\n",
            "Begin KNN operations\n",
            "End KNN operations, time taken: 2.1274819374084473\n",
            "Begin KNN operations\n",
            "End KNN operations, time taken: 2.336845874786377\n",
            "Begin KNN operations\n"
          ]
        },
        {
          "output_type": "stream",
          "name": "stderr",
          "text": [
            "\rtraining:  32%|███▏      | 63/200 [19:05<40:47, 17.87s/it]"
          ]
        },
        {
          "output_type": "stream",
          "name": "stdout",
          "text": [
            "End KNN operations, time taken: 3.851571798324585\n",
            "training loss: 2.6323950767517093\n",
            "End document, total time: 18.248674392700195\n",
            "Begin document\n",
            "Begin KNN operations\n",
            "End KNN operations, time taken: 0.5594463348388672\n",
            "Begin KNN operations\n",
            "End KNN operations, time taken: 0.8168284893035889\n",
            "Begin KNN operations\n",
            "End KNN operations, time taken: 1.0720419883728027\n",
            "Begin KNN operations\n",
            "End KNN operations, time taken: 1.3612916469573975\n",
            "Begin KNN operations\n",
            "End KNN operations, time taken: 1.5793101787567139\n",
            "Begin KNN operations\n",
            "End KNN operations, time taken: 3.0520613193511963\n",
            "Begin KNN operations\n",
            "End KNN operations, time taken: 3.324796199798584\n",
            "Begin KNN operations\n",
            "End KNN operations, time taken: 2.339446544647217\n",
            "Begin KNN operations\n"
          ]
        },
        {
          "output_type": "stream",
          "name": "stderr",
          "text": [
            "\rtraining:  32%|███▏      | 64/200 [19:23<41:02, 18.11s/it]"
          ]
        },
        {
          "output_type": "stream",
          "name": "stdout",
          "text": [
            "End KNN operations, time taken: 2.661653995513916\n",
            "training loss: 2.6339779615402223\n",
            "End document, total time: 18.477195024490356\n",
            "Begin document\n",
            "Begin KNN operations\n",
            "End KNN operations, time taken: 0.51430344581604\n",
            "Begin KNN operations\n",
            "End KNN operations, time taken: 0.8302149772644043\n",
            "Begin KNN operations\n",
            "End KNN operations, time taken: 1.089359998703003\n",
            "Begin KNN operations\n",
            "End KNN operations, time taken: 1.8061776161193848\n",
            "Begin KNN operations\n",
            "End KNN operations, time taken: 2.314929246902466\n",
            "Begin KNN operations\n",
            "End KNN operations, time taken: 1.8269214630126953\n",
            "Begin KNN operations\n",
            "End KNN operations, time taken: 2.0842182636260986\n",
            "Begin KNN operations\n",
            "End KNN operations, time taken: 2.3619987964630127\n",
            "Begin KNN operations\n"
          ]
        },
        {
          "output_type": "stream",
          "name": "stderr",
          "text": [
            "\rtraining:  32%|███▎      | 65/200 [19:41<40:12, 17.87s/it]"
          ]
        },
        {
          "output_type": "stream",
          "name": "stdout",
          "text": [
            "End KNN operations, time taken: 2.6298329830169678\n",
            "training loss: 2.6421805620193477\n",
            "End document, total time: 17.144607305526733\n",
            "Begin document\n",
            "Begin KNN operations\n",
            "End KNN operations, time taken: 0.7125778198242188\n",
            "Begin KNN operations\n",
            "End KNN operations, time taken: 1.271162509918213\n",
            "Begin KNN operations\n",
            "End KNN operations, time taken: 1.059727430343628\n",
            "Begin KNN operations\n",
            "End KNN operations, time taken: 1.3177752494812012\n",
            "Begin KNN operations\n",
            "End KNN operations, time taken: 1.5642211437225342\n",
            "Begin KNN operations\n",
            "End KNN operations, time taken: 1.841653823852539\n",
            "Begin KNN operations\n",
            "End KNN operations, time taken: 2.0818347930908203\n",
            "Begin KNN operations\n",
            "End KNN operations, time taken: 2.8624134063720703\n",
            "Begin KNN operations\n"
          ]
        },
        {
          "output_type": "stream",
          "name": "stderr",
          "text": [
            "\rtraining:  33%|███▎      | 66/200 [19:58<39:53, 17.86s/it]"
          ]
        },
        {
          "output_type": "stream",
          "name": "stdout",
          "text": [
            "End KNN operations, time taken: 3.2993128299713135\n",
            "training loss: 2.545354461669922\n",
            "End document, total time: 17.6188485622406\n",
            "Begin document\n",
            "Begin KNN operations\n",
            "End KNN operations, time taken: 0.49651646614074707\n",
            "Begin KNN operations\n",
            "End KNN operations, time taken: 0.814826250076294\n",
            "Begin KNN operations\n",
            "End KNN operations, time taken: 1.0459702014923096\n",
            "Begin KNN operations\n",
            "End KNN operations, time taken: 1.3220500946044922\n",
            "Begin KNN operations\n",
            "End KNN operations, time taken: 1.5817358493804932\n",
            "Begin KNN operations\n",
            "End KNN operations, time taken: 2.0629448890686035\n",
            "Begin KNN operations\n",
            "End KNN operations, time taken: 3.1640467643737793\n",
            "Begin KNN operations\n",
            "End KNN operations, time taken: 2.3345110416412354\n",
            "Begin KNN operations\n"
          ]
        },
        {
          "output_type": "stream",
          "name": "stderr",
          "text": [
            "\rtraining:  34%|███▎      | 67/200 [20:16<39:19, 17.74s/it]"
          ]
        },
        {
          "output_type": "stream",
          "name": "stdout",
          "text": [
            "End KNN operations, time taken: 2.609276533126831\n",
            "training loss: 2.6717406272888184\n",
            "End document, total time: 17.24687170982361\n",
            "Begin document\n",
            "Begin KNN operations\n",
            "End KNN operations, time taken: 0.5327799320220947\n",
            "Begin KNN operations\n",
            "End KNN operations, time taken: 0.8222141265869141\n",
            "Begin KNN operations\n",
            "End KNN operations, time taken: 1.091717004776001\n",
            "Begin KNN operations\n",
            "End KNN operations, time taken: 1.8548800945281982\n",
            "Begin KNN operations\n",
            "End KNN operations, time taken: 2.22682523727417\n",
            "Begin KNN operations\n",
            "End KNN operations, time taken: 1.8321547508239746\n",
            "Begin KNN operations\n",
            "End KNN operations, time taken: 2.0704808235168457\n",
            "Begin KNN operations\n",
            "End KNN operations, time taken: 2.3628885746002197\n",
            "Begin KNN operations\n"
          ]
        },
        {
          "output_type": "stream",
          "name": "stderr",
          "text": [
            "\rtraining:  34%|███▍      | 68/200 [20:33<38:38, 17.57s/it]"
          ]
        },
        {
          "output_type": "stream",
          "name": "stdout",
          "text": [
            "End KNN operations, time taken: 2.5816805362701416\n",
            "training loss: 2.5954333066940305\n",
            "End document, total time: 16.98112988471985\n",
            "Begin document\n",
            "Begin KNN operations\n",
            "End KNN operations, time taken: 0.7263858318328857\n",
            "Begin KNN operations\n",
            "End KNN operations, time taken: 1.2617716789245605\n",
            "Begin KNN operations\n",
            "End KNN operations, time taken: 1.1107261180877686\n",
            "Begin KNN operations\n",
            "End KNN operations, time taken: 1.3177847862243652\n",
            "Begin KNN operations\n",
            "End KNN operations, time taken: 1.6198654174804688\n",
            "Begin KNN operations\n",
            "End KNN operations, time taken: 1.909494161605835\n",
            "Begin KNN operations\n",
            "End KNN operations, time taken: 2.04685115814209\n",
            "Begin KNN operations\n",
            "End KNN operations, time taken: 3.1546053886413574\n",
            "Begin KNN operations\n"
          ]
        },
        {
          "output_type": "stream",
          "name": "stderr",
          "text": [
            "\rtraining:  34%|███▍      | 69/200 [20:51<38:43, 17.74s/it]"
          ]
        },
        {
          "output_type": "stream",
          "name": "stdout",
          "text": [
            "End KNN operations, time taken: 3.0096898078918457\n",
            "training loss: 2.5528637170791626\n",
            "End document, total time: 17.920670986175537\n",
            "Begin document\n",
            "Begin KNN operations\n",
            "End KNN operations, time taken: 0.5220468044281006\n",
            "Begin KNN operations\n",
            "End KNN operations, time taken: 0.8342013359069824\n",
            "Begin KNN operations\n",
            "End KNN operations, time taken: 1.0653421878814697\n",
            "Begin KNN operations\n",
            "End KNN operations, time taken: 1.329019546508789\n",
            "Begin KNN operations\n",
            "End KNN operations, time taken: 1.5943939685821533\n",
            "Begin KNN operations\n",
            "End KNN operations, time taken: 2.220083713531494\n",
            "Begin KNN operations\n",
            "End KNN operations, time taken: 2.8651998043060303\n",
            "Begin KNN operations\n",
            "End KNN operations, time taken: 2.3656463623046875\n",
            "Begin KNN operations\n"
          ]
        },
        {
          "output_type": "stream",
          "name": "stderr",
          "text": [
            "\rtraining:  35%|███▌      | 70/200 [21:09<38:13, 17.64s/it]"
          ]
        },
        {
          "output_type": "stream",
          "name": "stdout",
          "text": [
            "End KNN operations, time taken: 2.645714282989502\n",
            "training loss: 2.5846621990203857\n",
            "End document, total time: 17.212589502334595\n",
            "Begin document\n",
            "Begin KNN operations\n",
            "End KNN operations, time taken: 0.5131595134735107\n",
            "Begin KNN operations\n",
            "End KNN operations, time taken: 0.8518736362457275\n",
            "Begin KNN operations\n",
            "End KNN operations, time taken: 1.090782642364502\n",
            "Begin KNN operations\n",
            "End KNN operations, time taken: 2.1012091636657715\n",
            "Begin KNN operations\n",
            "End KNN operations, time taken: 2.072323799133301\n",
            "Begin KNN operations\n",
            "End KNN operations, time taken: 1.898517370223999\n",
            "Begin KNN operations\n",
            "End KNN operations, time taken: 2.1046321392059326\n",
            "Begin KNN operations\n",
            "End KNN operations, time taken: 2.3530070781707764\n",
            "Begin KNN operations\n"
          ]
        },
        {
          "output_type": "stream",
          "name": "stderr",
          "text": [
            "\rtraining:  36%|███▌      | 71/200 [21:26<37:56, 17.65s/it]"
          ]
        },
        {
          "output_type": "stream",
          "name": "stdout",
          "text": [
            "End KNN operations, time taken: 2.839022159576416\n",
            "training loss: 2.5747466087341313\n",
            "End document, total time: 17.46679711341858\n",
            "Begin document\n",
            "Begin KNN operations\n",
            "End KNN operations, time taken: 0.7466578483581543\n",
            "Begin KNN operations\n",
            "End KNN operations, time taken: 0.8468983173370361\n",
            "Begin KNN operations\n",
            "End KNN operations, time taken: 1.0831563472747803\n",
            "Begin KNN operations\n",
            "End KNN operations, time taken: 1.359940528869629\n",
            "Begin KNN operations\n",
            "End KNN operations, time taken: 1.6055006980895996\n",
            "Begin KNN operations\n",
            "End KNN operations, time taken: 1.8241050243377686\n",
            "Begin KNN operations\n",
            "End KNN operations, time taken: 2.1638662815093994\n",
            "Begin KNN operations\n",
            "End KNN operations, time taken: 4.446617126464844\n",
            "Begin KNN operations\n"
          ]
        },
        {
          "output_type": "stream",
          "name": "stderr",
          "text": [
            "\rtraining:  36%|███▌      | 72/200 [21:45<38:38, 18.12s/it]"
          ]
        },
        {
          "output_type": "stream",
          "name": "stdout",
          "text": [
            "End KNN operations, time taken: 3.0525660514831543\n",
            "training loss: 2.6330116271972654\n",
            "End document, total time: 18.95064425468445\n",
            "Begin document\n",
            "Begin KNN operations\n",
            "End KNN operations, time taken: 0.5098967552185059\n",
            "Begin KNN operations\n",
            "End KNN operations, time taken: 0.8073680400848389\n",
            "Begin KNN operations\n",
            "End KNN operations, time taken: 1.0917763710021973\n",
            "Begin KNN operations\n",
            "End KNN operations, time taken: 1.317023754119873\n",
            "Begin KNN operations\n",
            "End KNN operations, time taken: 1.580399513244629\n",
            "Begin KNN operations\n",
            "End KNN operations, time taken: 2.193178176879883\n",
            "Begin KNN operations\n",
            "End KNN operations, time taken: 2.9944968223571777\n",
            "Begin KNN operations\n",
            "End KNN operations, time taken: 2.3817365169525146\n",
            "Begin KNN operations\n"
          ]
        },
        {
          "output_type": "stream",
          "name": "stderr",
          "text": [
            "\rtraining:  36%|███▋      | 73/200 [22:03<37:53, 17.90s/it]"
          ]
        },
        {
          "output_type": "stream",
          "name": "stdout",
          "text": [
            "End KNN operations, time taken: 2.633072853088379\n",
            "training loss: 2.5203075885772703\n",
            "End document, total time: 17.20494532585144\n",
            "Begin document\n",
            "Begin KNN operations\n",
            "End KNN operations, time taken: 0.5273532867431641\n",
            "Begin KNN operations\n",
            "End KNN operations, time taken: 0.8137400150299072\n",
            "Begin KNN operations\n",
            "End KNN operations, time taken: 1.114537239074707\n",
            "Begin KNN operations\n",
            "End KNN operations, time taken: 2.098221778869629\n",
            "Begin KNN operations\n",
            "End KNN operations, time taken: 2.006211042404175\n",
            "Begin KNN operations\n",
            "End KNN operations, time taken: 1.841747760772705\n",
            "Begin KNN operations\n",
            "End KNN operations, time taken: 2.114044427871704\n",
            "Begin KNN operations\n",
            "End KNN operations, time taken: 2.4287490844726562\n",
            "Begin KNN operations\n"
          ]
        },
        {
          "output_type": "stream",
          "name": "stderr",
          "text": [
            "\rtraining:  37%|███▋      | 74/200 [22:20<37:27, 17.83s/it]"
          ]
        },
        {
          "output_type": "stream",
          "name": "stdout",
          "text": [
            "End KNN operations, time taken: 2.798550844192505\n",
            "training loss: 2.612251281738281\n",
            "End document, total time: 17.46869993209839\n",
            "Begin document\n",
            "Begin KNN operations\n",
            "End KNN operations, time taken: 0.7504677772521973\n",
            "Begin KNN operations\n",
            "End KNN operations, time taken: 0.8373916149139404\n",
            "Begin KNN operations\n",
            "End KNN operations, time taken: 1.0874781608581543\n",
            "Begin KNN operations\n",
            "End KNN operations, time taken: 1.3174200057983398\n",
            "Begin KNN operations\n",
            "End KNN operations, time taken: 1.5837376117706299\n",
            "Begin KNN operations\n",
            "End KNN operations, time taken: 1.8544414043426514\n",
            "Begin KNN operations\n",
            "End KNN operations, time taken: 2.0777151584625244\n",
            "Begin KNN operations\n",
            "End KNN operations, time taken: 3.6257171630859375\n",
            "Begin KNN operations\n"
          ]
        },
        {
          "output_type": "stream",
          "name": "stderr",
          "text": [
            "\rtraining:  38%|███▊      | 75/200 [22:38<37:05, 17.81s/it]"
          ]
        },
        {
          "output_type": "stream",
          "name": "stdout",
          "text": [
            "End KNN operations, time taken: 2.7029924392700195\n",
            "training loss: 2.579323482513428\n",
            "End document, total time: 17.505273580551147\n",
            "Begin document\n",
            "Begin KNN operations\n",
            "End KNN operations, time taken: 0.5457396507263184\n",
            "Begin KNN operations\n",
            "End KNN operations, time taken: 0.8347735404968262\n",
            "Begin KNN operations\n",
            "End KNN operations, time taken: 1.1520168781280518\n",
            "Begin KNN operations\n",
            "End KNN operations, time taken: 1.3557319641113281\n",
            "Begin KNN operations\n",
            "End KNN operations, time taken: 1.580406904220581\n",
            "Begin KNN operations\n",
            "End KNN operations, time taken: 2.878931760787964\n",
            "Begin KNN operations\n",
            "End KNN operations, time taken: 2.1401073932647705\n",
            "Begin KNN operations\n",
            "End KNN operations, time taken: 2.381056547164917\n",
            "Begin KNN operations\n"
          ]
        },
        {
          "output_type": "stream",
          "name": "stderr",
          "text": [
            "\rtraining:  38%|███▊      | 76/200 [22:56<36:36, 17.71s/it]"
          ]
        },
        {
          "output_type": "stream",
          "name": "stdout",
          "text": [
            "End KNN operations, time taken: 2.653425931930542\n",
            "training loss: 2.5103899478912357\n",
            "End document, total time: 17.280006408691406\n",
            "Begin document\n",
            "Begin KNN operations\n",
            "End KNN operations, time taken: 0.5382206439971924\n",
            "Begin KNN operations\n",
            "End KNN operations, time taken: 0.8178455829620361\n",
            "Begin KNN operations\n",
            "End KNN operations, time taken: 1.7041034698486328\n",
            "Begin KNN operations\n",
            "End KNN operations, time taken: 1.9546732902526855\n",
            "Begin KNN operations\n",
            "End KNN operations, time taken: 1.6098957061767578\n",
            "Begin KNN operations\n",
            "End KNN operations, time taken: 1.82958984375\n",
            "Begin KNN operations\n",
            "End KNN operations, time taken: 2.1363160610198975\n",
            "Begin KNN operations\n",
            "End KNN operations, time taken: 2.3603832721710205\n",
            "Begin KNN operations\n"
          ]
        },
        {
          "output_type": "stream",
          "name": "stderr",
          "text": [
            "\rtraining:  38%|███▊      | 77/200 [23:14<36:54, 18.00s/it]"
          ]
        },
        {
          "output_type": "stream",
          "name": "stdout",
          "text": [
            "End KNN operations, time taken: 3.717081069946289\n",
            "training loss: 2.797356700897217\n",
            "End document, total time: 18.461421012878418\n",
            "Begin document\n",
            "Begin KNN operations\n",
            "End KNN operations, time taken: 0.525712251663208\n",
            "Begin KNN operations\n",
            "End KNN operations, time taken: 0.8358302116394043\n",
            "Begin KNN operations\n",
            "End KNN operations, time taken: 1.0754668712615967\n",
            "Begin KNN operations\n",
            "End KNN operations, time taken: 1.3153021335601807\n",
            "Begin KNN operations\n",
            "End KNN operations, time taken: 1.5727221965789795\n",
            "Begin KNN operations\n",
            "End KNN operations, time taken: 1.8550200462341309\n",
            "Begin KNN operations\n",
            "End KNN operations, time taken: 2.6204915046691895\n",
            "Begin KNN operations\n",
            "End KNN operations, time taken: 3.0334362983703613\n",
            "Begin KNN operations\n"
          ]
        },
        {
          "output_type": "stream",
          "name": "stderr",
          "text": [
            "\rtraining:  39%|███▉      | 78/200 [23:32<36:20, 17.88s/it]"
          ]
        },
        {
          "output_type": "stream",
          "name": "stdout",
          "text": [
            "End KNN operations, time taken: 2.591756820678711\n",
            "training loss: 2.5388087272644047\n",
            "End document, total time: 17.216663599014282\n",
            "Begin document\n",
            "Begin KNN operations\n",
            "End KNN operations, time taken: 0.5251538753509521\n",
            "Begin KNN operations\n",
            "End KNN operations, time taken: 0.8131587505340576\n",
            "Begin KNN operations\n",
            "End KNN operations, time taken: 1.0783021450042725\n",
            "Begin KNN operations\n",
            "End KNN operations, time taken: 1.3513102531433105\n",
            "Begin KNN operations\n",
            "End KNN operations, time taken: 2.0968644618988037\n",
            "Begin KNN operations\n",
            "End KNN operations, time taken: 2.6171395778656006\n",
            "Begin KNN operations\n",
            "End KNN operations, time taken: 2.1142289638519287\n",
            "Begin KNN operations\n",
            "End KNN operations, time taken: 2.3313839435577393\n",
            "Begin KNN operations\n"
          ]
        },
        {
          "output_type": "stream",
          "name": "stderr",
          "text": [
            "\rtraining:  40%|███▉      | 79/200 [23:49<35:48, 17.76s/it]"
          ]
        },
        {
          "output_type": "stream",
          "name": "stdout",
          "text": [
            "End KNN operations, time taken: 2.650047540664673\n",
            "training loss: 2.4474444866180423\n",
            "End document, total time: 17.268731832504272\n",
            "Begin document\n",
            "Begin KNN operations\n",
            "End KNN operations, time taken: 0.5196311473846436\n",
            "Begin KNN operations\n",
            "End KNN operations, time taken: 1.235759973526001\n",
            "Begin KNN operations\n",
            "End KNN operations, time taken: 1.7132418155670166\n",
            "Begin KNN operations\n",
            "End KNN operations, time taken: 1.3342201709747314\n",
            "Begin KNN operations\n",
            "End KNN operations, time taken: 1.5999095439910889\n",
            "Begin KNN operations\n",
            "End KNN operations, time taken: 1.8298718929290771\n",
            "Begin KNN operations\n",
            "End KNN operations, time taken: 2.139817476272583\n",
            "Begin KNN operations\n",
            "End KNN operations, time taken: 3.5859220027923584\n",
            "Begin KNN operations\n"
          ]
        },
        {
          "output_type": "stream",
          "name": "stderr",
          "text": [
            "\rtraining:  40%|████      | 80/200 [24:09<36:52, 18.44s/it]"
          ]
        },
        {
          "output_type": "stream",
          "name": "stdout",
          "text": [
            "End KNN operations, time taken: 4.108114242553711\n",
            "training loss: 2.516873264312744\n",
            "End document, total time: 19.815857410430908\n",
            "Begin document\n",
            "Begin KNN operations\n",
            "End KNN operations, time taken: 0.5540416240692139\n",
            "Begin KNN operations\n",
            "End KNN operations, time taken: 0.8073656558990479\n",
            "Begin KNN operations\n",
            "End KNN operations, time taken: 1.0732369422912598\n",
            "Begin KNN operations\n",
            "End KNN operations, time taken: 1.3469982147216797\n",
            "Begin KNN operations\n",
            "End KNN operations, time taken: 1.6604833602905273\n",
            "Begin KNN operations\n",
            "End KNN operations, time taken: 1.822582483291626\n",
            "Begin KNN operations\n",
            "End KNN operations, time taken: 3.324025869369507\n",
            "Begin KNN operations\n",
            "End KNN operations, time taken: 2.3581185340881348\n",
            "Begin KNN operations\n"
          ]
        },
        {
          "output_type": "stream",
          "name": "stderr",
          "text": [
            "\rtraining:  40%|████      | 81/200 [24:27<36:00, 18.15s/it]"
          ]
        },
        {
          "output_type": "stream",
          "name": "stdout",
          "text": [
            "End KNN operations, time taken: 2.6329357624053955\n",
            "training loss: 2.525648760795593\n",
            "End document, total time: 17.291399478912354\n",
            "Begin document\n",
            "Begin KNN operations\n",
            "End KNN operations, time taken: 0.5281000137329102\n",
            "Begin KNN operations\n",
            "End KNN operations, time taken: 0.8190581798553467\n",
            "Begin KNN operations\n",
            "End KNN operations, time taken: 1.0656485557556152\n",
            "Begin KNN operations\n",
            "End KNN operations, time taken: 1.2978827953338623\n",
            "Begin KNN operations\n",
            "End KNN operations, time taken: 2.6276752948760986\n",
            "Begin KNN operations\n",
            "End KNN operations, time taken: 1.84443998336792\n",
            "Begin KNN operations\n",
            "End KNN operations, time taken: 2.0933730602264404\n",
            "Begin KNN operations\n",
            "End KNN operations, time taken: 2.478985548019409\n",
            "Begin KNN operations\n"
          ]
        },
        {
          "output_type": "stream",
          "name": "stderr",
          "text": [
            "\rtraining:  41%|████      | 82/200 [24:44<35:15, 17.93s/it]"
          ]
        },
        {
          "output_type": "stream",
          "name": "stdout",
          "text": [
            "End KNN operations, time taken: 2.658381700515747\n",
            "training loss: 2.5719490289688105\n",
            "End document, total time: 17.20765709877014\n",
            "Begin document\n",
            "Begin KNN operations\n",
            "End KNN operations, time taken: 0.7342188358306885\n",
            "Begin KNN operations\n",
            "End KNN operations, time taken: 1.2608489990234375\n",
            "Begin KNN operations\n",
            "End KNN operations, time taken: 1.1101744174957275\n",
            "Begin KNN operations\n",
            "End KNN operations, time taken: 1.3465909957885742\n",
            "Begin KNN operations\n",
            "End KNN operations, time taken: 1.5809574127197266\n",
            "Begin KNN operations\n",
            "End KNN operations, time taken: 1.8347141742706299\n",
            "Begin KNN operations\n",
            "End KNN operations, time taken: 2.121981620788574\n",
            "Begin KNN operations\n",
            "End KNN operations, time taken: 2.8712165355682373\n",
            "Begin KNN operations\n"
          ]
        },
        {
          "output_type": "stream",
          "name": "stderr",
          "text": [
            "\rtraining:  42%|████▏     | 83/200 [25:03<35:08, 18.02s/it]"
          ]
        },
        {
          "output_type": "stream",
          "name": "stdout",
          "text": [
            "End KNN operations, time taken: 3.3798556327819824\n",
            "training loss: 2.468939471244812\n",
            "End document, total time: 18.037145614624023\n",
            "Begin document\n",
            "Begin KNN operations\n",
            "End KNN operations, time taken: 0.515362024307251\n",
            "Begin KNN operations\n",
            "End KNN operations, time taken: 0.8485169410705566\n",
            "Begin KNN operations\n",
            "End KNN operations, time taken: 1.0905323028564453\n",
            "Begin KNN operations\n",
            "End KNN operations, time taken: 1.3468425273895264\n",
            "Begin KNN operations\n",
            "End KNN operations, time taken: 1.571242332458496\n",
            "Begin KNN operations\n",
            "End KNN operations, time taken: 1.9171669483184814\n",
            "Begin KNN operations\n",
            "End KNN operations, time taken: 3.1058976650238037\n",
            "Begin KNN operations\n",
            "End KNN operations, time taken: 2.3961758613586426\n",
            "Begin KNN operations\n"
          ]
        },
        {
          "output_type": "stream",
          "name": "stderr",
          "text": [
            "\rtraining:  42%|████▏     | 84/200 [25:20<34:24, 17.79s/it]"
          ]
        },
        {
          "output_type": "stream",
          "name": "stdout",
          "text": [
            "End KNN operations, time taken: 2.5616531372070312\n",
            "training loss: 2.517795276641846\n",
            "End document, total time: 17.053605794906616\n",
            "Begin document\n",
            "Begin KNN operations\n",
            "End KNN operations, time taken: 0.5271563529968262\n",
            "Begin KNN operations\n",
            "End KNN operations, time taken: 0.8337328433990479\n",
            "Begin KNN operations\n",
            "End KNN operations, time taken: 1.0565543174743652\n",
            "Begin KNN operations\n",
            "End KNN operations, time taken: 1.9247655868530273\n",
            "Begin KNN operations\n",
            "End KNN operations, time taken: 2.21539306640625\n",
            "Begin KNN operations\n",
            "End KNN operations, time taken: 1.8586959838867188\n",
            "Begin KNN operations\n",
            "End KNN operations, time taken: 2.0484848022460938\n",
            "Begin KNN operations\n",
            "End KNN operations, time taken: 2.3221547603607178\n",
            "Begin KNN operations\n"
          ]
        },
        {
          "output_type": "stream",
          "name": "stderr",
          "text": [
            "\rtraining:  42%|████▎     | 85/200 [25:37<33:53, 17.69s/it]"
          ]
        },
        {
          "output_type": "stream",
          "name": "stdout",
          "text": [
            "End KNN operations, time taken: 2.6340653896331787\n",
            "training loss: 2.4991313695907595\n",
            "End document, total time: 17.206090688705444\n",
            "Begin document\n",
            "Begin KNN operations\n",
            "End KNN operations, time taken: 0.7135944366455078\n",
            "Begin KNN operations\n",
            "End KNN operations, time taken: 1.2494902610778809\n",
            "Begin KNN operations\n",
            "End KNN operations, time taken: 1.091459035873413\n",
            "Begin KNN operations\n",
            "End KNN operations, time taken: 1.3385646343231201\n",
            "Begin KNN operations\n",
            "End KNN operations, time taken: 1.539119005203247\n",
            "Begin KNN operations\n",
            "End KNN operations, time taken: 1.843217372894287\n",
            "Begin KNN operations\n",
            "End KNN operations, time taken: 2.051480770111084\n",
            "Begin KNN operations\n",
            "End KNN operations, time taken: 3.0830821990966797\n",
            "Begin KNN operations\n"
          ]
        },
        {
          "output_type": "stream",
          "name": "stderr",
          "text": [
            "\rtraining:  43%|████▎     | 86/200 [25:55<33:46, 17.78s/it]"
          ]
        },
        {
          "output_type": "stream",
          "name": "stdout",
          "text": [
            "End KNN operations, time taken: 3.05376935005188\n",
            "training loss: 2.4195459842681886\n",
            "End document, total time: 17.761866331100464\n",
            "Begin document\n",
            "Begin KNN operations\n",
            "End KNN operations, time taken: 0.5255985260009766\n",
            "Begin KNN operations\n",
            "End KNN operations, time taken: 0.840980052947998\n",
            "Begin KNN operations\n",
            "End KNN operations, time taken: 1.0628559589385986\n",
            "Begin KNN operations\n",
            "End KNN operations, time taken: 1.3104779720306396\n",
            "Begin KNN operations\n",
            "End KNN operations, time taken: 1.5958633422851562\n",
            "Begin KNN operations\n",
            "End KNN operations, time taken: 2.1670308113098145\n",
            "Begin KNN operations\n",
            "End KNN operations, time taken: 3.1287431716918945\n",
            "Begin KNN operations\n",
            "End KNN operations, time taken: 2.3276784420013428\n",
            "Begin KNN operations\n"
          ]
        },
        {
          "output_type": "stream",
          "name": "stderr",
          "text": [
            "\rtraining:  44%|████▎     | 87/200 [26:13<33:16, 17.66s/it]"
          ]
        },
        {
          "output_type": "stream",
          "name": "stdout",
          "text": [
            "End KNN operations, time taken: 2.6224939823150635\n",
            "training loss: 2.546015405654907\n",
            "End document, total time: 17.210371017456055\n",
            "Begin document\n",
            "Begin KNN operations\n",
            "End KNN operations, time taken: 0.5382564067840576\n",
            "Begin KNN operations\n",
            "End KNN operations, time taken: 0.8513212203979492\n",
            "Begin KNN operations\n",
            "End KNN operations, time taken: 1.0959949493408203\n",
            "Begin KNN operations\n",
            "End KNN operations, time taken: 2.1414239406585693\n",
            "Begin KNN operations\n",
            "End KNN operations, time taken: 1.9906280040740967\n",
            "Begin KNN operations\n",
            "End KNN operations, time taken: 1.8298730850219727\n",
            "Begin KNN operations\n",
            "End KNN operations, time taken: 2.0899500846862793\n",
            "Begin KNN operations\n",
            "End KNN operations, time taken: 2.428241491317749\n",
            "Begin KNN operations\n"
          ]
        },
        {
          "output_type": "stream",
          "name": "stderr",
          "text": [
            "\rtraining:  44%|████▍     | 88/200 [26:32<33:59, 18.21s/it]"
          ]
        },
        {
          "output_type": "stream",
          "name": "stdout",
          "text": [
            "End KNN operations, time taken: 4.495849132537842\n",
            "training loss: 2.6444418907165526\n",
            "End document, total time: 19.302141427993774\n",
            "Begin document\n",
            "Begin KNN operations\n",
            "End KNN operations, time taken: 0.6209514141082764\n",
            "Begin KNN operations\n",
            "End KNN operations, time taken: 0.8350265026092529\n",
            "Begin KNN operations\n",
            "End KNN operations, time taken: 1.0805222988128662\n",
            "Begin KNN operations\n",
            "End KNN operations, time taken: 1.377800464630127\n",
            "Begin KNN operations\n",
            "End KNN operations, time taken: 1.6102347373962402\n",
            "Begin KNN operations\n",
            "End KNN operations, time taken: 1.8528952598571777\n",
            "Begin KNN operations\n",
            "End KNN operations, time taken: 2.1261298656463623\n",
            "Begin KNN operations\n",
            "End KNN operations, time taken: 3.8432767391204834\n",
            "Begin KNN operations\n"
          ]
        },
        {
          "output_type": "stream",
          "name": "stderr",
          "text": [
            "\rtraining:  44%|████▍     | 89/200 [26:50<33:36, 18.16s/it]"
          ]
        },
        {
          "output_type": "stream",
          "name": "stdout",
          "text": [
            "End KNN operations, time taken: 2.6874938011169434\n",
            "training loss: 2.4639556884765628\n",
            "End document, total time: 17.78472328186035\n",
            "Begin document\n",
            "Begin KNN operations\n",
            "End KNN operations, time taken: 0.5152595043182373\n",
            "Begin KNN operations\n",
            "End KNN operations, time taken: 0.8265359401702881\n",
            "Begin KNN operations\n",
            "End KNN operations, time taken: 1.0837528705596924\n",
            "Begin KNN operations\n",
            "End KNN operations, time taken: 1.3511145114898682\n",
            "Begin KNN operations\n",
            "End KNN operations, time taken: 1.6280393600463867\n",
            "Begin KNN operations\n",
            "End KNN operations, time taken: 3.0950398445129395\n",
            "Begin KNN operations\n",
            "End KNN operations, time taken: 2.136413335800171\n",
            "Begin KNN operations\n",
            "End KNN operations, time taken: 2.4807980060577393\n",
            "Begin KNN operations\n"
          ]
        },
        {
          "output_type": "stream",
          "name": "stderr",
          "text": [
            "\rtraining:  45%|████▌     | 90/200 [27:08<33:06, 18.06s/it]"
          ]
        },
        {
          "output_type": "stream",
          "name": "stdout",
          "text": [
            "End KNN operations, time taken: 2.7209110260009766\n",
            "training loss: 2.5236904621124268\n",
            "End document, total time: 17.6257963180542\n",
            "Begin document\n",
            "Begin KNN operations\n",
            "End KNN operations, time taken: 0.5231282711029053\n",
            "Begin KNN operations\n",
            "End KNN operations, time taken: 0.8913629055023193\n",
            "Begin KNN operations\n",
            "End KNN operations, time taken: 1.7218008041381836\n",
            "Begin KNN operations\n",
            "End KNN operations, time taken: 1.689664602279663\n",
            "Begin KNN operations\n",
            "End KNN operations, time taken: 1.634355068206787\n",
            "Begin KNN operations\n",
            "End KNN operations, time taken: 1.9582421779632568\n",
            "Begin KNN operations\n",
            "End KNN operations, time taken: 2.1783158779144287\n",
            "Begin KNN operations\n",
            "End KNN operations, time taken: 2.4394710063934326\n",
            "Begin KNN operations\n"
          ]
        },
        {
          "output_type": "stream",
          "name": "stderr",
          "text": [
            "\rtraining:  46%|████▌     | 91/200 [27:27<33:26, 18.41s/it]"
          ]
        },
        {
          "output_type": "stream",
          "name": "stdout",
          "text": [
            "End KNN operations, time taken: 4.2839765548706055\n",
            "training loss: 2.57961733341217\n",
            "End document, total time: 19.023643970489502\n",
            "Begin document\n",
            "Begin KNN operations\n",
            "End KNN operations, time taken: 0.5267856121063232\n",
            "Begin KNN operations\n",
            "End KNN operations, time taken: 0.853367805480957\n",
            "Begin KNN operations\n",
            "End KNN operations, time taken: 1.0816676616668701\n",
            "Begin KNN operations\n",
            "End KNN operations, time taken: 1.3484163284301758\n",
            "Begin KNN operations\n",
            "End KNN operations, time taken: 1.599557876586914\n",
            "Begin KNN operations\n",
            "End KNN operations, time taken: 1.8572561740875244\n",
            "Begin KNN operations\n",
            "End KNN operations, time taken: 3.358102321624756\n",
            "Begin KNN operations\n",
            "End KNN operations, time taken: 2.452794075012207\n",
            "Begin KNN operations\n"
          ]
        },
        {
          "output_type": "stream",
          "name": "stderr",
          "text": [
            "\rtraining:  46%|████▌     | 92/200 [27:45<32:47, 18.21s/it]"
          ]
        },
        {
          "output_type": "stream",
          "name": "stdout",
          "text": [
            "End KNN operations, time taken: 2.6987204551696777\n",
            "training loss: 2.510077381134033\n",
            "End document, total time: 17.540621995925903\n",
            "Begin document\n",
            "Begin KNN operations\n",
            "End KNN operations, time taken: 0.5215787887573242\n",
            "Begin KNN operations\n",
            "End KNN operations, time taken: 0.8281068801879883\n",
            "Begin KNN operations\n",
            "End KNN operations, time taken: 1.0957350730895996\n",
            "Begin KNN operations\n",
            "End KNN operations, time taken: 1.3756887912750244\n",
            "Begin KNN operations\n",
            "End KNN operations, time taken: 2.6616616249084473\n",
            "Begin KNN operations\n",
            "End KNN operations, time taken: 1.8630406856536865\n",
            "Begin KNN operations\n",
            "End KNN operations, time taken: 2.147794485092163\n",
            "Begin KNN operations\n",
            "End KNN operations, time taken: 2.406855583190918\n",
            "Begin KNN operations\n"
          ]
        },
        {
          "output_type": "stream",
          "name": "stderr",
          "text": [
            "\rtraining:  46%|████▋     | 93/200 [28:03<32:04, 17.99s/it]"
          ]
        },
        {
          "output_type": "stream",
          "name": "stdout",
          "text": [
            "End KNN operations, time taken: 2.6527280807495117\n",
            "training loss: 2.4839570283889767\n",
            "End document, total time: 17.273627519607544\n",
            "Begin document\n",
            "Begin KNN operations\n",
            "End KNN operations, time taken: 0.7182855606079102\n",
            "Begin KNN operations\n",
            "End KNN operations, time taken: 1.2500970363616943\n",
            "Begin KNN operations\n",
            "End KNN operations, time taken: 1.12825608253479\n",
            "Begin KNN operations\n",
            "End KNN operations, time taken: 1.3793768882751465\n",
            "Begin KNN operations\n",
            "End KNN operations, time taken: 1.6135871410369873\n",
            "Begin KNN operations\n",
            "End KNN operations, time taken: 1.8645100593566895\n",
            "Begin KNN operations\n",
            "End KNN operations, time taken: 2.158963680267334\n",
            "Begin KNN operations\n",
            "End KNN operations, time taken: 2.953131675720215\n",
            "Begin KNN operations\n"
          ]
        },
        {
          "output_type": "stream",
          "name": "stderr",
          "text": [
            "\rtraining:  47%|████▋     | 94/200 [28:21<31:53, 18.05s/it]"
          ]
        },
        {
          "output_type": "stream",
          "name": "stdout",
          "text": [
            "End KNN operations, time taken: 3.2822153568267822\n",
            "training loss: 2.438217425346375\n",
            "End document, total time: 17.991026639938354\n",
            "Begin document\n",
            "Begin KNN operations\n",
            "End KNN operations, time taken: 0.5227265357971191\n",
            "Begin KNN operations\n",
            "End KNN operations, time taken: 0.8296718597412109\n",
            "Begin KNN operations\n",
            "End KNN operations, time taken: 1.085839033126831\n",
            "Begin KNN operations\n",
            "End KNN operations, time taken: 1.3828465938568115\n",
            "Begin KNN operations\n",
            "End KNN operations, time taken: 1.6243057250976562\n",
            "Begin KNN operations\n",
            "End KNN operations, time taken: 2.1755919456481934\n",
            "Begin KNN operations\n",
            "End KNN operations, time taken: 3.005885601043701\n",
            "Begin KNN operations\n",
            "End KNN operations, time taken: 2.4129397869110107\n",
            "Begin KNN operations\n"
          ]
        },
        {
          "output_type": "stream",
          "name": "stderr",
          "text": [
            "\rtraining:  48%|████▊     | 95/200 [28:38<31:24, 17.94s/it]"
          ]
        },
        {
          "output_type": "stream",
          "name": "stdout",
          "text": [
            "End KNN operations, time taken: 2.6964352130889893\n",
            "training loss: 2.5211641788482666\n",
            "End document, total time: 17.484636306762695\n",
            "Begin document\n",
            "Begin KNN operations\n",
            "End KNN operations, time taken: 0.5387377738952637\n",
            "Begin KNN operations\n",
            "End KNN operations, time taken: 0.8406221866607666\n",
            "Begin KNN operations\n",
            "End KNN operations, time taken: 1.0906720161437988\n",
            "Begin KNN operations\n",
            "End KNN operations, time taken: 2.169200897216797\n",
            "Begin KNN operations\n",
            "End KNN operations, time taken: 1.9201526641845703\n",
            "Begin KNN operations\n",
            "End KNN operations, time taken: 1.8849647045135498\n",
            "Begin KNN operations\n",
            "End KNN operations, time taken: 2.1221401691436768\n",
            "Begin KNN operations\n",
            "End KNN operations, time taken: 2.3800790309906006\n",
            "Begin KNN operations\n"
          ]
        },
        {
          "output_type": "stream",
          "name": "stderr",
          "text": [
            "\rtraining:  48%|████▊     | 96/200 [28:57<31:12, 18.00s/it]"
          ]
        },
        {
          "output_type": "stream",
          "name": "stdout",
          "text": [
            "End KNN operations, time taken: 3.164206027984619\n",
            "training loss: 2.522502207756043\n",
            "End document, total time: 17.92779803276062\n",
            "Begin document\n",
            "Begin KNN operations\n",
            "End KNN operations, time taken: 0.7894389629364014\n",
            "Begin KNN operations\n",
            "End KNN operations, time taken: 1.2992091178894043\n",
            "Begin KNN operations\n",
            "End KNN operations, time taken: 1.1678619384765625\n",
            "Begin KNN operations\n",
            "End KNN operations, time taken: 1.3509764671325684\n",
            "Begin KNN operations\n",
            "End KNN operations, time taken: 1.6002907752990723\n",
            "Begin KNN operations\n",
            "End KNN operations, time taken: 1.857703685760498\n",
            "Begin KNN operations\n",
            "End KNN operations, time taken: 2.151564836502075\n",
            "Begin KNN operations\n",
            "End KNN operations, time taken: 2.913914680480957\n",
            "Begin KNN operations\n"
          ]
        },
        {
          "output_type": "stream",
          "name": "stderr",
          "text": [
            "\rtraining:  48%|████▊     | 97/200 [29:15<31:21, 18.27s/it]"
          ]
        },
        {
          "output_type": "stream",
          "name": "stdout",
          "text": [
            "End KNN operations, time taken: 3.376765489578247\n",
            "training loss: 2.5086146116256716\n",
            "End document, total time: 18.47019934654236\n",
            "Begin document\n",
            "Begin KNN operations\n",
            "End KNN operations, time taken: 0.5226988792419434\n",
            "Begin KNN operations\n",
            "End KNN operations, time taken: 0.8177521228790283\n",
            "Begin KNN operations\n",
            "End KNN operations, time taken: 1.0643551349639893\n",
            "Begin KNN operations\n",
            "End KNN operations, time taken: 1.3278629779815674\n",
            "Begin KNN operations\n",
            "End KNN operations, time taken: 1.6503210067749023\n",
            "Begin KNN operations\n",
            "End KNN operations, time taken: 2.04345440864563\n",
            "Begin KNN operations\n",
            "End KNN operations, time taken: 3.2579309940338135\n",
            "Begin KNN operations\n",
            "End KNN operations, time taken: 2.3890867233276367\n",
            "Begin KNN operations\n"
          ]
        },
        {
          "output_type": "stream",
          "name": "stderr",
          "text": [
            "\rtraining:  49%|████▉     | 98/200 [29:33<30:44, 18.08s/it]"
          ]
        },
        {
          "output_type": "stream",
          "name": "stdout",
          "text": [
            "End KNN operations, time taken: 2.665048360824585\n",
            "training loss: 2.411728286743164\n",
            "End document, total time: 17.44495463371277\n",
            "Begin document\n",
            "Begin KNN operations\n",
            "End KNN operations, time taken: 0.5235264301300049\n",
            "Begin KNN operations\n",
            "End KNN operations, time taken: 0.8241159915924072\n",
            "Begin KNN operations\n",
            "End KNN operations, time taken: 1.0773601531982422\n",
            "Begin KNN operations\n",
            "End KNN operations, time taken: 2.1015465259552\n",
            "Begin KNN operations\n",
            "End KNN operations, time taken: 2.133248805999756\n",
            "Begin KNN operations\n",
            "End KNN operations, time taken: 1.8801381587982178\n",
            "Begin KNN operations\n",
            "End KNN operations, time taken: 2.102984666824341\n",
            "Begin KNN operations\n",
            "End KNN operations, time taken: 2.399811267852783\n",
            "Begin KNN operations\n"
          ]
        },
        {
          "output_type": "stream",
          "name": "stderr",
          "text": [
            "\rtraining:  50%|████▉     | 99/200 [29:51<30:25, 18.07s/it]"
          ]
        },
        {
          "output_type": "stream",
          "name": "stdout",
          "text": [
            "End KNN operations, time taken: 2.9745447635650635\n",
            "training loss: 2.4524734735488893\n",
            "End document, total time: 17.841368436813354\n",
            "Begin document\n",
            "Begin KNN operations\n",
            "End KNN operations, time taken: 0.7345168590545654\n",
            "Begin KNN operations\n",
            "End KNN operations, time taken: 0.8139946460723877\n",
            "Begin KNN operations\n",
            "End KNN operations, time taken: 1.0796325206756592\n",
            "Begin KNN operations\n",
            "End KNN operations, time taken: 1.3668806552886963\n",
            "Begin KNN operations\n",
            "End KNN operations, time taken: 1.607435703277588\n",
            "Begin KNN operations\n",
            "End KNN operations, time taken: 1.8548548221588135\n",
            "Begin KNN operations\n",
            "End KNN operations, time taken: 2.1340525150299072\n",
            "Begin KNN operations\n",
            "End KNN operations, time taken: 3.735922336578369\n",
            "Begin KNN operations\n"
          ]
        },
        {
          "output_type": "stream",
          "name": "stderr",
          "text": [
            "\rtraining:  50%|█████     | 100/200 [30:09<30:04, 18.05s/it]"
          ]
        },
        {
          "output_type": "stream",
          "name": "stdout",
          "text": [
            "End KNN operations, time taken: 2.703587293624878\n",
            "training loss: 2.4254345655441285\n",
            "End document, total time: 17.746259450912476\n",
            "Begin document\n",
            "Begin KNN operations\n",
            "End KNN operations, time taken: 0.5262207984924316\n",
            "Begin KNN operations\n",
            "End KNN operations, time taken: 0.8154397010803223\n",
            "Begin KNN operations\n",
            "End KNN operations, time taken: 1.0708489418029785\n",
            "Begin KNN operations\n",
            "End KNN operations, time taken: 1.3572449684143066\n",
            "Begin KNN operations\n",
            "End KNN operations, time taken: 1.5772595405578613\n",
            "Begin KNN operations\n",
            "End KNN operations, time taken: 2.978034734725952\n",
            "Begin KNN operations\n",
            "End KNN operations, time taken: 2.1331818103790283\n",
            "Begin KNN operations\n",
            "End KNN operations, time taken: 2.385655403137207\n",
            "Begin KNN operations\n",
            "End KNN operations, time taken: 2.6349291801452637\n",
            "training loss: 2.4816803455352785\n",
            "End document, total time: 17.269461393356323\n",
            "Begin KNN operations\n",
            "End KNN operations, time taken: 0.4461841583251953\n",
            "Begin KNN operations\n",
            "End KNN operations, time taken: 0.7253646850585938\n",
            "Begin KNN operations\n",
            "End KNN operations, time taken: 1.2173457145690918\n",
            "Begin KNN operations\n",
            "End KNN operations, time taken: 2.0568809509277344\n",
            "Begin KNN operations\n",
            "End KNN operations, time taken: 1.5768287181854248\n",
            "Begin KNN operations\n",
            "End KNN operations, time taken: 1.7380642890930176\n",
            "Begin KNN operations\n",
            "End KNN operations, time taken: 1.9847099781036377\n",
            "Begin KNN operations\n",
            "End KNN operations, time taken: 2.303123712539673\n",
            "Begin KNN operations\n"
          ]
        },
        {
          "output_type": "stream",
          "name": "stderr",
          "text": [
            "\rtraining:  50%|█████     | 101/200 [30:43<37:34, 22.77s/it]"
          ]
        },
        {
          "output_type": "stream",
          "name": "stdout",
          "text": [
            "End KNN operations, time taken: 2.7161812782287598\n",
            "valid loss: 2.479162645339966\n",
            "Begin document\n",
            "Begin KNN operations\n",
            "End KNN operations, time taken: 0.7662684917449951\n",
            "Begin KNN operations\n",
            "End KNN operations, time taken: 0.8643276691436768\n",
            "Begin KNN operations\n",
            "End KNN operations, time taken: 1.081468105316162\n",
            "Begin KNN operations\n",
            "End KNN operations, time taken: 1.3309686183929443\n",
            "Begin KNN operations\n",
            "End KNN operations, time taken: 1.643815517425537\n",
            "Begin KNN operations\n",
            "End KNN operations, time taken: 1.8504111766815186\n",
            "Begin KNN operations\n",
            "End KNN operations, time taken: 2.1081929206848145\n",
            "Begin KNN operations\n",
            "End KNN operations, time taken: 3.738919496536255\n",
            "Begin KNN operations\n"
          ]
        },
        {
          "output_type": "stream",
          "name": "stderr",
          "text": [
            "\rtraining:  51%|█████     | 102/200 [31:01<34:52, 21.35s/it]"
          ]
        },
        {
          "output_type": "stream",
          "name": "stdout",
          "text": [
            "End KNN operations, time taken: 2.6611690521240234\n",
            "training loss: 2.4918840646743776\n",
            "End document, total time: 17.835631370544434\n",
            "Begin document\n",
            "Begin KNN operations\n",
            "End KNN operations, time taken: 0.5309407711029053\n",
            "Begin KNN operations\n",
            "End KNN operations, time taken: 0.8281693458557129\n",
            "Begin KNN operations\n",
            "End KNN operations, time taken: 1.0968260765075684\n",
            "Begin KNN operations\n",
            "End KNN operations, time taken: 1.351391315460205\n",
            "Begin KNN operations\n",
            "End KNN operations, time taken: 1.6146798133850098\n",
            "Begin KNN operations\n",
            "End KNN operations, time taken: 2.9361002445220947\n",
            "Begin KNN operations\n",
            "End KNN operations, time taken: 2.154819965362549\n",
            "Begin KNN operations\n",
            "End KNN operations, time taken: 2.4112141132354736\n",
            "Begin KNN operations\n"
          ]
        },
        {
          "output_type": "stream",
          "name": "stderr",
          "text": [
            "\rtraining:  52%|█████▏    | 103/200 [31:18<32:39, 20.20s/it]"
          ]
        },
        {
          "output_type": "stream",
          "name": "stdout",
          "text": [
            "End KNN operations, time taken: 2.631380081176758\n",
            "training loss: 2.4868442535400392\n",
            "End document, total time: 17.28689956665039\n",
            "Begin document\n",
            "Begin KNN operations\n",
            "End KNN operations, time taken: 0.6672499179840088\n",
            "Begin KNN operations\n",
            "End KNN operations, time taken: 1.2495198249816895\n",
            "Begin KNN operations\n",
            "End KNN operations, time taken: 1.7848193645477295\n",
            "Begin KNN operations\n",
            "End KNN operations, time taken: 2.1871957778930664\n",
            "Begin KNN operations\n",
            "End KNN operations, time taken: 1.6155831813812256\n",
            "Begin KNN operations\n",
            "End KNN operations, time taken: 1.8479833602905273\n",
            "Begin KNN operations\n",
            "End KNN operations, time taken: 2.1119649410247803\n",
            "Begin KNN operations\n",
            "End KNN operations, time taken: 2.3657360076904297\n",
            "Begin KNN operations\n"
          ]
        },
        {
          "output_type": "stream",
          "name": "stderr",
          "text": [
            "\rtraining:  52%|█████▏    | 104/200 [31:38<31:56, 19.97s/it]"
          ]
        },
        {
          "output_type": "stream",
          "name": "stdout",
          "text": [
            "End KNN operations, time taken: 3.512786388397217\n",
            "training loss: 2.5000580310821534\n",
            "End document, total time: 19.217880725860596\n",
            "Begin document\n",
            "Begin KNN operations\n",
            "End KNN operations, time taken: 0.5111415386199951\n",
            "Begin KNN operations\n",
            "End KNN operations, time taken: 0.8770332336425781\n",
            "Begin KNN operations\n",
            "End KNN operations, time taken: 1.1094915866851807\n",
            "Begin KNN operations\n",
            "End KNN operations, time taken: 1.3618736267089844\n",
            "Begin KNN operations\n",
            "End KNN operations, time taken: 1.583878517150879\n",
            "Begin KNN operations\n",
            "End KNN operations, time taken: 1.8274164199829102\n",
            "Begin KNN operations\n",
            "End KNN operations, time taken: 2.361752986907959\n",
            "Begin KNN operations\n",
            "End KNN operations, time taken: 3.339014768600464\n",
            "Begin KNN operations\n"
          ]
        },
        {
          "output_type": "stream",
          "name": "stderr",
          "text": [
            "\rtraining:  52%|█████▎    | 105/200 [31:55<30:28, 19.25s/it]"
          ]
        },
        {
          "output_type": "stream",
          "name": "stdout",
          "text": [
            "End KNN operations, time taken: 2.6353201866149902\n",
            "training loss: 2.5687266111373903\n",
            "End document, total time: 17.34848117828369\n",
            "Begin document\n",
            "Begin KNN operations\n",
            "End KNN operations, time taken: 0.5292246341705322\n",
            "Begin KNN operations\n",
            "End KNN operations, time taken: 0.8267083168029785\n",
            "Begin KNN operations\n",
            "End KNN operations, time taken: 1.094834327697754\n",
            "Begin KNN operations\n",
            "End KNN operations, time taken: 1.3554718494415283\n",
            "Begin KNN operations\n",
            "End KNN operations, time taken: 1.970524787902832\n",
            "Begin KNN operations\n",
            "End KNN operations, time taken: 2.7856576442718506\n",
            "Begin KNN operations\n",
            "End KNN operations, time taken: 2.1482906341552734\n",
            "Begin KNN operations\n",
            "End KNN operations, time taken: 2.4419212341308594\n",
            "Begin KNN operations\n"
          ]
        },
        {
          "output_type": "stream",
          "name": "stderr",
          "text": [
            "\rtraining:  53%|█████▎    | 106/200 [32:13<29:29, 18.82s/it]"
          ]
        },
        {
          "output_type": "stream",
          "name": "stdout",
          "text": [
            "End KNN operations, time taken: 2.651428461074829\n",
            "training loss: 2.551304340362549\n",
            "End document, total time: 17.61837077140808\n",
            "Begin document\n",
            "Begin KNN operations\n",
            "End KNN operations, time taken: 0.5171160697937012\n",
            "Begin KNN operations\n",
            "End KNN operations, time taken: 1.2486374378204346\n",
            "Begin KNN operations\n",
            "End KNN operations, time taken: 1.752932071685791\n",
            "Begin KNN operations\n",
            "End KNN operations, time taken: 1.3388102054595947\n",
            "Begin KNN operations\n",
            "End KNN operations, time taken: 1.5972130298614502\n",
            "Begin KNN operations\n",
            "End KNN operations, time taken: 1.8395957946777344\n",
            "Begin KNN operations\n",
            "End KNN operations, time taken: 2.06453013420105\n",
            "Begin KNN operations\n",
            "End KNN operations, time taken: 2.366528272628784\n",
            "Begin KNN operations\n"
          ]
        },
        {
          "output_type": "stream",
          "name": "stderr",
          "text": [
            "\rtraining:  54%|█████▎    | 107/200 [32:32<29:07, 18.79s/it]"
          ]
        },
        {
          "output_type": "stream",
          "name": "stdout",
          "text": [
            "End KNN operations, time taken: 4.111389398574829\n",
            "training loss: 2.457929015159607\n",
            "End document, total time: 18.50320839881897\n",
            "Begin document\n",
            "Begin KNN operations\n",
            "End KNN operations, time taken: 0.5156445503234863\n",
            "Begin KNN operations\n",
            "End KNN operations, time taken: 0.8304238319396973\n",
            "Begin KNN operations\n",
            "End KNN operations, time taken: 1.0689001083374023\n",
            "Begin KNN operations\n",
            "End KNN operations, time taken: 1.3396477699279785\n",
            "Begin KNN operations\n",
            "End KNN operations, time taken: 1.5846974849700928\n",
            "Begin KNN operations\n",
            "End KNN operations, time taken: 1.8767967224121094\n",
            "Begin KNN operations\n",
            "End KNN operations, time taken: 3.3667685985565186\n",
            "Begin KNN operations\n",
            "End KNN operations, time taken: 2.3841047286987305\n",
            "Begin KNN operations\n"
          ]
        },
        {
          "output_type": "stream",
          "name": "stderr",
          "text": [
            "\rtraining:  54%|█████▍    | 108/200 [32:50<28:15, 18.43s/it]"
          ]
        },
        {
          "output_type": "stream",
          "name": "stdout",
          "text": [
            "End KNN operations, time taken: 2.669891357421875\n",
            "training loss: 2.4860908508300783\n",
            "End document, total time: 17.401532411575317\n",
            "Begin document\n",
            "Begin KNN operations\n",
            "End KNN operations, time taken: 0.5382826328277588\n",
            "Begin KNN operations\n",
            "End KNN operations, time taken: 0.8207836151123047\n",
            "Begin KNN operations\n",
            "End KNN operations, time taken: 1.0928926467895508\n",
            "Begin KNN operations\n",
            "End KNN operations, time taken: 1.3637523651123047\n",
            "Begin KNN operations\n",
            "End KNN operations, time taken: 2.6579673290252686\n",
            "Begin KNN operations\n",
            "End KNN operations, time taken: 1.899648666381836\n",
            "Begin KNN operations\n",
            "End KNN operations, time taken: 2.1416778564453125\n",
            "Begin KNN operations\n",
            "End KNN operations, time taken: 2.340686321258545\n",
            "Begin KNN operations\n"
          ]
        },
        {
          "output_type": "stream",
          "name": "stderr",
          "text": [
            "\rtraining:  55%|█████▍    | 109/200 [33:07<27:30, 18.14s/it]"
          ]
        },
        {
          "output_type": "stream",
          "name": "stdout",
          "text": [
            "End KNN operations, time taken: 2.6539275646209717\n",
            "training loss: 2.4425450801849364\n",
            "End document, total time: 17.23743200302124\n",
            "Begin document\n",
            "Begin KNN operations\n",
            "End KNN operations, time taken: 0.7315137386322021\n",
            "Begin KNN operations\n",
            "End KNN operations, time taken: 1.2249510288238525\n",
            "Begin KNN operations\n",
            "End KNN operations, time taken: 1.144425630569458\n",
            "Begin KNN operations\n",
            "End KNN operations, time taken: 1.3410687446594238\n",
            "Begin KNN operations\n",
            "End KNN operations, time taken: 1.5835764408111572\n",
            "Begin KNN operations\n",
            "End KNN operations, time taken: 1.823951244354248\n",
            "Begin KNN operations\n",
            "End KNN operations, time taken: 2.0989468097686768\n",
            "Begin KNN operations\n",
            "End KNN operations, time taken: 2.7822163105010986\n",
            "Begin KNN operations\n"
          ]
        },
        {
          "output_type": "stream",
          "name": "stderr",
          "text": [
            "\rtraining:  55%|█████▌    | 110/200 [33:25<27:11, 18.12s/it]"
          ]
        },
        {
          "output_type": "stream",
          "name": "stdout",
          "text": [
            "End KNN operations, time taken: 3.390380620956421\n",
            "training loss: 2.4377131938934324\n",
            "End document, total time: 17.88069748878479\n",
            "Begin document\n",
            "Begin KNN operations\n",
            "End KNN operations, time taken: 0.5368273258209229\n",
            "Begin KNN operations\n",
            "End KNN operations, time taken: 0.8454666137695312\n",
            "Begin KNN operations\n",
            "End KNN operations, time taken: 1.1016111373901367\n",
            "Begin KNN operations\n",
            "End KNN operations, time taken: 1.3564260005950928\n",
            "Begin KNN operations\n",
            "End KNN operations, time taken: 1.6283485889434814\n",
            "Begin KNN operations\n",
            "End KNN operations, time taken: 2.0098915100097656\n",
            "Begin KNN operations\n",
            "End KNN operations, time taken: 3.2055230140686035\n",
            "Begin KNN operations\n",
            "End KNN operations, time taken: 2.428802251815796\n",
            "Begin KNN operations\n"
          ]
        },
        {
          "output_type": "stream",
          "name": "stderr",
          "text": [
            "\rtraining:  56%|█████▌    | 111/200 [33:43<26:47, 18.07s/it]"
          ]
        },
        {
          "output_type": "stream",
          "name": "stdout",
          "text": [
            "End KNN operations, time taken: 2.8826911449432373\n",
            "training loss: 2.4265517711639406\n",
            "End document, total time: 17.72762179374695\n",
            "Begin document\n",
            "Begin KNN operations\n",
            "End KNN operations, time taken: 0.7360434532165527\n",
            "Begin KNN operations\n",
            "End KNN operations, time taken: 0.9615566730499268\n",
            "Begin KNN operations\n",
            "End KNN operations, time taken: 1.1932744979858398\n",
            "Begin KNN operations\n",
            "End KNN operations, time taken: 2.1654067039489746\n",
            "Begin KNN operations\n",
            "End KNN operations, time taken: 1.6607003211975098\n",
            "Begin KNN operations\n",
            "End KNN operations, time taken: 1.8627045154571533\n",
            "Begin KNN operations\n",
            "End KNN operations, time taken: 2.1269986629486084\n",
            "Begin KNN operations\n",
            "End KNN operations, time taken: 2.4272589683532715\n",
            "Begin KNN operations\n"
          ]
        },
        {
          "output_type": "stream",
          "name": "stderr",
          "text": [
            "\rtraining:  56%|█████▌    | 112/200 [34:02<26:42, 18.21s/it]"
          ]
        },
        {
          "output_type": "stream",
          "name": "stdout",
          "text": [
            "End KNN operations, time taken: 3.349182367324829\n",
            "training loss: 2.431195306777954\n",
            "End document, total time: 18.3394992351532\n",
            "Begin document\n",
            "Begin KNN operations\n",
            "End KNN operations, time taken: 0.5302741527557373\n",
            "Begin KNN operations\n",
            "End KNN operations, time taken: 0.8410849571228027\n",
            "Begin KNN operations\n",
            "End KNN operations, time taken: 1.089369535446167\n",
            "Begin KNN operations\n",
            "End KNN operations, time taken: 1.3636412620544434\n",
            "Begin KNN operations\n",
            "End KNN operations, time taken: 1.6092243194580078\n",
            "Begin KNN operations\n",
            "End KNN operations, time taken: 1.9109902381896973\n",
            "Begin KNN operations\n",
            "End KNN operations, time taken: 2.2412774562835693\n",
            "Begin KNN operations\n",
            "End KNN operations, time taken: 3.5033209323883057\n",
            "Begin KNN operations\n"
          ]
        },
        {
          "output_type": "stream",
          "name": "stderr",
          "text": [
            "\rtraining:  56%|█████▋    | 113/200 [34:19<26:10, 18.05s/it]"
          ]
        },
        {
          "output_type": "stream",
          "name": "stdout",
          "text": [
            "End KNN operations, time taken: 2.6422276496887207\n",
            "training loss: 2.5102759599685665\n",
            "End document, total time: 17.31650137901306\n",
            "Begin document\n",
            "Begin KNN operations\n",
            "End KNN operations, time taken: 0.5361707210540771\n",
            "Begin KNN operations\n",
            "End KNN operations, time taken: 0.8317313194274902\n",
            "Begin KNN operations\n",
            "End KNN operations, time taken: 1.1240639686584473\n",
            "Begin KNN operations\n",
            "End KNN operations, time taken: 1.3575248718261719\n",
            "Begin KNN operations\n",
            "End KNN operations, time taken: 1.8949003219604492\n",
            "Begin KNN operations\n",
            "End KNN operations, time taken: 2.8173863887786865\n",
            "Begin KNN operations\n",
            "End KNN operations, time taken: 2.1372382640838623\n",
            "Begin KNN operations\n",
            "End KNN operations, time taken: 2.396860361099243\n",
            "Begin KNN operations\n"
          ]
        },
        {
          "output_type": "stream",
          "name": "stderr",
          "text": [
            "\rtraining:  57%|█████▋    | 114/200 [34:37<25:43, 17.95s/it]"
          ]
        },
        {
          "output_type": "stream",
          "name": "stdout",
          "text": [
            "End KNN operations, time taken: 2.6447503566741943\n",
            "training loss: 2.466375994682312\n",
            "End document, total time: 17.51559042930603\n",
            "Begin document\n",
            "Begin KNN operations\n",
            "End KNN operations, time taken: 0.5277674198150635\n",
            "Begin KNN operations\n",
            "End KNN operations, time taken: 1.194502830505371\n",
            "Begin KNN operations\n",
            "End KNN operations, time taken: 1.7298338413238525\n",
            "Begin KNN operations\n",
            "End KNN operations, time taken: 1.3684911727905273\n",
            "Begin KNN operations\n",
            "End KNN operations, time taken: 1.623584270477295\n",
            "Begin KNN operations\n",
            "End KNN operations, time taken: 1.828401803970337\n",
            "Begin KNN operations\n",
            "End KNN operations, time taken: 2.096266269683838\n",
            "Begin KNN operations\n",
            "End KNN operations, time taken: 2.402118444442749\n",
            "Begin KNN operations\n"
          ]
        },
        {
          "output_type": "stream",
          "name": "stderr",
          "text": [
            "\rtraining:  57%|█████▊    | 115/200 [34:56<25:48, 18.22s/it]"
          ]
        },
        {
          "output_type": "stream",
          "name": "stdout",
          "text": [
            "End KNN operations, time taken: 4.10425066947937\n",
            "training loss: 2.467807126045227\n",
            "End document, total time: 18.620389938354492\n",
            "Begin document\n",
            "Begin KNN operations\n",
            "End KNN operations, time taken: 0.519597053527832\n",
            "Begin KNN operations\n",
            "End KNN operations, time taken: 0.8283548355102539\n",
            "Begin KNN operations\n",
            "End KNN operations, time taken: 1.1043016910552979\n",
            "Begin KNN operations\n",
            "End KNN operations, time taken: 1.3633487224578857\n",
            "Begin KNN operations\n",
            "End KNN operations, time taken: 1.5797138214111328\n",
            "Begin KNN operations\n",
            "End KNN operations, time taken: 1.8457400798797607\n",
            "Begin KNN operations\n",
            "End KNN operations, time taken: 3.2562673091888428\n",
            "Begin KNN operations\n",
            "End KNN operations, time taken: 2.4308693408966064\n",
            "Begin KNN operations\n"
          ]
        },
        {
          "output_type": "stream",
          "name": "stderr",
          "text": [
            "\rtraining:  58%|█████▊    | 116/200 [35:13<25:11, 17.99s/it]"
          ]
        },
        {
          "output_type": "stream",
          "name": "stdout",
          "text": [
            "End KNN operations, time taken: 2.5774333477020264\n",
            "training loss: 2.4733497858047486\n",
            "End document, total time: 17.256421327590942\n",
            "Begin document\n",
            "Begin KNN operations\n",
            "End KNN operations, time taken: 0.5148534774780273\n",
            "Begin KNN operations\n",
            "End KNN operations, time taken: 0.8120288848876953\n",
            "Begin KNN operations\n",
            "End KNN operations, time taken: 1.064084768295288\n",
            "Begin KNN operations\n",
            "End KNN operations, time taken: 1.3369967937469482\n",
            "Begin KNN operations\n",
            "End KNN operations, time taken: 2.635239362716675\n",
            "Begin KNN operations\n",
            "End KNN operations, time taken: 1.8733527660369873\n",
            "Begin KNN operations\n",
            "End KNN operations, time taken: 2.1080923080444336\n",
            "Begin KNN operations\n",
            "End KNN operations, time taken: 2.359908103942871\n",
            "Begin KNN operations\n"
          ]
        },
        {
          "output_type": "stream",
          "name": "stderr",
          "text": [
            "\rtraining:  58%|█████▊    | 117/200 [35:31<24:34, 17.77s/it]"
          ]
        },
        {
          "output_type": "stream",
          "name": "stdout",
          "text": [
            "End KNN operations, time taken: 2.634950876235962\n",
            "training loss: 2.4296321868896484\n",
            "End document, total time: 17.03348445892334\n",
            "Begin document\n",
            "Begin KNN operations\n",
            "End KNN operations, time taken: 0.7446794509887695\n",
            "Begin KNN operations\n",
            "End KNN operations, time taken: 1.2530572414398193\n",
            "Begin KNN operations\n",
            "End KNN operations, time taken: 1.2641074657440186\n",
            "Begin KNN operations\n",
            "End KNN operations, time taken: 1.3313629627227783\n",
            "Begin KNN operations\n",
            "End KNN operations, time taken: 1.5822155475616455\n",
            "Begin KNN operations\n",
            "End KNN operations, time taken: 1.8844244480133057\n",
            "Begin KNN operations\n",
            "End KNN operations, time taken: 2.166663885116577\n",
            "Begin KNN operations\n",
            "End KNN operations, time taken: 2.7779200077056885\n",
            "Begin KNN operations\n"
          ]
        },
        {
          "output_type": "stream",
          "name": "stderr",
          "text": [
            "\rtraining:  59%|█████▉    | 118/200 [35:49<24:30, 17.94s/it]"
          ]
        },
        {
          "output_type": "stream",
          "name": "stdout",
          "text": [
            "End KNN operations, time taken: 3.403564929962158\n",
            "training loss: 2.4478683948516844\n",
            "End document, total time: 18.122179746627808\n",
            "Begin document\n",
            "Begin KNN operations\n",
            "End KNN operations, time taken: 0.5315995216369629\n",
            "Begin KNN operations\n",
            "End KNN operations, time taken: 0.8339812755584717\n",
            "Begin KNN operations\n",
            "End KNN operations, time taken: 1.0705208778381348\n",
            "Begin KNN operations\n",
            "End KNN operations, time taken: 1.3145358562469482\n",
            "Begin KNN operations\n",
            "End KNN operations, time taken: 1.5759503841400146\n",
            "Begin KNN operations\n",
            "End KNN operations, time taken: 1.8933844566345215\n",
            "Begin KNN operations\n",
            "End KNN operations, time taken: 3.300427198410034\n",
            "Begin KNN operations\n",
            "End KNN operations, time taken: 2.3202271461486816\n",
            "Begin KNN operations\n"
          ]
        },
        {
          "output_type": "stream",
          "name": "stderr",
          "text": [
            "\rtraining:  60%|█████▉    | 119/200 [36:06<23:59, 17.78s/it]"
          ]
        },
        {
          "output_type": "stream",
          "name": "stdout",
          "text": [
            "End KNN operations, time taken: 2.6562490463256836\n",
            "training loss: 2.4291115283966063\n",
            "End document, total time: 17.19663119316101\n",
            "Begin document\n",
            "Begin KNN operations\n",
            "End KNN operations, time taken: 0.545870304107666\n",
            "Begin KNN operations\n",
            "End KNN operations, time taken: 1.2836790084838867\n",
            "Begin KNN operations\n",
            "End KNN operations, time taken: 1.8103065490722656\n",
            "Begin KNN operations\n",
            "End KNN operations, time taken: 2.1837351322174072\n",
            "Begin KNN operations\n",
            "End KNN operations, time taken: 1.7135260105133057\n",
            "Begin KNN operations\n",
            "End KNN operations, time taken: 1.9006283283233643\n",
            "Begin KNN operations\n",
            "End KNN operations, time taken: 2.1443324089050293\n",
            "Begin KNN operations\n",
            "End KNN operations, time taken: 2.4215736389160156\n",
            "Begin KNN operations\n"
          ]
        },
        {
          "output_type": "stream",
          "name": "stderr",
          "text": [
            "\rtraining:  60%|██████    | 120/200 [36:26<24:18, 18.23s/it]"
          ]
        },
        {
          "output_type": "stream",
          "name": "stdout",
          "text": [
            "End KNN operations, time taken: 3.3668856620788574\n",
            "training loss: 2.4264061927795413\n",
            "End document, total time: 19.08396053314209\n",
            "Begin document\n",
            "Begin KNN operations\n",
            "End KNN operations, time taken: 0.5340650081634521\n",
            "Begin KNN operations\n",
            "End KNN operations, time taken: 0.817244291305542\n",
            "Begin KNN operations\n",
            "End KNN operations, time taken: 1.0860521793365479\n",
            "Begin KNN operations\n",
            "End KNN operations, time taken: 1.3494610786437988\n",
            "Begin KNN operations\n",
            "End KNN operations, time taken: 1.6196231842041016\n",
            "Begin KNN operations\n",
            "End KNN operations, time taken: 1.880596399307251\n",
            "Begin KNN operations\n",
            "End KNN operations, time taken: 2.282705068588257\n",
            "Begin KNN operations\n",
            "End KNN operations, time taken: 3.560195207595825\n",
            "Begin KNN operations\n"
          ]
        },
        {
          "output_type": "stream",
          "name": "stderr",
          "text": [
            "\rtraining:  60%|██████    | 121/200 [36:43<23:51, 18.12s/it]"
          ]
        },
        {
          "output_type": "stream",
          "name": "stdout",
          "text": [
            "End KNN operations, time taken: 2.7367234230041504\n",
            "training loss: 2.4067776203155513\n",
            "End document, total time: 17.620165586471558\n",
            "Begin document\n",
            "Begin KNN operations\n",
            "End KNN operations, time taken: 0.5445375442504883\n",
            "Begin KNN operations\n",
            "End KNN operations, time taken: 0.8440580368041992\n",
            "Begin KNN operations\n",
            "End KNN operations, time taken: 1.1122252941131592\n",
            "Begin KNN operations\n",
            "End KNN operations, time taken: 1.3489527702331543\n",
            "Begin KNN operations\n",
            "End KNN operations, time taken: 2.1670870780944824\n",
            "Begin KNN operations\n",
            "End KNN operations, time taken: 2.604396104812622\n",
            "Begin KNN operations\n",
            "End KNN operations, time taken: 2.1573643684387207\n",
            "Begin KNN operations\n",
            "End KNN operations, time taken: 2.4059882164001465\n",
            "Begin KNN operations\n"
          ]
        },
        {
          "output_type": "stream",
          "name": "stderr",
          "text": [
            "\rtraining:  61%|██████    | 122/200 [37:01<23:30, 18.09s/it]"
          ]
        },
        {
          "output_type": "stream",
          "name": "stdout",
          "text": [
            "End KNN operations, time taken: 2.6983563899993896\n",
            "training loss: 2.4318744659423825\n",
            "End document, total time: 17.686243295669556\n",
            "Begin document\n",
            "Begin KNN operations\n",
            "End KNN operations, time taken: 0.5298779010772705\n",
            "Begin KNN operations\n",
            "End KNN operations, time taken: 1.2639529705047607\n",
            "Begin KNN operations\n",
            "End KNN operations, time taken: 1.7759807109832764\n",
            "Begin KNN operations\n",
            "End KNN operations, time taken: 1.3774347305297852\n",
            "Begin KNN operations\n",
            "End KNN operations, time taken: 1.6214373111724854\n",
            "Begin KNN operations\n",
            "End KNN operations, time taken: 1.8722789287567139\n",
            "Begin KNN operations\n",
            "End KNN operations, time taken: 2.1205389499664307\n",
            "Begin KNN operations\n",
            "End KNN operations, time taken: 2.423975944519043\n",
            "Begin KNN operations\n"
          ]
        },
        {
          "output_type": "stream",
          "name": "stderr",
          "text": [
            "\rtraining:  62%|██████▏   | 123/200 [37:20<23:32, 18.34s/it]"
          ]
        },
        {
          "output_type": "stream",
          "name": "stdout",
          "text": [
            "End KNN operations, time taken: 4.020183086395264\n",
            "training loss: 2.5262379407882687\n",
            "End document, total time: 18.74240207672119\n",
            "Begin document\n",
            "Begin KNN operations\n",
            "End KNN operations, time taken: 0.51776123046875\n",
            "Begin KNN operations\n",
            "End KNN operations, time taken: 0.8192770481109619\n",
            "Begin KNN operations\n",
            "End KNN operations, time taken: 1.0555939674377441\n",
            "Begin KNN operations\n",
            "End KNN operations, time taken: 1.3573260307312012\n",
            "Begin KNN operations\n",
            "End KNN operations, time taken: 1.603776216506958\n",
            "Begin KNN operations\n",
            "End KNN operations, time taken: 1.8360192775726318\n",
            "Begin KNN operations\n",
            "End KNN operations, time taken: 3.386904716491699\n",
            "Begin KNN operations\n",
            "End KNN operations, time taken: 2.397260904312134\n",
            "Begin KNN operations\n"
          ]
        },
        {
          "output_type": "stream",
          "name": "stderr",
          "text": [
            "\rtraining:  62%|██████▏   | 124/200 [37:38<22:55, 18.10s/it]"
          ]
        },
        {
          "output_type": "stream",
          "name": "stdout",
          "text": [
            "End KNN operations, time taken: 2.699660301208496\n",
            "training loss: 2.471664571762085\n",
            "End document, total time: 17.332526206970215\n",
            "Begin document\n",
            "Begin KNN operations\n",
            "End KNN operations, time taken: 0.5284261703491211\n",
            "Begin KNN operations\n",
            "End KNN operations, time taken: 0.8870675563812256\n",
            "Begin KNN operations\n",
            "End KNN operations, time taken: 1.1204345226287842\n",
            "Begin KNN operations\n",
            "End KNN operations, time taken: 1.4505412578582764\n",
            "Begin KNN operations\n",
            "End KNN operations, time taken: 2.7414610385894775\n",
            "Begin KNN operations\n",
            "End KNN operations, time taken: 1.8536953926086426\n",
            "Begin KNN operations\n",
            "End KNN operations, time taken: 2.1518445014953613\n",
            "Begin KNN operations\n",
            "End KNN operations, time taken: 2.4114956855773926\n",
            "Begin KNN operations\n"
          ]
        },
        {
          "output_type": "stream",
          "name": "stderr",
          "text": [
            "\rtraining:  62%|██████▎   | 125/200 [37:56<22:27, 17.96s/it]"
          ]
        },
        {
          "output_type": "stream",
          "name": "stdout",
          "text": [
            "End KNN operations, time taken: 2.664893388748169\n",
            "training loss: 2.471822023391723\n",
            "End document, total time: 17.441680431365967\n",
            "Begin document\n",
            "Begin KNN operations\n",
            "End KNN operations, time taken: 0.7626020908355713\n",
            "Begin KNN operations\n",
            "End KNN operations, time taken: 1.3084163665771484\n",
            "Begin KNN operations\n",
            "End KNN operations, time taken: 1.0977413654327393\n",
            "Begin KNN operations\n",
            "End KNN operations, time taken: 1.3786005973815918\n",
            "Begin KNN operations\n",
            "End KNN operations, time taken: 1.6127495765686035\n",
            "Begin KNN operations\n",
            "End KNN operations, time taken: 1.8820323944091797\n",
            "Begin KNN operations\n",
            "End KNN operations, time taken: 2.151883363723755\n",
            "Begin KNN operations\n",
            "End KNN operations, time taken: 3.1305387020111084\n",
            "Begin KNN operations\n"
          ]
        },
        {
          "output_type": "stream",
          "name": "stderr",
          "text": [
            "\rtraining:  63%|██████▎   | 126/200 [38:14<22:25, 18.18s/it]"
          ]
        },
        {
          "output_type": "stream",
          "name": "stdout",
          "text": [
            "End KNN operations, time taken: 3.3480608463287354\n",
            "training loss: 2.4594838857650756\n",
            "End document, total time: 18.477694272994995\n",
            "Begin document\n",
            "Begin KNN operations\n",
            "End KNN operations, time taken: 0.5235717296600342\n",
            "Begin KNN operations\n",
            "End KNN operations, time taken: 0.8305377960205078\n",
            "Begin KNN operations\n",
            "End KNN operations, time taken: 1.0758183002471924\n",
            "Begin KNN operations\n",
            "End KNN operations, time taken: 1.3415215015411377\n",
            "Begin KNN operations\n",
            "End KNN operations, time taken: 1.6208858489990234\n",
            "Begin KNN operations\n",
            "End KNN operations, time taken: 2.3180270195007324\n",
            "Begin KNN operations\n",
            "End KNN operations, time taken: 2.987461805343628\n",
            "Begin KNN operations\n",
            "End KNN operations, time taken: 3.4450700283050537\n",
            "Begin KNN operations\n"
          ]
        },
        {
          "output_type": "stream",
          "name": "stderr",
          "text": [
            "\rtraining:  64%|██████▎   | 127/200 [38:33<22:21, 18.37s/it]"
          ]
        },
        {
          "output_type": "stream",
          "name": "stdout",
          "text": [
            "End KNN operations, time taken: 2.6803781986236572\n",
            "training loss: 2.4229967832565302\n",
            "End document, total time: 18.612443685531616\n",
            "Begin document\n",
            "Begin KNN operations\n",
            "End KNN operations, time taken: 0.5347065925598145\n",
            "Begin KNN operations\n",
            "End KNN operations, time taken: 0.8271965980529785\n",
            "Begin KNN operations\n",
            "End KNN operations, time taken: 1.7634053230285645\n",
            "Begin KNN operations\n",
            "End KNN operations, time taken: 1.8807933330535889\n",
            "Begin KNN operations\n",
            "End KNN operations, time taken: 1.6550397872924805\n",
            "Begin KNN operations\n",
            "End KNN operations, time taken: 1.892721176147461\n",
            "Begin KNN operations\n",
            "End KNN operations, time taken: 2.15266752243042\n",
            "Begin KNN operations\n",
            "End KNN operations, time taken: 2.3923325538635254\n",
            "Begin KNN operations\n"
          ]
        },
        {
          "output_type": "stream",
          "name": "stderr",
          "text": [
            "\rtraining:  64%|██████▍   | 128/200 [38:52<22:23, 18.66s/it]"
          ]
        },
        {
          "output_type": "stream",
          "name": "stdout",
          "text": [
            "End KNN operations, time taken: 4.248284816741943\n",
            "training loss: 2.5157108068466183\n",
            "End document, total time: 19.11406183242798\n",
            "Begin document\n",
            "Begin KNN operations\n",
            "End KNN operations, time taken: 0.5250115394592285\n",
            "Begin KNN operations\n",
            "End KNN operations, time taken: 0.8262801170349121\n",
            "Begin KNN operations\n",
            "End KNN operations, time taken: 1.1126084327697754\n",
            "Begin KNN operations\n",
            "End KNN operations, time taken: 1.3683104515075684\n",
            "Begin KNN operations\n",
            "End KNN operations, time taken: 1.6011993885040283\n",
            "Begin KNN operations\n",
            "End KNN operations, time taken: 1.9181466102600098\n",
            "Begin KNN operations\n",
            "End KNN operations, time taken: 3.0036001205444336\n",
            "Begin KNN operations\n",
            "End KNN operations, time taken: 2.7632358074188232\n",
            "Begin KNN operations\n"
          ]
        },
        {
          "output_type": "stream",
          "name": "stderr",
          "text": [
            "\rtraining:  64%|██████▍   | 129/200 [39:10<21:45, 18.39s/it]"
          ]
        },
        {
          "output_type": "stream",
          "name": "stdout",
          "text": [
            "End KNN operations, time taken: 2.641906499862671\n",
            "training loss: 2.4436039686203004\n",
            "End document, total time: 17.535929441452026\n",
            "Begin document\n",
            "Begin KNN operations\n",
            "End KNN operations, time taken: 0.5275888442993164\n",
            "Begin KNN operations\n",
            "End KNN operations, time taken: 0.8452374935150146\n",
            "Begin KNN operations\n",
            "End KNN operations, time taken: 1.0885229110717773\n",
            "Begin KNN operations\n",
            "End KNN operations, time taken: 1.3672692775726318\n",
            "Begin KNN operations\n",
            "End KNN operations, time taken: 2.6941652297973633\n",
            "Begin KNN operations\n",
            "End KNN operations, time taken: 1.8849732875823975\n",
            "Begin KNN operations\n",
            "End KNN operations, time taken: 2.122616767883301\n",
            "Begin KNN operations\n",
            "End KNN operations, time taken: 2.4537439346313477\n",
            "Begin KNN operations\n"
          ]
        },
        {
          "output_type": "stream",
          "name": "stderr",
          "text": [
            "\rtraining:  65%|██████▌   | 130/200 [39:28<21:10, 18.16s/it]"
          ]
        },
        {
          "output_type": "stream",
          "name": "stdout",
          "text": [
            "End KNN operations, time taken: 2.7109920978546143\n",
            "training loss: 2.4795843362808228\n",
            "End document, total time: 17.423782348632812\n",
            "Begin document\n",
            "Begin KNN operations\n",
            "End KNN operations, time taken: 0.7537226676940918\n",
            "Begin KNN operations\n",
            "End KNN operations, time taken: 1.278860092163086\n",
            "Begin KNN operations\n",
            "End KNN operations, time taken: 1.2005445957183838\n",
            "Begin KNN operations\n",
            "End KNN operations, time taken: 1.3862197399139404\n",
            "Begin KNN operations\n",
            "End KNN operations, time taken: 1.64396071434021\n",
            "Begin KNN operations\n",
            "End KNN operations, time taken: 1.9038209915161133\n",
            "Begin KNN operations\n",
            "End KNN operations, time taken: 2.1388564109802246\n",
            "Begin KNN operations\n",
            "End KNN operations, time taken: 3.190375328063965\n",
            "Begin KNN operations\n"
          ]
        },
        {
          "output_type": "stream",
          "name": "stderr",
          "text": [
            "\rtraining:  66%|██████▌   | 131/200 [39:47<21:05, 18.34s/it]"
          ]
        },
        {
          "output_type": "stream",
          "name": "stdout",
          "text": [
            "End KNN operations, time taken: 3.348102569580078\n",
            "training loss: 2.4958694696426393\n",
            "End document, total time: 18.575135231018066\n",
            "Begin document\n",
            "Begin KNN operations\n",
            "End KNN operations, time taken: 0.5385079383850098\n",
            "Begin KNN operations\n",
            "End KNN operations, time taken: 0.8241920471191406\n",
            "Begin KNN operations\n",
            "End KNN operations, time taken: 1.09071946144104\n",
            "Begin KNN operations\n",
            "End KNN operations, time taken: 1.3609755039215088\n",
            "Begin KNN operations\n",
            "End KNN operations, time taken: 1.642254114151001\n",
            "Begin KNN operations\n",
            "End KNN operations, time taken: 2.3592240810394287\n",
            "Begin KNN operations\n",
            "End KNN operations, time taken: 3.053555488586426\n",
            "Begin KNN operations\n",
            "End KNN operations, time taken: 2.4277701377868652\n",
            "Begin KNN operations\n"
          ]
        },
        {
          "output_type": "stream",
          "name": "stderr",
          "text": [
            "\rtraining:  66%|██████▌   | 132/200 [40:04<20:38, 18.21s/it]"
          ]
        },
        {
          "output_type": "stream",
          "name": "stdout",
          "text": [
            "End KNN operations, time taken: 2.6601157188415527\n",
            "training loss: 2.4946326494216917\n",
            "End document, total time: 17.71510410308838\n",
            "Begin document\n",
            "Begin KNN operations\n",
            "End KNN operations, time taken: 0.5236294269561768\n",
            "Begin KNN operations\n",
            "End KNN operations, time taken: 0.8632166385650635\n",
            "Begin KNN operations\n",
            "End KNN operations, time taken: 1.1062159538269043\n",
            "Begin KNN operations\n",
            "End KNN operations, time taken: 2.2292819023132324\n",
            "Begin KNN operations\n",
            "End KNN operations, time taken: 1.8449900150299072\n",
            "Begin KNN operations\n",
            "End KNN operations, time taken: 1.873490333557129\n",
            "Begin KNN operations\n",
            "End KNN operations, time taken: 2.1349713802337646\n",
            "Begin KNN operations\n",
            "End KNN operations, time taken: 2.3970296382904053\n",
            "Begin KNN operations\n"
          ]
        },
        {
          "output_type": "stream",
          "name": "stderr",
          "text": [
            "\rtraining:  66%|██████▋   | 133/200 [40:23<20:20, 18.21s/it]"
          ]
        },
        {
          "output_type": "stream",
          "name": "stdout",
          "text": [
            "End KNN operations, time taken: 3.2028117179870605\n",
            "training loss: 2.546345686912537\n",
            "End document, total time: 17.988284587860107\n",
            "Begin document\n",
            "Begin KNN operations\n",
            "End KNN operations, time taken: 0.51584792137146\n",
            "Begin KNN operations\n",
            "End KNN operations, time taken: 0.8493037223815918\n",
            "Begin KNN operations\n",
            "End KNN operations, time taken: 1.0985233783721924\n",
            "Begin KNN operations\n",
            "End KNN operations, time taken: 1.3919596672058105\n",
            "Begin KNN operations\n",
            "End KNN operations, time taken: 1.609419345855713\n",
            "Begin KNN operations\n",
            "End KNN operations, time taken: 1.8657822608947754\n",
            "Begin KNN operations\n",
            "End KNN operations, time taken: 2.1525912284851074\n",
            "Begin KNN operations\n",
            "End KNN operations, time taken: 3.6581871509552\n",
            "Begin KNN operations\n"
          ]
        },
        {
          "output_type": "stream",
          "name": "stderr",
          "text": [
            "\rtraining:  67%|██████▋   | 134/200 [40:41<19:56, 18.13s/it]"
          ]
        },
        {
          "output_type": "stream",
          "name": "stdout",
          "text": [
            "End KNN operations, time taken: 2.682173728942871\n",
            "training loss: 2.4075722217559816\n",
            "End document, total time: 17.556847095489502\n",
            "Begin document\n",
            "Begin KNN operations\n",
            "End KNN operations, time taken: 0.5196912288665771\n",
            "Begin KNN operations\n",
            "End KNN operations, time taken: 0.8325648307800293\n",
            "Begin KNN operations\n",
            "End KNN operations, time taken: 1.095740795135498\n",
            "Begin KNN operations\n",
            "End KNN operations, time taken: 1.372361421585083\n",
            "Begin KNN operations\n",
            "End KNN operations, time taken: 2.1555237770080566\n",
            "Begin KNN operations\n",
            "End KNN operations, time taken: 3.426609992980957\n",
            "Begin KNN operations\n",
            "End KNN operations, time taken: 2.4288556575775146\n",
            "Begin KNN operations\n",
            "End KNN operations, time taken: 2.4067115783691406\n",
            "Begin KNN operations\n"
          ]
        },
        {
          "output_type": "stream",
          "name": "stderr",
          "text": [
            "\rtraining:  68%|██████▊   | 135/200 [41:00<19:54, 18.38s/it]"
          ]
        },
        {
          "output_type": "stream",
          "name": "stdout",
          "text": [
            "End KNN operations, time taken: 2.6778204441070557\n",
            "training loss: 2.488984394073486\n",
            "End document, total time: 18.738346099853516\n",
            "Begin document\n",
            "Begin KNN operations\n",
            "End KNN operations, time taken: 0.5311849117279053\n",
            "Begin KNN operations\n",
            "End KNN operations, time taken: 0.8313572406768799\n",
            "Begin KNN operations\n",
            "End KNN operations, time taken: 1.6512203216552734\n",
            "Begin KNN operations\n",
            "End KNN operations, time taken: 2.055875539779663\n",
            "Begin KNN operations\n",
            "End KNN operations, time taken: 1.6301138401031494\n",
            "Begin KNN operations\n",
            "End KNN operations, time taken: 1.8661952018737793\n",
            "Begin KNN operations\n",
            "End KNN operations, time taken: 2.1266067028045654\n",
            "Begin KNN operations\n",
            "End KNN operations, time taken: 2.358079195022583\n",
            "Begin KNN operations\n"
          ]
        },
        {
          "output_type": "stream",
          "name": "stderr",
          "text": [
            "\rtraining:  68%|██████▊   | 136/200 [41:18<19:46, 18.53s/it]"
          ]
        },
        {
          "output_type": "stream",
          "name": "stdout",
          "text": [
            "End KNN operations, time taken: 3.9022786617279053\n",
            "training loss: 2.417732405662537\n",
            "End document, total time: 18.680102348327637\n",
            "Begin document\n",
            "Begin KNN operations\n",
            "End KNN operations, time taken: 0.5112690925598145\n",
            "Begin KNN operations\n",
            "End KNN operations, time taken: 0.8472328186035156\n",
            "Begin KNN operations\n",
            "End KNN operations, time taken: 1.093125581741333\n",
            "Begin KNN operations\n",
            "End KNN operations, time taken: 1.3411455154418945\n",
            "Begin KNN operations\n",
            "End KNN operations, time taken: 1.620837688446045\n",
            "Begin KNN operations\n",
            "End KNN operations, time taken: 1.879866361618042\n",
            "Begin KNN operations\n",
            "End KNN operations, time taken: 2.5076961517333984\n",
            "Begin KNN operations\n",
            "End KNN operations, time taken: 3.2834787368774414\n",
            "Begin KNN operations\n"
          ]
        },
        {
          "output_type": "stream",
          "name": "stderr",
          "text": [
            "\rtraining:  68%|██████▊   | 137/200 [41:36<19:09, 18.25s/it]"
          ]
        },
        {
          "output_type": "stream",
          "name": "stdout",
          "text": [
            "End KNN operations, time taken: 2.6698758602142334\n",
            "training loss: 2.4980479955673216\n",
            "End document, total time: 17.3646399974823\n",
            "Begin document\n",
            "Begin KNN operations\n",
            "End KNN operations, time taken: 0.5163688659667969\n",
            "Begin KNN operations\n",
            "End KNN operations, time taken: 0.8277254104614258\n",
            "Begin KNN operations\n",
            "End KNN operations, time taken: 1.0885648727416992\n",
            "Begin KNN operations\n",
            "End KNN operations, time taken: 1.374847173690796\n",
            "Begin KNN operations\n",
            "End KNN operations, time taken: 2.181410312652588\n",
            "Begin KNN operations\n",
            "End KNN operations, time taken: 2.549332618713379\n",
            "Begin KNN operations\n",
            "End KNN operations, time taken: 2.1552765369415283\n",
            "Begin KNN operations\n",
            "End KNN operations, time taken: 2.3726072311401367\n",
            "Begin KNN operations\n"
          ]
        },
        {
          "output_type": "stream",
          "name": "stderr",
          "text": [
            "\rtraining:  69%|██████▉   | 138/200 [41:54<18:41, 18.09s/it]"
          ]
        },
        {
          "output_type": "stream",
          "name": "stdout",
          "text": [
            "End KNN operations, time taken: 2.6220216751098633\n",
            "training loss: 2.4297006368637084\n",
            "End document, total time: 17.4862322807312\n",
            "Begin document\n",
            "Begin KNN operations\n",
            "End KNN operations, time taken: 0.536745548248291\n",
            "Begin KNN operations\n",
            "End KNN operations, time taken: 1.270867109298706\n",
            "Begin KNN operations\n",
            "End KNN operations, time taken: 1.753403663635254\n",
            "Begin KNN operations\n",
            "End KNN operations, time taken: 1.3525772094726562\n",
            "Begin KNN operations\n",
            "End KNN operations, time taken: 1.625626564025879\n",
            "Begin KNN operations\n",
            "End KNN operations, time taken: 1.862574577331543\n",
            "Begin KNN operations\n",
            "End KNN operations, time taken: 2.230821371078491\n",
            "Begin KNN operations\n",
            "End KNN operations, time taken: 2.4804439544677734\n",
            "Begin KNN operations\n"
          ]
        },
        {
          "output_type": "stream",
          "name": "stderr",
          "text": [
            "\rtraining:  70%|██████▉   | 139/200 [42:13<18:41, 18.38s/it]"
          ]
        },
        {
          "output_type": "stream",
          "name": "stdout",
          "text": [
            "End KNN operations, time taken: 4.023427963256836\n",
            "training loss: 2.4985888957977296\n",
            "End document, total time: 18.869412183761597\n",
            "Begin document\n",
            "Begin KNN operations\n",
            "End KNN operations, time taken: 0.5398283004760742\n",
            "Begin KNN operations\n",
            "End KNN operations, time taken: 0.8330366611480713\n",
            "Begin KNN operations\n",
            "End KNN operations, time taken: 1.1145753860473633\n",
            "Begin KNN operations\n",
            "End KNN operations, time taken: 1.357210636138916\n",
            "Begin KNN operations\n",
            "End KNN operations, time taken: 1.6599526405334473\n",
            "Begin KNN operations\n",
            "End KNN operations, time taken: 1.8858706951141357\n",
            "Begin KNN operations\n",
            "End KNN operations, time taken: 3.5451998710632324\n",
            "Begin KNN operations\n",
            "End KNN operations, time taken: 2.4290590286254883\n",
            "Begin KNN operations\n"
          ]
        },
        {
          "output_type": "stream",
          "name": "stderr",
          "text": [
            "\rtraining:  70%|███████   | 140/200 [42:31<18:13, 18.22s/it]"
          ]
        },
        {
          "output_type": "stream",
          "name": "stdout",
          "text": [
            "End KNN operations, time taken: 2.694767475128174\n",
            "training loss: 2.4488606929779055\n",
            "End document, total time: 17.643552541732788\n",
            "Begin document\n",
            "Begin KNN operations\n",
            "End KNN operations, time taken: 0.5312075614929199\n",
            "Begin KNN operations\n",
            "End KNN operations, time taken: 0.8390302658081055\n",
            "Begin KNN operations\n",
            "End KNN operations, time taken: 1.0980126857757568\n",
            "Begin KNN operations\n",
            "End KNN operations, time taken: 1.635443925857544\n",
            "Begin KNN operations\n",
            "End KNN operations, time taken: 2.581705331802368\n",
            "Begin KNN operations\n",
            "End KNN operations, time taken: 1.9135103225708008\n",
            "Begin KNN operations\n",
            "End KNN operations, time taken: 2.262336254119873\n",
            "Begin KNN operations\n",
            "End KNN operations, time taken: 2.4131221771240234\n",
            "Begin KNN operations\n"
          ]
        },
        {
          "output_type": "stream",
          "name": "stderr",
          "text": [
            "\rtraining:  70%|███████   | 141/200 [42:48<17:47, 18.10s/it]"
          ]
        },
        {
          "output_type": "stream",
          "name": "stdout",
          "text": [
            "End KNN operations, time taken: 2.6571850776672363\n",
            "training loss: 2.443978476524353\n",
            "End document, total time: 17.614683389663696\n",
            "Begin document\n",
            "Begin KNN operations\n",
            "End KNN operations, time taken: 0.7333588600158691\n",
            "Begin KNN operations\n",
            "End KNN operations, time taken: 1.226262092590332\n",
            "Begin KNN operations\n",
            "End KNN operations, time taken: 1.1010923385620117\n",
            "Begin KNN operations\n",
            "End KNN operations, time taken: 1.3548142910003662\n",
            "Begin KNN operations\n",
            "End KNN operations, time taken: 1.6016418933868408\n",
            "Begin KNN operations\n",
            "End KNN operations, time taken: 1.8802495002746582\n",
            "Begin KNN operations\n",
            "End KNN operations, time taken: 2.1340086460113525\n",
            "Begin KNN operations\n",
            "End KNN operations, time taken: 3.3766868114471436\n",
            "Begin KNN operations\n"
          ]
        },
        {
          "output_type": "stream",
          "name": "stderr",
          "text": [
            "\rtraining:  71%|███████   | 142/200 [43:07<17:33, 18.16s/it]"
          ]
        },
        {
          "output_type": "stream",
          "name": "stdout",
          "text": [
            "End KNN operations, time taken: 2.841092348098755\n",
            "training loss: 2.4877652645111086\n",
            "End document, total time: 18.057165145874023\n",
            "Begin document\n",
            "Begin KNN operations\n",
            "End KNN operations, time taken: 0.5288286209106445\n",
            "Begin KNN operations\n",
            "End KNN operations, time taken: 0.8515853881835938\n",
            "Begin KNN operations\n",
            "End KNN operations, time taken: 1.0921812057495117\n",
            "Begin KNN operations\n",
            "End KNN operations, time taken: 1.3777897357940674\n",
            "Begin KNN operations\n",
            "End KNN operations, time taken: 1.5908937454223633\n",
            "Begin KNN operations\n",
            "End KNN operations, time taken: 2.6607532501220703\n",
            "Begin KNN operations\n",
            "End KNN operations, time taken: 2.645462989807129\n",
            "Begin KNN operations\n",
            "End KNN operations, time taken: 2.4265060424804688\n",
            "Begin KNN operations\n"
          ]
        },
        {
          "output_type": "stream",
          "name": "stderr",
          "text": [
            "\rtraining:  72%|███████▏  | 143/200 [43:25<17:09, 18.05s/it]"
          ]
        },
        {
          "output_type": "stream",
          "name": "stdout",
          "text": [
            "End KNN operations, time taken: 2.6595187187194824\n",
            "training loss: 2.4633834600448608\n",
            "End document, total time: 17.597046375274658\n",
            "Begin document\n",
            "Begin KNN operations\n",
            "End KNN operations, time taken: 0.5293991565704346\n",
            "Begin KNN operations\n",
            "End KNN operations, time taken: 0.8385579586029053\n",
            "Begin KNN operations\n",
            "End KNN operations, time taken: 1.3802618980407715\n",
            "Begin KNN operations\n",
            "End KNN operations, time taken: 2.3071234226226807\n",
            "Begin KNN operations\n",
            "End KNN operations, time taken: 1.6586251258850098\n",
            "Begin KNN operations\n",
            "End KNN operations, time taken: 1.8634400367736816\n",
            "Begin KNN operations\n",
            "End KNN operations, time taken: 2.147918224334717\n",
            "Begin KNN operations\n",
            "End KNN operations, time taken: 2.4316184520721436\n",
            "Begin KNN operations\n"
          ]
        },
        {
          "output_type": "stream",
          "name": "stderr",
          "text": [
            "\rtraining:  72%|███████▏  | 144/200 [43:43<17:03, 18.27s/it]"
          ]
        },
        {
          "output_type": "stream",
          "name": "stdout",
          "text": [
            "End KNN operations, time taken: 3.6446146965026855\n",
            "training loss: 2.4379113435745237\n",
            "End document, total time: 18.576672792434692\n",
            "Begin document\n",
            "Begin KNN operations\n",
            "End KNN operations, time taken: 0.525731086730957\n",
            "Begin KNN operations\n",
            "End KNN operations, time taken: 0.8498575687408447\n",
            "Begin KNN operations\n",
            "End KNN operations, time taken: 1.094834327697754\n",
            "Begin KNN operations\n",
            "End KNN operations, time taken: 1.3675758838653564\n",
            "Begin KNN operations\n",
            "End KNN operations, time taken: 1.643918752670288\n",
            "Begin KNN operations\n",
            "End KNN operations, time taken: 1.9445078372955322\n",
            "Begin KNN operations\n",
            "End KNN operations, time taken: 2.5524425506591797\n",
            "Begin KNN operations\n",
            "End KNN operations, time taken: 3.2729527950286865\n",
            "Begin KNN operations\n"
          ]
        },
        {
          "output_type": "stream",
          "name": "stderr",
          "text": [
            "\rtraining:  72%|███████▎  | 145/200 [44:01<16:38, 18.15s/it]"
          ]
        },
        {
          "output_type": "stream",
          "name": "stdout",
          "text": [
            "End KNN operations, time taken: 2.7358882427215576\n",
            "training loss: 2.461684989929199\n",
            "End document, total time: 17.61496090888977\n",
            "Begin document\n",
            "Begin KNN operations\n",
            "End KNN operations, time taken: 0.5310449600219727\n",
            "Begin KNN operations\n",
            "End KNN operations, time taken: 0.849292516708374\n",
            "Begin KNN operations\n",
            "End KNN operations, time taken: 1.1190485954284668\n",
            "Begin KNN operations\n",
            "End KNN operations, time taken: 1.3660082817077637\n",
            "Begin KNN operations\n",
            "End KNN operations, time taken: 2.3418619632720947\n",
            "Begin KNN operations\n",
            "End KNN operations, time taken: 2.4972422122955322\n",
            "Begin KNN operations\n",
            "End KNN operations, time taken: 2.187016248703003\n",
            "Begin KNN operations\n",
            "End KNN operations, time taken: 2.4465126991271973\n",
            "Begin KNN operations\n"
          ]
        },
        {
          "output_type": "stream",
          "name": "stderr",
          "text": [
            "\rtraining:  73%|███████▎  | 146/200 [44:19<16:17, 18.10s/it]"
          ]
        },
        {
          "output_type": "stream",
          "name": "stdout",
          "text": [
            "End KNN operations, time taken: 2.685214042663574\n",
            "training loss: 2.4432098865509033\n",
            "End document, total time: 17.77283239364624\n",
            "Begin document\n",
            "Begin KNN operations\n",
            "End KNN operations, time taken: 0.6405279636383057\n",
            "Begin KNN operations\n",
            "End KNN operations, time taken: 1.2742068767547607\n",
            "Begin KNN operations\n",
            "End KNN operations, time taken: 1.5786199569702148\n",
            "Begin KNN operations\n",
            "End KNN operations, time taken: 1.3627033233642578\n",
            "Begin KNN operations\n",
            "End KNN operations, time taken: 1.641601800918579\n",
            "Begin KNN operations\n",
            "End KNN operations, time taken: 1.8851497173309326\n",
            "Begin KNN operations\n",
            "End KNN operations, time taken: 2.1344363689422607\n",
            "Begin KNN operations\n",
            "End KNN operations, time taken: 2.660275936126709\n",
            "Begin KNN operations\n"
          ]
        },
        {
          "output_type": "stream",
          "name": "stderr",
          "text": [
            "\rtraining:  74%|███████▎  | 147/200 [44:38<16:12, 18.35s/it]"
          ]
        },
        {
          "output_type": "stream",
          "name": "stdout",
          "text": [
            "End KNN operations, time taken: 3.7356269359588623\n",
            "training loss: 2.4316873073577883\n",
            "End document, total time: 18.7088725566864\n",
            "Begin document\n",
            "Begin KNN operations\n",
            "End KNN operations, time taken: 0.5330722332000732\n",
            "Begin KNN operations\n",
            "End KNN operations, time taken: 0.8224890232086182\n",
            "Begin KNN operations\n",
            "End KNN operations, time taken: 1.1209616661071777\n",
            "Begin KNN operations\n",
            "End KNN operations, time taken: 1.3874919414520264\n",
            "Begin KNN operations\n",
            "End KNN operations, time taken: 1.609325647354126\n",
            "Begin KNN operations\n",
            "End KNN operations, time taken: 1.8693263530731201\n",
            "Begin KNN operations\n",
            "End KNN operations, time taken: 3.4659171104431152\n",
            "Begin KNN operations\n",
            "End KNN operations, time taken: 2.5126028060913086\n",
            "Begin KNN operations\n"
          ]
        },
        {
          "output_type": "stream",
          "name": "stderr",
          "text": [
            "\rtraining:  74%|███████▍  | 148/200 [44:56<15:49, 18.25s/it]"
          ]
        },
        {
          "output_type": "stream",
          "name": "stdout",
          "text": [
            "End KNN operations, time taken: 2.7725448608398438\n",
            "training loss: 2.4087021589279174\n",
            "End document, total time: 17.81554865837097\n",
            "Begin document\n",
            "Begin KNN operations\n",
            "End KNN operations, time taken: 0.5643024444580078\n",
            "Begin KNN operations\n",
            "End KNN operations, time taken: 0.8655216693878174\n",
            "Begin KNN operations\n",
            "End KNN operations, time taken: 1.1002862453460693\n",
            "Begin KNN operations\n",
            "End KNN operations, time taken: 2.1386563777923584\n",
            "Begin KNN operations\n",
            "End KNN operations, time taken: 2.1333274841308594\n",
            "Begin KNN operations\n",
            "End KNN operations, time taken: 1.889735460281372\n",
            "Begin KNN operations\n",
            "End KNN operations, time taken: 2.1313018798828125\n",
            "Begin KNN operations\n",
            "End KNN operations, time taken: 2.4792003631591797\n",
            "Begin KNN operations\n"
          ]
        },
        {
          "output_type": "stream",
          "name": "stderr",
          "text": [
            "\rtraining:  74%|███████▍  | 149/200 [45:14<15:31, 18.27s/it]"
          ]
        },
        {
          "output_type": "stream",
          "name": "stdout",
          "text": [
            "End KNN operations, time taken: 3.1115317344665527\n",
            "training loss: 2.5281457901000977\n",
            "End document, total time: 18.109707593917847\n",
            "Begin document\n",
            "Begin KNN operations\n",
            "End KNN operations, time taken: 0.7668890953063965\n",
            "Begin KNN operations\n",
            "End KNN operations, time taken: 0.8622984886169434\n",
            "Begin KNN operations\n",
            "End KNN operations, time taken: 1.111666202545166\n",
            "Begin KNN operations\n",
            "End KNN operations, time taken: 1.3446028232574463\n",
            "Begin KNN operations\n",
            "End KNN operations, time taken: 1.617556095123291\n",
            "Begin KNN operations\n",
            "End KNN operations, time taken: 1.870115041732788\n",
            "Begin KNN operations\n",
            "End KNN operations, time taken: 2.1960408687591553\n",
            "Begin KNN operations\n",
            "End KNN operations, time taken: 4.234086751937866\n",
            "Begin KNN operations\n"
          ]
        },
        {
          "output_type": "stream",
          "name": "stderr",
          "text": [
            "\rtraining:  75%|███████▌  | 150/200 [45:34<15:33, 18.66s/it]"
          ]
        },
        {
          "output_type": "stream",
          "name": "stdout",
          "text": [
            "End KNN operations, time taken: 3.6028122901916504\n",
            "training loss: 2.4442793130874634\n",
            "End document, total time: 19.373981952667236\n",
            "Begin document\n",
            "Begin KNN operations\n",
            "End KNN operations, time taken: 0.5325188636779785\n",
            "Begin KNN operations\n",
            "End KNN operations, time taken: 0.845792293548584\n",
            "Begin KNN operations\n",
            "End KNN operations, time taken: 1.0894076824188232\n",
            "Begin KNN operations\n",
            "End KNN operations, time taken: 1.3930144309997559\n",
            "Begin KNN operations\n",
            "End KNN operations, time taken: 1.6209120750427246\n",
            "Begin KNN operations\n",
            "End KNN operations, time taken: 3.13541316986084\n",
            "Begin KNN operations\n",
            "End KNN operations, time taken: 2.183419942855835\n",
            "Begin KNN operations\n",
            "End KNN operations, time taken: 2.4415132999420166\n",
            "Begin KNN operations\n"
          ]
        },
        {
          "output_type": "stream",
          "name": "stderr",
          "text": [
            "\rtraining:  76%|███████▌  | 151/200 [45:52<15:03, 18.43s/it]"
          ]
        },
        {
          "output_type": "stream",
          "name": "stdout",
          "text": [
            "End KNN operations, time taken: 2.7366020679473877\n",
            "training loss: 2.4149731159210206\n",
            "End document, total time: 17.688734531402588\n",
            "Begin document\n",
            "Begin KNN operations\n",
            "End KNN operations, time taken: 0.5488073825836182\n",
            "Begin KNN operations\n",
            "End KNN operations, time taken: 0.8396849632263184\n",
            "Begin KNN operations\n",
            "End KNN operations, time taken: 1.7701892852783203\n",
            "Begin KNN operations\n",
            "End KNN operations, time taken: 1.9227681159973145\n",
            "Begin KNN operations\n",
            "End KNN operations, time taken: 1.696981430053711\n",
            "Begin KNN operations\n",
            "End KNN operations, time taken: 1.8934383392333984\n",
            "Begin KNN operations\n",
            "End KNN operations, time taken: 2.1405978202819824\n",
            "Begin KNN operations\n",
            "End KNN operations, time taken: 2.3875014781951904\n",
            "Begin KNN operations\n"
          ]
        },
        {
          "output_type": "stream",
          "name": "stderr",
          "text": [
            "\rtraining:  76%|███████▌  | 152/200 [46:11<14:58, 18.72s/it]"
          ]
        },
        {
          "output_type": "stream",
          "name": "stdout",
          "text": [
            "End KNN operations, time taken: 4.2521045207977295\n",
            "training loss: 2.3880408525466916\n",
            "End document, total time: 19.168242931365967\n",
            "Begin document\n",
            "Begin KNN operations\n",
            "End KNN operations, time taken: 0.5449428558349609\n",
            "Begin KNN operations\n",
            "End KNN operations, time taken: 0.828507661819458\n",
            "Begin KNN operations\n",
            "End KNN operations, time taken: 1.1070752143859863\n",
            "Begin KNN operations\n",
            "End KNN operations, time taken: 1.3559315204620361\n",
            "Begin KNN operations\n",
            "End KNN operations, time taken: 1.6561408042907715\n",
            "Begin KNN operations\n",
            "End KNN operations, time taken: 1.906128168106079\n",
            "Begin KNN operations\n",
            "End KNN operations, time taken: 3.080554962158203\n",
            "Begin KNN operations\n",
            "End KNN operations, time taken: 2.785770893096924\n",
            "Begin KNN operations\n"
          ]
        },
        {
          "output_type": "stream",
          "name": "stderr",
          "text": [
            "\rtraining:  76%|███████▋  | 153/200 [46:29<14:27, 18.46s/it]"
          ]
        },
        {
          "output_type": "stream",
          "name": "stdout",
          "text": [
            "End KNN operations, time taken: 2.702341318130493\n",
            "training loss: 2.4045861959457397\n",
            "End document, total time: 17.64273691177368\n",
            "Begin document\n",
            "Begin KNN operations\n",
            "End KNN operations, time taken: 0.5485384464263916\n",
            "Begin KNN operations\n",
            "End KNN operations, time taken: 0.8559558391571045\n",
            "Begin KNN operations\n",
            "End KNN operations, time taken: 1.113968849182129\n",
            "Begin KNN operations\n",
            "End KNN operations, time taken: 1.3650145530700684\n",
            "Begin KNN operations\n",
            "End KNN operations, time taken: 2.7288260459899902\n",
            "Begin KNN operations\n",
            "End KNN operations, time taken: 1.9160988330841064\n",
            "Begin KNN operations\n",
            "End KNN operations, time taken: 2.1950719356536865\n",
            "Begin KNN operations\n",
            "End KNN operations, time taken: 2.4620609283447266\n",
            "Begin KNN operations\n"
          ]
        },
        {
          "output_type": "stream",
          "name": "stderr",
          "text": [
            "\rtraining:  77%|███████▋  | 154/200 [46:47<13:59, 18.25s/it]"
          ]
        },
        {
          "output_type": "stream",
          "name": "stdout",
          "text": [
            "End KNN operations, time taken: 2.7150230407714844\n",
            "training loss: 2.489109373092651\n",
            "End document, total time: 17.578550815582275\n",
            "Begin document\n",
            "Begin KNN operations\n",
            "End KNN operations, time taken: 0.7442147731781006\n",
            "Begin KNN operations\n",
            "End KNN operations, time taken: 1.3040237426757812\n",
            "Begin KNN operations\n",
            "End KNN operations, time taken: 1.111365556716919\n",
            "Begin KNN operations\n",
            "End KNN operations, time taken: 1.3943827152252197\n",
            "Begin KNN operations\n",
            "End KNN operations, time taken: 1.6401052474975586\n",
            "Begin KNN operations\n",
            "End KNN operations, time taken: 1.9191782474517822\n",
            "Begin KNN operations\n",
            "End KNN operations, time taken: 2.1937503814697266\n",
            "Begin KNN operations\n",
            "End KNN operations, time taken: 3.2794554233551025\n",
            "Begin KNN operations\n"
          ]
        },
        {
          "output_type": "stream",
          "name": "stderr",
          "text": [
            "\rtraining:  78%|███████▊  | 155/200 [47:06<13:49, 18.44s/it]"
          ]
        },
        {
          "output_type": "stream",
          "name": "stdout",
          "text": [
            "End KNN operations, time taken: 3.2667510509490967\n",
            "training loss: 2.409360480308533\n",
            "End document, total time: 18.65432596206665\n",
            "Begin document\n",
            "Begin KNN operations\n",
            "End KNN operations, time taken: 0.5354275703430176\n",
            "Begin KNN operations\n",
            "End KNN operations, time taken: 0.8619430065155029\n",
            "Begin KNN operations\n",
            "End KNN operations, time taken: 1.1300504207611084\n",
            "Begin KNN operations\n",
            "End KNN operations, time taken: 1.3827459812164307\n",
            "Begin KNN operations\n",
            "End KNN operations, time taken: 1.6610519886016846\n",
            "Begin KNN operations\n",
            "End KNN operations, time taken: 2.520846366882324\n",
            "Begin KNN operations\n",
            "End KNN operations, time taken: 2.764238119125366\n",
            "Begin KNN operations\n",
            "End KNN operations, time taken: 2.4927000999450684\n",
            "Begin KNN operations\n"
          ]
        },
        {
          "output_type": "stream",
          "name": "stderr",
          "text": [
            "\rtraining:  78%|███████▊  | 156/200 [47:24<13:25, 18.30s/it]"
          ]
        },
        {
          "output_type": "stream",
          "name": "stdout",
          "text": [
            "End KNN operations, time taken: 2.705162525177002\n",
            "training loss: 2.6043136835098264\n",
            "End document, total time: 17.7631516456604\n",
            "Begin document\n",
            "Begin KNN operations\n",
            "End KNN operations, time taken: 0.5318443775177002\n",
            "Begin KNN operations\n",
            "End KNN operations, time taken: 0.8335134983062744\n",
            "Begin KNN operations\n",
            "End KNN operations, time taken: 1.2732160091400146\n",
            "Begin KNN operations\n",
            "End KNN operations, time taken: 2.249603748321533\n",
            "Begin KNN operations\n",
            "End KNN operations, time taken: 1.6537015438079834\n",
            "Begin KNN operations\n",
            "End KNN operations, time taken: 1.928467035293579\n",
            "Begin KNN operations\n",
            "End KNN operations, time taken: 2.1512904167175293\n",
            "Begin KNN operations\n",
            "End KNN operations, time taken: 2.4703292846679688\n",
            "Begin KNN operations\n"
          ]
        },
        {
          "output_type": "stream",
          "name": "stderr",
          "text": [
            "\rtraining:  78%|███████▊  | 157/200 [47:42<13:11, 18.40s/it]"
          ]
        },
        {
          "output_type": "stream",
          "name": "stdout",
          "text": [
            "End KNN operations, time taken: 3.687345266342163\n",
            "training loss: 2.438872933387757\n",
            "End document, total time: 18.465440034866333\n",
            "Begin document\n",
            "Begin KNN operations\n",
            "End KNN operations, time taken: 0.5185208320617676\n",
            "Begin KNN operations\n",
            "End KNN operations, time taken: 0.8432798385620117\n",
            "Begin KNN operations\n",
            "End KNN operations, time taken: 1.1051523685455322\n",
            "Begin KNN operations\n",
            "End KNN operations, time taken: 1.3749926090240479\n",
            "Begin KNN operations\n",
            "End KNN operations, time taken: 2.5470662117004395\n",
            "Begin KNN operations\n",
            "End KNN operations, time taken: 2.3297672271728516\n",
            "Begin KNN operations\n",
            "End KNN operations, time taken: 3.525195360183716\n",
            "Begin KNN operations\n",
            "End KNN operations, time taken: 2.4669766426086426\n",
            "Begin KNN operations\n"
          ]
        },
        {
          "output_type": "stream",
          "name": "stderr",
          "text": [
            "\rtraining:  79%|███████▉  | 158/200 [48:02<13:05, 18.70s/it]"
          ]
        },
        {
          "output_type": "stream",
          "name": "stdout",
          "text": [
            "End KNN operations, time taken: 2.7478225231170654\n",
            "training loss: 2.4747004747390746\n",
            "End document, total time: 19.155951738357544\n",
            "Begin document\n",
            "Begin KNN operations\n",
            "End KNN operations, time taken: 0.526559591293335\n",
            "Begin KNN operations\n",
            "End KNN operations, time taken: 0.8367495536804199\n",
            "Begin KNN operations\n",
            "End KNN operations, time taken: 1.0978155136108398\n",
            "Begin KNN operations\n",
            "End KNN operations, time taken: 1.6009142398834229\n",
            "Begin KNN operations\n",
            "End KNN operations, time taken: 2.671799659729004\n",
            "Begin KNN operations\n",
            "End KNN operations, time taken: 1.9137847423553467\n",
            "Begin KNN operations\n",
            "End KNN operations, time taken: 2.1967668533325195\n",
            "Begin KNN operations\n",
            "End KNN operations, time taken: 2.4412453174591064\n",
            "Begin KNN operations\n"
          ]
        },
        {
          "output_type": "stream",
          "name": "stderr",
          "text": [
            "\rtraining:  80%|███████▉  | 159/200 [48:20<12:37, 18.46s/it]"
          ]
        },
        {
          "output_type": "stream",
          "name": "stdout",
          "text": [
            "End KNN operations, time taken: 2.7120635509490967\n",
            "training loss: 2.4234975814819335\n",
            "End document, total time: 17.70829677581787\n",
            "Begin document\n",
            "Begin KNN operations\n",
            "End KNN operations, time taken: 0.7459561824798584\n",
            "Begin KNN operations\n",
            "End KNN operations, time taken: 1.3272151947021484\n",
            "Begin KNN operations\n",
            "End KNN operations, time taken: 1.0759692192077637\n",
            "Begin KNN operations\n",
            "End KNN operations, time taken: 1.334852695465088\n",
            "Begin KNN operations\n",
            "End KNN operations, time taken: 1.6332318782806396\n",
            "Begin KNN operations\n",
            "End KNN operations, time taken: 1.8497793674468994\n",
            "Begin KNN operations\n",
            "End KNN operations, time taken: 2.152920722961426\n",
            "Begin KNN operations\n",
            "End KNN operations, time taken: 3.2568764686584473\n",
            "Begin KNN operations\n"
          ]
        },
        {
          "output_type": "stream",
          "name": "stderr",
          "text": [
            "\rtraining:  80%|████████  | 160/200 [48:38<12:17, 18.43s/it]"
          ]
        },
        {
          "output_type": "stream",
          "name": "stdout",
          "text": [
            "End KNN operations, time taken: 3.1376004219055176\n",
            "training loss: 2.4359259366989137\n",
            "End document, total time: 18.11821722984314\n",
            "Begin document\n",
            "Begin KNN operations\n",
            "End KNN operations, time taken: 0.5339100360870361\n",
            "Begin KNN operations\n",
            "End KNN operations, time taken: 0.8546035289764404\n",
            "Begin KNN operations\n",
            "End KNN operations, time taken: 1.1442477703094482\n",
            "Begin KNN operations\n",
            "End KNN operations, time taken: 1.4456217288970947\n",
            "Begin KNN operations\n",
            "End KNN operations, time taken: 1.6127345561981201\n",
            "Begin KNN operations\n",
            "End KNN operations, time taken: 2.4567067623138428\n",
            "Begin KNN operations\n",
            "End KNN operations, time taken: 2.8667163848876953\n",
            "Begin KNN operations\n",
            "End KNN operations, time taken: 2.4984734058380127\n",
            "Begin KNN operations\n"
          ]
        },
        {
          "output_type": "stream",
          "name": "stderr",
          "text": [
            "\rtraining:  80%|████████  | 161/200 [48:56<11:52, 18.28s/it]"
          ]
        },
        {
          "output_type": "stream",
          "name": "stdout",
          "text": [
            "End KNN operations, time taken: 2.710721969604492\n",
            "training loss: 2.4262686491012575\n",
            "End document, total time: 17.74335479736328\n",
            "Begin document\n",
            "Begin KNN operations\n",
            "End KNN operations, time taken: 0.521815299987793\n",
            "Begin KNN operations\n",
            "End KNN operations, time taken: 0.8393039703369141\n",
            "Begin KNN operations\n",
            "End KNN operations, time taken: 1.157912254333496\n",
            "Begin KNN operations\n",
            "End KNN operations, time taken: 2.237218141555786\n",
            "Begin KNN operations\n",
            "End KNN operations, time taken: 1.7391188144683838\n",
            "Begin KNN operations\n",
            "End KNN operations, time taken: 1.870213508605957\n",
            "Begin KNN operations\n",
            "End KNN operations, time taken: 2.1290993690490723\n",
            "Begin KNN operations\n",
            "End KNN operations, time taken: 2.410127639770508\n",
            "Begin KNN operations\n"
          ]
        },
        {
          "output_type": "stream",
          "name": "stderr",
          "text": [
            "\rtraining:  81%|████████  | 162/200 [49:14<11:32, 18.23s/it]"
          ]
        },
        {
          "output_type": "stream",
          "name": "stdout",
          "text": [
            "End KNN operations, time taken: 3.322897434234619\n",
            "training loss: 2.4023295640945435\n",
            "End document, total time: 17.922120571136475\n",
            "Begin document\n",
            "Begin KNN operations\n",
            "End KNN operations, time taken: 0.5068202018737793\n",
            "Begin KNN operations\n",
            "End KNN operations, time taken: 0.8308706283569336\n",
            "Begin KNN operations\n",
            "End KNN operations, time taken: 1.1069667339324951\n",
            "Begin KNN operations\n",
            "End KNN operations, time taken: 1.3428020477294922\n",
            "Begin KNN operations\n",
            "End KNN operations, time taken: 1.633131742477417\n",
            "Begin KNN operations\n",
            "End KNN operations, time taken: 1.8736588954925537\n",
            "Begin KNN operations\n",
            "End KNN operations, time taken: 2.1301774978637695\n",
            "Begin KNN operations\n",
            "End KNN operations, time taken: 3.7122445106506348\n",
            "Begin KNN operations\n"
          ]
        },
        {
          "output_type": "stream",
          "name": "stderr",
          "text": [
            "\rtraining:  82%|████████▏ | 163/200 [49:32<11:09, 18.09s/it]"
          ]
        },
        {
          "output_type": "stream",
          "name": "stdout",
          "text": [
            "End KNN operations, time taken: 2.6876649856567383\n",
            "training loss: 2.4122092485427857\n",
            "End document, total time: 17.53932547569275\n",
            "Begin document\n",
            "Begin KNN operations\n",
            "End KNN operations, time taken: 0.5231015682220459\n",
            "Begin KNN operations\n",
            "End KNN operations, time taken: 0.8349883556365967\n",
            "Begin KNN operations\n",
            "End KNN operations, time taken: 1.1095099449157715\n",
            "Begin KNN operations\n",
            "End KNN operations, time taken: 1.3473219871520996\n",
            "Begin KNN operations\n",
            "End KNN operations, time taken: 1.7445626258850098\n",
            "Begin KNN operations\n",
            "End KNN operations, time taken: 3.0348117351531982\n",
            "Begin KNN operations\n",
            "End KNN operations, time taken: 2.2332911491394043\n",
            "Begin KNN operations\n",
            "End KNN operations, time taken: 2.386636257171631\n",
            "Begin KNN operations\n"
          ]
        },
        {
          "output_type": "stream",
          "name": "stderr",
          "text": [
            "\rtraining:  82%|████████▏ | 164/200 [49:50<10:48, 18.02s/it]"
          ]
        },
        {
          "output_type": "stream",
          "name": "stdout",
          "text": [
            "End KNN operations, time taken: 2.715493679046631\n",
            "training loss: 2.4559193372726438\n",
            "End document, total time: 17.673882722854614\n",
            "Begin document\n",
            "Begin KNN operations\n",
            "End KNN operations, time taken: 0.562568187713623\n",
            "Begin KNN operations\n",
            "End KNN operations, time taken: 1.1813766956329346\n",
            "Begin KNN operations\n",
            "End KNN operations, time taken: 1.7466621398925781\n",
            "Begin KNN operations\n",
            "End KNN operations, time taken: 1.3716721534729004\n",
            "Begin KNN operations\n",
            "End KNN operations, time taken: 1.6261012554168701\n",
            "Begin KNN operations\n",
            "End KNN operations, time taken: 1.8752686977386475\n",
            "Begin KNN operations\n",
            "End KNN operations, time taken: 2.192815065383911\n",
            "Begin KNN operations\n",
            "End KNN operations, time taken: 2.525156259536743\n",
            "Begin KNN operations\n"
          ]
        },
        {
          "output_type": "stream",
          "name": "stderr",
          "text": [
            "\rtraining:  82%|████████▎ | 165/200 [50:10<10:51, 18.62s/it]"
          ]
        },
        {
          "output_type": "stream",
          "name": "stdout",
          "text": [
            "End KNN operations, time taken: 4.9809839725494385\n",
            "training loss: 2.4263675451278686\n",
            "End document, total time: 19.80611228942871\n",
            "Begin document\n",
            "Begin KNN operations\n",
            "End KNN operations, time taken: 0.5563609600067139\n",
            "Begin KNN operations\n",
            "End KNN operations, time taken: 0.8554830551147461\n",
            "Begin KNN operations\n",
            "End KNN operations, time taken: 1.1316452026367188\n",
            "Begin KNN operations\n",
            "End KNN operations, time taken: 1.3941655158996582\n",
            "Begin KNN operations\n",
            "End KNN operations, time taken: 1.686755895614624\n",
            "Begin KNN operations\n",
            "End KNN operations, time taken: 1.8730518817901611\n",
            "Begin KNN operations\n",
            "End KNN operations, time taken: 3.427384376525879\n",
            "Begin KNN operations\n",
            "End KNN operations, time taken: 2.5706281661987305\n",
            "Begin KNN operations\n"
          ]
        },
        {
          "output_type": "stream",
          "name": "stderr",
          "text": [
            "\rtraining:  83%|████████▎ | 166/200 [50:28<10:29, 18.52s/it]"
          ]
        },
        {
          "output_type": "stream",
          "name": "stdout",
          "text": [
            "End KNN operations, time taken: 2.7080962657928467\n",
            "training loss: 2.395332789421081\n",
            "End document, total time: 18.003918409347534\n",
            "Begin document\n",
            "Begin KNN operations\n",
            "End KNN operations, time taken: 0.5390076637268066\n",
            "Begin KNN operations\n",
            "End KNN operations, time taken: 0.8372790813446045\n",
            "Begin KNN operations\n",
            "End KNN operations, time taken: 1.0881011486053467\n",
            "Begin KNN operations\n",
            "End KNN operations, time taken: 1.3563635349273682\n",
            "Begin KNN operations\n",
            "End KNN operations, time taken: 2.6429283618927\n",
            "Begin KNN operations\n",
            "End KNN operations, time taken: 1.8936831951141357\n",
            "Begin KNN operations\n",
            "End KNN operations, time taken: 2.171736240386963\n",
            "Begin KNN operations\n",
            "End KNN operations, time taken: 2.522365093231201\n",
            "Begin KNN operations\n"
          ]
        },
        {
          "output_type": "stream",
          "name": "stderr",
          "text": [
            "\rtraining:  84%|████████▎ | 167/200 [50:46<10:02, 18.26s/it]"
          ]
        },
        {
          "output_type": "stream",
          "name": "stdout",
          "text": [
            "End KNN operations, time taken: 2.751513719558716\n",
            "training loss: 2.4167947530746456\n",
            "End document, total time: 17.446322441101074\n",
            "Begin document\n",
            "Begin KNN operations\n",
            "End KNN operations, time taken: 0.7377843856811523\n",
            "Begin KNN operations\n",
            "End KNN operations, time taken: 1.295764684677124\n",
            "Begin KNN operations\n",
            "End KNN operations, time taken: 1.1096057891845703\n",
            "Begin KNN operations\n",
            "End KNN operations, time taken: 1.3940832614898682\n",
            "Begin KNN operations\n",
            "End KNN operations, time taken: 1.6144657135009766\n",
            "Begin KNN operations\n",
            "End KNN operations, time taken: 1.8571653366088867\n",
            "Begin KNN operations\n",
            "End KNN operations, time taken: 2.192533016204834\n",
            "Begin KNN operations\n",
            "End KNN operations, time taken: 3.2308056354522705\n",
            "Begin KNN operations\n"
          ]
        },
        {
          "output_type": "stream",
          "name": "stderr",
          "text": [
            "\rtraining:  84%|████████▍ | 168/200 [51:04<09:48, 18.38s/it]"
          ]
        },
        {
          "output_type": "stream",
          "name": "stdout",
          "text": [
            "End KNN operations, time taken: 3.1985509395599365\n",
            "training loss: 2.4197547912597654\n",
            "End document, total time: 18.43095898628235\n",
            "Begin document\n",
            "Begin KNN operations\n",
            "End KNN operations, time taken: 0.53409743309021\n",
            "Begin KNN operations\n",
            "End KNN operations, time taken: 0.8549234867095947\n",
            "Begin KNN operations\n",
            "End KNN operations, time taken: 1.0677282810211182\n",
            "Begin KNN operations\n",
            "End KNN operations, time taken: 1.339456558227539\n",
            "Begin KNN operations\n",
            "End KNN operations, time taken: 1.6320762634277344\n",
            "Begin KNN operations\n",
            "End KNN operations, time taken: 2.3633615970611572\n",
            "Begin KNN operations\n",
            "End KNN operations, time taken: 2.960526943206787\n",
            "Begin KNN operations\n",
            "End KNN operations, time taken: 2.4564321041107178\n",
            "Begin KNN operations\n"
          ]
        },
        {
          "output_type": "stream",
          "name": "stderr",
          "text": [
            "\rtraining:  84%|████████▍ | 169/200 [51:22<09:24, 18.21s/it]"
          ]
        },
        {
          "output_type": "stream",
          "name": "stdout",
          "text": [
            "End KNN operations, time taken: 2.7012033462524414\n",
            "training loss: 2.5247280836105346\n",
            "End document, total time: 17.612165689468384\n",
            "Begin document\n",
            "Begin KNN operations\n",
            "End KNN operations, time taken: 0.5496046543121338\n",
            "Begin KNN operations\n",
            "End KNN operations, time taken: 0.8551061153411865\n",
            "Begin KNN operations\n",
            "End KNN operations, time taken: 1.218581199645996\n",
            "Begin KNN operations\n",
            "End KNN operations, time taken: 2.245398759841919\n",
            "Begin KNN operations\n",
            "End KNN operations, time taken: 1.6535439491271973\n",
            "Begin KNN operations\n",
            "End KNN operations, time taken: 1.8827266693115234\n",
            "Begin KNN operations\n",
            "End KNN operations, time taken: 2.145003080368042\n",
            "Begin KNN operations\n",
            "End KNN operations, time taken: 2.4389946460723877\n",
            "Begin KNN operations\n"
          ]
        },
        {
          "output_type": "stream",
          "name": "stderr",
          "text": [
            "\rtraining:  85%|████████▌ | 170/200 [51:41<09:09, 18.30s/it]"
          ]
        },
        {
          "output_type": "stream",
          "name": "stdout",
          "text": [
            "End KNN operations, time taken: 3.5153491497039795\n",
            "training loss: 2.52812077999115\n",
            "End document, total time: 18.30908226966858\n",
            "Begin document\n",
            "Begin KNN operations\n",
            "End KNN operations, time taken: 0.5292136669158936\n",
            "Begin KNN operations\n",
            "End KNN operations, time taken: 0.822211742401123\n",
            "Begin KNN operations\n",
            "End KNN operations, time taken: 1.1489460468292236\n",
            "Begin KNN operations\n",
            "End KNN operations, time taken: 1.3602831363677979\n",
            "Begin KNN operations\n",
            "End KNN operations, time taken: 1.6375536918640137\n",
            "Begin KNN operations\n",
            "End KNN operations, time taken: 1.904463768005371\n",
            "Begin KNN operations\n",
            "End KNN operations, time taken: 2.352297067642212\n",
            "Begin KNN operations\n",
            "End KNN operations, time taken: 3.423133373260498\n",
            "Begin KNN operations\n"
          ]
        },
        {
          "output_type": "stream",
          "name": "stderr",
          "text": [
            "\rtraining:  86%|████████▌ | 171/200 [51:58<08:45, 18.13s/it]"
          ]
        },
        {
          "output_type": "stream",
          "name": "stdout",
          "text": [
            "End KNN operations, time taken: 2.675694465637207\n",
            "training loss: 2.5047883272171023\n",
            "End document, total time: 17.500553607940674\n",
            "Begin document\n",
            "Begin KNN operations\n",
            "End KNN operations, time taken: 0.5388655662536621\n",
            "Begin KNN operations\n",
            "End KNN operations, time taken: 0.8523399829864502\n",
            "Begin KNN operations\n",
            "End KNN operations, time taken: 1.1010804176330566\n",
            "Begin KNN operations\n",
            "End KNN operations, time taken: 1.365485429763794\n",
            "Begin KNN operations\n",
            "End KNN operations, time taken: 2.233036994934082\n",
            "Begin KNN operations\n",
            "End KNN operations, time taken: 2.6742143630981445\n",
            "Begin KNN operations\n",
            "End KNN operations, time taken: 2.1782915592193604\n",
            "Begin KNN operations\n",
            "End KNN operations, time taken: 2.48213529586792\n",
            "Begin KNN operations\n"
          ]
        },
        {
          "output_type": "stream",
          "name": "stderr",
          "text": [
            "\rtraining:  86%|████████▌ | 172/200 [52:17<08:28, 18.14s/it]"
          ]
        },
        {
          "output_type": "stream",
          "name": "stdout",
          "text": [
            "End KNN operations, time taken: 2.7288296222686768\n",
            "training loss: 2.3973560094833375\n",
            "End document, total time: 17.953144311904907\n",
            "Begin document\n",
            "Begin KNN operations\n",
            "End KNN operations, time taken: 0.5275311470031738\n",
            "Begin KNN operations\n",
            "End KNN operations, time taken: 1.2802412509918213\n",
            "Begin KNN operations\n",
            "End KNN operations, time taken: 1.7146615982055664\n",
            "Begin KNN operations\n",
            "End KNN operations, time taken: 1.3767445087432861\n",
            "Begin KNN operations\n",
            "End KNN operations, time taken: 2.319267988204956\n",
            "Begin KNN operations\n",
            "End KNN operations, time taken: 2.530282735824585\n",
            "Begin KNN operations\n",
            "End KNN operations, time taken: 2.1503148078918457\n",
            "Begin KNN operations\n",
            "End KNN operations, time taken: 3.4864015579223633\n",
            "Begin KNN operations\n"
          ]
        },
        {
          "output_type": "stream",
          "name": "stderr",
          "text": [
            "\rtraining:  86%|████████▋ | 173/200 [52:37<08:25, 18.72s/it]"
          ]
        },
        {
          "output_type": "stream",
          "name": "stdout",
          "text": [
            "End KNN operations, time taken: 2.69724440574646\n",
            "training loss: 2.413869524002075\n",
            "End document, total time: 19.84700345993042\n",
            "Begin document\n",
            "Begin KNN operations\n",
            "End KNN operations, time taken: 0.5367245674133301\n",
            "Begin KNN operations\n",
            "End KNN operations, time taken: 0.8199453353881836\n",
            "Begin KNN operations\n",
            "End KNN operations, time taken: 1.112835168838501\n",
            "Begin KNN operations\n",
            "End KNN operations, time taken: 1.3594868183135986\n",
            "Begin KNN operations\n",
            "End KNN operations, time taken: 1.6410396099090576\n",
            "Begin KNN operations\n",
            "End KNN operations, time taken: 2.9171972274780273\n",
            "Begin KNN operations\n",
            "End KNN operations, time taken: 2.3890438079833984\n",
            "Begin KNN operations\n",
            "End KNN operations, time taken: 2.3774845600128174\n",
            "Begin KNN operations\n"
          ]
        },
        {
          "output_type": "stream",
          "name": "stderr",
          "text": [
            "\rtraining:  87%|████████▋ | 174/200 [52:55<07:59, 18.45s/it]"
          ]
        },
        {
          "output_type": "stream",
          "name": "stdout",
          "text": [
            "End KNN operations, time taken: 2.668102264404297\n",
            "training loss: 2.4080941915512084\n",
            "End document, total time: 17.605961799621582\n",
            "Begin document\n",
            "Begin KNN operations\n",
            "End KNN operations, time taken: 0.5349874496459961\n",
            "Begin KNN operations\n",
            "End KNN operations, time taken: 0.8564374446868896\n",
            "Begin KNN operations\n",
            "End KNN operations, time taken: 1.5360383987426758\n",
            "Begin KNN operations\n",
            "End KNN operations, time taken: 2.2121405601501465\n",
            "Begin KNN operations\n",
            "End KNN operations, time taken: 1.6188559532165527\n",
            "Begin KNN operations\n",
            "End KNN operations, time taken: 1.8536293506622314\n",
            "Begin KNN operations\n",
            "End KNN operations, time taken: 2.202449083328247\n",
            "Begin KNN operations\n",
            "End KNN operations, time taken: 2.421701669692993\n",
            "Begin KNN operations\n"
          ]
        },
        {
          "output_type": "stream",
          "name": "stderr",
          "text": [
            "\rtraining:  88%|████████▊ | 175/200 [53:14<07:45, 18.62s/it]"
          ]
        },
        {
          "output_type": "stream",
          "name": "stdout",
          "text": [
            "End KNN operations, time taken: 3.843928813934326\n",
            "training loss: 2.394878149032593\n",
            "End document, total time: 18.795507431030273\n",
            "Begin document\n",
            "Begin KNN operations\n",
            "End KNN operations, time taken: 0.5231533050537109\n",
            "Begin KNN operations\n",
            "End KNN operations, time taken: 0.8271942138671875\n",
            "Begin KNN operations\n",
            "End KNN operations, time taken: 1.082897424697876\n",
            "Begin KNN operations\n",
            "End KNN operations, time taken: 1.3282978534698486\n",
            "Begin KNN operations\n",
            "End KNN operations, time taken: 1.597639799118042\n",
            "Begin KNN operations\n",
            "End KNN operations, time taken: 1.8320858478546143\n",
            "Begin KNN operations\n",
            "End KNN operations, time taken: 2.3812596797943115\n",
            "Begin KNN operations\n",
            "End KNN operations, time taken: 3.308356285095215\n",
            "Begin KNN operations\n"
          ]
        },
        {
          "output_type": "stream",
          "name": "stderr",
          "text": [
            "\rtraining:  88%|████████▊ | 176/200 [53:31<07:17, 18.24s/it]"
          ]
        },
        {
          "output_type": "stream",
          "name": "stdout",
          "text": [
            "End KNN operations, time taken: 2.5892419815063477\n",
            "training loss: 2.4115426540374756\n",
            "End document, total time: 17.123756170272827\n",
            "Begin document\n",
            "Begin KNN operations\n",
            "End KNN operations, time taken: 0.5278630256652832\n",
            "Begin KNN operations\n",
            "End KNN operations, time taken: 0.8324856758117676\n",
            "Begin KNN operations\n",
            "End KNN operations, time taken: 1.1086013317108154\n",
            "Begin KNN operations\n",
            "End KNN operations, time taken: 1.3330788612365723\n",
            "Begin KNN operations\n",
            "End KNN operations, time taken: 1.9887855052947998\n",
            "Begin KNN operations\n",
            "End KNN operations, time taken: 2.716716766357422\n",
            "Begin KNN operations\n",
            "End KNN operations, time taken: 2.084752082824707\n",
            "Begin KNN operations\n",
            "End KNN operations, time taken: 2.4605038166046143\n",
            "Begin KNN operations\n"
          ]
        },
        {
          "output_type": "stream",
          "name": "stderr",
          "text": [
            "\rtraining:  88%|████████▊ | 177/200 [53:49<06:55, 18.08s/it]"
          ]
        },
        {
          "output_type": "stream",
          "name": "stdout",
          "text": [
            "End KNN operations, time taken: 2.6468424797058105\n",
            "training loss: 2.4674579620361325\n",
            "End document, total time: 17.498196840286255\n",
            "Begin document\n",
            "Begin KNN operations\n",
            "End KNN operations, time taken: 0.534038782119751\n",
            "Begin KNN operations\n",
            "End KNN operations, time taken: 1.2409641742706299\n",
            "Begin KNN operations\n",
            "End KNN operations, time taken: 1.743600845336914\n",
            "Begin KNN operations\n",
            "End KNN operations, time taken: 1.3989133834838867\n",
            "Begin KNN operations\n",
            "End KNN operations, time taken: 1.6119678020477295\n",
            "Begin KNN operations\n",
            "End KNN operations, time taken: 1.8649208545684814\n",
            "Begin KNN operations\n",
            "End KNN operations, time taken: 2.1061606407165527\n",
            "Begin KNN operations\n",
            "End KNN operations, time taken: 2.3947346210479736\n",
            "Begin KNN operations\n"
          ]
        },
        {
          "output_type": "stream",
          "name": "stderr",
          "text": [
            "\rtraining:  89%|████████▉ | 178/200 [54:07<06:43, 18.33s/it]"
          ]
        },
        {
          "output_type": "stream",
          "name": "stdout",
          "text": [
            "End KNN operations, time taken: 4.0515875816345215\n",
            "training loss: 2.4448859453201295\n",
            "End document, total time: 18.7036075592041\n",
            "Begin document\n",
            "Begin KNN operations\n",
            "End KNN operations, time taken: 0.5443737506866455\n",
            "Begin KNN operations\n",
            "End KNN operations, time taken: 0.8368117809295654\n",
            "Begin KNN operations\n",
            "End KNN operations, time taken: 1.0803391933441162\n",
            "Begin KNN operations\n",
            "End KNN operations, time taken: 1.3429012298583984\n",
            "Begin KNN operations\n",
            "End KNN operations, time taken: 1.5942416191101074\n",
            "Begin KNN operations\n",
            "End KNN operations, time taken: 1.8669826984405518\n",
            "Begin KNN operations\n",
            "End KNN operations, time taken: 3.4969723224639893\n",
            "Begin KNN operations\n",
            "End KNN operations, time taken: 2.411315679550171\n",
            "Begin KNN operations\n"
          ]
        },
        {
          "output_type": "stream",
          "name": "stderr",
          "text": [
            "\rtraining:  90%|████████▉ | 179/200 [54:25<06:21, 18.18s/it]"
          ]
        },
        {
          "output_type": "stream",
          "name": "stdout",
          "text": [
            "End KNN operations, time taken: 2.7086641788482666\n",
            "training loss: 2.367340564727783\n",
            "End document, total time: 17.616756439208984\n",
            "Begin document\n",
            "Begin KNN operations\n",
            "End KNN operations, time taken: 0.5360450744628906\n",
            "Begin KNN operations\n",
            "End KNN operations, time taken: 0.8322858810424805\n",
            "Begin KNN operations\n",
            "End KNN operations, time taken: 1.0913629531860352\n",
            "Begin KNN operations\n",
            "End KNN operations, time taken: 1.6693363189697266\n",
            "Begin KNN operations\n",
            "End KNN operations, time taken: 2.5633504390716553\n",
            "Begin KNN operations\n",
            "End KNN operations, time taken: 1.8904454708099365\n",
            "Begin KNN operations\n",
            "End KNN operations, time taken: 2.126315116882324\n",
            "Begin KNN operations\n",
            "End KNN operations, time taken: 2.8956689834594727\n",
            "Begin KNN operations\n"
          ]
        },
        {
          "output_type": "stream",
          "name": "stderr",
          "text": [
            "\rtraining:  90%|█████████ | 180/200 [54:45<06:14, 18.73s/it]"
          ]
        },
        {
          "output_type": "stream",
          "name": "stdout",
          "text": [
            "End KNN operations, time taken: 4.402941465377808\n",
            "training loss: 2.3697502136230466\n",
            "End document, total time: 19.79865026473999\n",
            "Begin document\n",
            "Begin KNN operations\n",
            "End KNN operations, time taken: 0.5311923027038574\n",
            "Begin KNN operations\n",
            "End KNN operations, time taken: 0.8576569557189941\n",
            "Begin KNN operations\n",
            "End KNN operations, time taken: 1.1069903373718262\n",
            "Begin KNN operations\n",
            "End KNN operations, time taken: 1.3694005012512207\n",
            "Begin KNN operations\n",
            "End KNN operations, time taken: 1.624974012374878\n",
            "Begin KNN operations\n",
            "End KNN operations, time taken: 1.8693759441375732\n",
            "Begin KNN operations\n",
            "End KNN operations, time taken: 2.539010763168335\n",
            "Begin KNN operations\n",
            "End KNN operations, time taken: 3.255622625350952\n",
            "Begin KNN operations\n"
          ]
        },
        {
          "output_type": "stream",
          "name": "stderr",
          "text": [
            "\rtraining:  90%|█████████ | 181/200 [55:03<05:51, 18.48s/it]"
          ]
        },
        {
          "output_type": "stream",
          "name": "stdout",
          "text": [
            "End KNN operations, time taken: 2.7093071937561035\n",
            "training loss: 2.5210891008377074\n",
            "End document, total time: 17.651469469070435\n",
            "Begin document\n",
            "Begin KNN operations\n",
            "End KNN operations, time taken: 0.5318078994750977\n",
            "Begin KNN operations\n",
            "End KNN operations, time taken: 0.8533506393432617\n",
            "Begin KNN operations\n",
            "End KNN operations, time taken: 1.109266996383667\n",
            "Begin KNN operations\n",
            "End KNN operations, time taken: 1.3945622444152832\n",
            "Begin KNN operations\n",
            "End KNN operations, time taken: 2.269787311553955\n",
            "Begin KNN operations\n",
            "End KNN operations, time taken: 2.5670418739318848\n",
            "Begin KNN operations\n",
            "End KNN operations, time taken: 2.213819980621338\n",
            "Begin KNN operations\n",
            "End KNN operations, time taken: 2.4517290592193604\n",
            "Begin KNN operations\n"
          ]
        },
        {
          "output_type": "stream",
          "name": "stderr",
          "text": [
            "\rtraining:  91%|█████████ | 182/200 [55:21<05:30, 18.37s/it]"
          ]
        },
        {
          "output_type": "stream",
          "name": "stdout",
          "text": [
            "End KNN operations, time taken: 2.6979422569274902\n",
            "training loss: 2.4065454244613647\n",
            "End document, total time: 17.897727251052856\n",
            "Begin document\n",
            "Begin KNN operations\n",
            "End KNN operations, time taken: 0.6232314109802246\n",
            "Begin KNN operations\n",
            "End KNN operations, time taken: 1.3320951461791992\n",
            "Begin KNN operations\n",
            "End KNN operations, time taken: 1.6847257614135742\n",
            "Begin KNN operations\n",
            "End KNN operations, time taken: 1.342027187347412\n",
            "Begin KNN operations\n",
            "End KNN operations, time taken: 1.6226868629455566\n",
            "Begin KNN operations\n",
            "End KNN operations, time taken: 1.8969776630401611\n",
            "Begin KNN operations\n",
            "End KNN operations, time taken: 2.1296169757843018\n",
            "Begin KNN operations\n",
            "End KNN operations, time taken: 2.5534403324127197\n",
            "Begin KNN operations\n"
          ]
        },
        {
          "output_type": "stream",
          "name": "stderr",
          "text": [
            "\rtraining:  92%|█████████▏| 183/200 [55:40<05:14, 18.51s/it]"
          ]
        },
        {
          "output_type": "stream",
          "name": "stdout",
          "text": [
            "End KNN operations, time taken: 3.7859432697296143\n",
            "training loss: 2.3627877473831176\n",
            "End document, total time: 18.658123254776\n",
            "Begin document\n",
            "Begin KNN operations\n",
            "End KNN operations, time taken: 0.550163745880127\n",
            "Begin KNN operations\n",
            "End KNN operations, time taken: 0.8516707420349121\n",
            "Begin KNN operations\n",
            "End KNN operations, time taken: 1.1345117092132568\n",
            "Begin KNN operations\n",
            "End KNN operations, time taken: 1.428654432296753\n",
            "Begin KNN operations\n",
            "End KNN operations, time taken: 1.6436302661895752\n",
            "Begin KNN operations\n",
            "End KNN operations, time taken: 2.001987934112549\n",
            "Begin KNN operations\n",
            "End KNN operations, time taken: 3.455350399017334\n",
            "Begin KNN operations\n",
            "End KNN operations, time taken: 2.4171953201293945\n",
            "Begin KNN operations\n"
          ]
        },
        {
          "output_type": "stream",
          "name": "stderr",
          "text": [
            "\rtraining:  92%|█████████▏| 184/200 [55:58<04:54, 18.40s/it]"
          ]
        },
        {
          "output_type": "stream",
          "name": "stdout",
          "text": [
            "End KNN operations, time taken: 2.7159268856048584\n",
            "training loss: 2.419320511817932\n",
            "End document, total time: 17.90936040878296\n",
            "Begin document\n",
            "Begin KNN operations\n",
            "End KNN operations, time taken: 0.5215902328491211\n",
            "Begin KNN operations\n",
            "End KNN operations, time taken: 0.8224422931671143\n",
            "Begin KNN operations\n",
            "End KNN operations, time taken: 1.066868782043457\n",
            "Begin KNN operations\n",
            "End KNN operations, time taken: 2.0908920764923096\n",
            "Begin KNN operations\n",
            "End KNN operations, time taken: 2.178224802017212\n",
            "Begin KNN operations\n",
            "End KNN operations, time taken: 1.88388991355896\n",
            "Begin KNN operations\n",
            "End KNN operations, time taken: 2.1658198833465576\n",
            "Begin KNN operations\n",
            "End KNN operations, time taken: 2.4191038608551025\n",
            "Begin KNN operations\n"
          ]
        },
        {
          "output_type": "stream",
          "name": "stderr",
          "text": [
            "\rtraining:  92%|█████████▎| 185/200 [56:16<04:34, 18.32s/it]"
          ]
        },
        {
          "output_type": "stream",
          "name": "stdout",
          "text": [
            "End KNN operations, time taken: 2.9799864292144775\n",
            "training loss: 2.3829322814941407\n",
            "End document, total time: 17.94439697265625\n",
            "Begin document\n",
            "Begin KNN operations\n",
            "End KNN operations, time taken: 0.7595322132110596\n",
            "Begin KNN operations\n",
            "End KNN operations, time taken: 0.8249685764312744\n",
            "Begin KNN operations\n",
            "End KNN operations, time taken: 1.0773141384124756\n",
            "Begin KNN operations\n",
            "End KNN operations, time taken: 1.3338594436645508\n",
            "Begin KNN operations\n",
            "End KNN operations, time taken: 1.6274476051330566\n",
            "Begin KNN operations\n",
            "End KNN operations, time taken: 1.8648912906646729\n",
            "Begin KNN operations\n",
            "End KNN operations, time taken: 2.1294236183166504\n",
            "Begin KNN operations\n",
            "End KNN operations, time taken: 3.840895652770996\n",
            "Begin KNN operations\n"
          ]
        },
        {
          "output_type": "stream",
          "name": "stderr",
          "text": [
            "\rtraining:  93%|█████████▎| 186/200 [56:35<04:16, 18.30s/it]"
          ]
        },
        {
          "output_type": "stream",
          "name": "stdout",
          "text": [
            "End KNN operations, time taken: 2.6722769737243652\n",
            "training loss: 2.381573581695556\n",
            "End document, total time: 17.952428817749023\n",
            "Begin document\n",
            "Begin KNN operations\n",
            "End KNN operations, time taken: 0.5495352745056152\n",
            "Begin KNN operations\n",
            "End KNN operations, time taken: 0.8356022834777832\n",
            "Begin KNN operations\n",
            "End KNN operations, time taken: 1.0975894927978516\n",
            "Begin KNN operations\n",
            "End KNN operations, time taken: 1.380171775817871\n",
            "Begin KNN operations\n",
            "End KNN operations, time taken: 1.6361229419708252\n",
            "Begin KNN operations\n",
            "End KNN operations, time taken: 3.2074127197265625\n",
            "Begin KNN operations\n",
            "End KNN operations, time taken: 2.1827392578125\n",
            "Begin KNN operations\n",
            "End KNN operations, time taken: 2.4248180389404297\n",
            "Begin KNN operations\n"
          ]
        },
        {
          "output_type": "stream",
          "name": "stderr",
          "text": [
            "\rtraining:  94%|█████████▎| 187/200 [56:53<03:56, 18.21s/it]"
          ]
        },
        {
          "output_type": "stream",
          "name": "stdout",
          "text": [
            "End KNN operations, time taken: 2.7569079399108887\n",
            "training loss: 2.4016978979110717\n",
            "End document, total time: 17.81284737586975\n",
            "Begin document\n",
            "Begin KNN operations\n",
            "End KNN operations, time taken: 0.524724006652832\n",
            "Begin KNN operations\n",
            "End KNN operations, time taken: 0.8577992916107178\n",
            "Begin KNN operations\n",
            "End KNN operations, time taken: 1.7587940692901611\n",
            "Begin KNN operations\n",
            "End KNN operations, time taken: 2.358518123626709\n",
            "Begin KNN operations\n",
            "End KNN operations, time taken: 2.4140255451202393\n",
            "Begin KNN operations\n",
            "End KNN operations, time taken: 1.8937726020812988\n",
            "Begin KNN operations\n",
            "End KNN operations, time taken: 2.2029027938842773\n",
            "Begin KNN operations\n",
            "End KNN operations, time taken: 2.411553382873535\n",
            "Begin KNN operations\n"
          ]
        },
        {
          "output_type": "stream",
          "name": "stderr",
          "text": [
            "\rtraining:  94%|█████████▍| 188/200 [57:13<03:46, 18.84s/it]"
          ]
        },
        {
          "output_type": "stream",
          "name": "stdout",
          "text": [
            "End KNN operations, time taken: 3.857806921005249\n",
            "training loss: 2.393178534507751\n",
            "End document, total time: 20.08833599090576\n",
            "Begin document\n",
            "Begin KNN operations\n",
            "End KNN operations, time taken: 0.5254967212677002\n",
            "Begin KNN operations\n",
            "End KNN operations, time taken: 0.8429803848266602\n",
            "Begin KNN operations\n",
            "End KNN operations, time taken: 1.0924911499023438\n",
            "Begin KNN operations\n",
            "End KNN operations, time taken: 1.3433873653411865\n",
            "Begin KNN operations\n",
            "End KNN operations, time taken: 1.6308908462524414\n",
            "Begin KNN operations\n",
            "End KNN operations, time taken: 1.8919415473937988\n",
            "Begin KNN operations\n",
            "End KNN operations, time taken: 3.5775187015533447\n",
            "Begin KNN operations\n",
            "End KNN operations, time taken: 2.4959781169891357\n",
            "Begin KNN operations\n"
          ]
        },
        {
          "output_type": "stream",
          "name": "stderr",
          "text": [
            "\rtraining:  94%|█████████▍| 189/200 [57:31<03:24, 18.62s/it]"
          ]
        },
        {
          "output_type": "stream",
          "name": "stdout",
          "text": [
            "End KNN operations, time taken: 2.751905679702759\n",
            "training loss: 2.4448542594909672\n",
            "End document, total time: 17.904751777648926\n",
            "Begin document\n",
            "Begin KNN operations\n",
            "End KNN operations, time taken: 0.5344765186309814\n",
            "Begin KNN operations\n",
            "End KNN operations, time taken: 0.8570592403411865\n",
            "Begin KNN operations\n",
            "End KNN operations, time taken: 1.110896110534668\n",
            "Begin KNN operations\n",
            "End KNN operations, time taken: 2.0601465702056885\n",
            "Begin KNN operations\n",
            "End KNN operations, time taken: 2.2008275985717773\n",
            "Begin KNN operations\n",
            "End KNN operations, time taken: 1.919905185699463\n",
            "Begin KNN operations\n",
            "End KNN operations, time taken: 2.1081960201263428\n",
            "Begin KNN operations\n",
            "End KNN operations, time taken: 2.445357084274292\n",
            "Begin KNN operations\n"
          ]
        },
        {
          "output_type": "stream",
          "name": "stderr",
          "text": [
            "\rtraining:  95%|█████████▌| 190/200 [57:49<03:04, 18.49s/it]"
          ]
        },
        {
          "output_type": "stream",
          "name": "stdout",
          "text": [
            "End KNN operations, time taken: 2.92313551902771\n",
            "training loss: 2.4485190868377686\n",
            "End document, total time: 17.975830078125\n",
            "Begin document\n",
            "Begin KNN operations\n",
            "End KNN operations, time taken: 0.7878377437591553\n",
            "Begin KNN operations\n",
            "End KNN operations, time taken: 0.8425230979919434\n",
            "Begin KNN operations\n",
            "End KNN operations, time taken: 1.1083660125732422\n",
            "Begin KNN operations\n",
            "End KNN operations, time taken: 1.3689398765563965\n",
            "Begin KNN operations\n",
            "End KNN operations, time taken: 1.598630428314209\n",
            "Begin KNN operations\n",
            "End KNN operations, time taken: 1.8539354801177979\n",
            "Begin KNN operations\n",
            "End KNN operations, time taken: 2.113495349884033\n",
            "Begin KNN operations\n",
            "End KNN operations, time taken: 3.720372200012207\n",
            "Begin KNN operations\n"
          ]
        },
        {
          "output_type": "stream",
          "name": "stderr",
          "text": [
            "\rtraining:  96%|█████████▌| 191/200 [58:07<02:45, 18.38s/it]"
          ]
        },
        {
          "output_type": "stream",
          "name": "stdout",
          "text": [
            "End KNN operations, time taken: 2.684051752090454\n",
            "training loss: 2.492152094841004\n",
            "End document, total time: 17.885199069976807\n",
            "Begin document\n",
            "Begin KNN operations\n",
            "End KNN operations, time taken: 0.5239541530609131\n",
            "Begin KNN operations\n",
            "End KNN operations, time taken: 0.819098711013794\n",
            "Begin KNN operations\n",
            "End KNN operations, time taken: 1.102165699005127\n",
            "Begin KNN operations\n",
            "End KNN operations, time taken: 1.3697240352630615\n",
            "Begin KNN operations\n",
            "End KNN operations, time taken: 1.6175413131713867\n",
            "Begin KNN operations\n",
            "End KNN operations, time taken: 3.0972800254821777\n",
            "Begin KNN operations\n",
            "End KNN operations, time taken: 2.1449930667877197\n",
            "Begin KNN operations\n",
            "End KNN operations, time taken: 2.392409324645996\n",
            "Begin KNN operations\n"
          ]
        },
        {
          "output_type": "stream",
          "name": "stderr",
          "text": [
            "\rtraining:  96%|█████████▌| 192/200 [58:25<02:25, 18.18s/it]"
          ]
        },
        {
          "output_type": "stream",
          "name": "stdout",
          "text": [
            "End KNN operations, time taken: 2.6739614009857178\n",
            "training loss: 2.4567383289337155\n",
            "End document, total time: 17.512996435165405\n",
            "Begin document\n",
            "Begin KNN operations\n",
            "End KNN operations, time taken: 0.5375392436981201\n",
            "Begin KNN operations\n",
            "End KNN operations, time taken: 0.8225314617156982\n",
            "Begin KNN operations\n",
            "End KNN operations, time taken: 1.6842999458312988\n",
            "Begin KNN operations\n",
            "End KNN operations, time taken: 2.000371217727661\n",
            "Begin KNN operations\n",
            "End KNN operations, time taken: 1.6310300827026367\n",
            "Begin KNN operations\n",
            "End KNN operations, time taken: 1.9063968658447266\n",
            "Begin KNN operations\n",
            "End KNN operations, time taken: 2.1318163871765137\n",
            "Begin KNN operations\n",
            "End KNN operations, time taken: 2.3853554725646973\n",
            "Begin KNN operations\n"
          ]
        },
        {
          "output_type": "stream",
          "name": "stderr",
          "text": [
            "\rtraining:  96%|█████████▋| 193/200 [58:44<02:09, 18.46s/it]"
          ]
        },
        {
          "output_type": "stream",
          "name": "stdout",
          "text": [
            "End KNN operations, time taken: 4.052933692932129\n",
            "training loss: 2.479510545730591\n",
            "End document, total time: 18.904614686965942\n",
            "Begin document\n",
            "Begin KNN operations\n",
            "End KNN operations, time taken: 0.5395646095275879\n",
            "Begin KNN operations\n",
            "End KNN operations, time taken: 0.8438796997070312\n",
            "Begin KNN operations\n",
            "End KNN operations, time taken: 1.114086389541626\n",
            "Begin KNN operations\n",
            "End KNN operations, time taken: 1.3633677959442139\n",
            "Begin KNN operations\n",
            "End KNN operations, time taken: 1.6133763790130615\n",
            "Begin KNN operations\n",
            "End KNN operations, time taken: 1.8954312801361084\n",
            "Begin KNN operations\n",
            "End KNN operations, time taken: 2.853627920150757\n",
            "Begin KNN operations\n",
            "End KNN operations, time taken: 2.9650683403015137\n",
            "Begin KNN operations\n"
          ]
        },
        {
          "output_type": "stream",
          "name": "stderr",
          "text": [
            "\rtraining:  97%|█████████▋| 194/200 [59:02<01:49, 18.28s/it]"
          ]
        },
        {
          "output_type": "stream",
          "name": "stdout",
          "text": [
            "End KNN operations, time taken: 2.6571152210235596\n",
            "training loss: 2.4541596889495847\n",
            "End document, total time: 17.62199330329895\n",
            "Begin document\n",
            "Begin KNN operations\n",
            "End KNN operations, time taken: 0.5159106254577637\n",
            "Begin KNN operations\n",
            "End KNN operations, time taken: 0.8338117599487305\n",
            "Begin KNN operations\n",
            "End KNN operations, time taken: 1.1007475852966309\n",
            "Begin KNN operations\n",
            "End KNN operations, time taken: 1.3550605773925781\n",
            "Begin KNN operations\n",
            "End KNN operations, time taken: 2.354524612426758\n",
            "Begin KNN operations\n",
            "End KNN operations, time taken: 2.3943777084350586\n",
            "Begin KNN operations\n",
            "End KNN operations, time taken: 2.9916040897369385\n",
            "Begin KNN operations\n",
            "End KNN operations, time taken: 2.8566901683807373\n",
            "Begin KNN operations\n"
          ]
        },
        {
          "output_type": "stream",
          "name": "stderr",
          "text": [
            "\rtraining:  98%|█████████▊| 195/200 [59:21<01:32, 18.50s/it]"
          ]
        },
        {
          "output_type": "stream",
          "name": "stdout",
          "text": [
            "End KNN operations, time taken: 2.6293201446533203\n",
            "training loss: 2.3883849143981934\n",
            "End document, total time: 18.789189100265503\n",
            "Begin document\n",
            "Begin KNN operations\n",
            "End KNN operations, time taken: 0.7302191257476807\n",
            "Begin KNN operations\n",
            "End KNN operations, time taken: 0.9119973182678223\n",
            "Begin KNN operations\n",
            "End KNN operations, time taken: 1.102992057800293\n",
            "Begin KNN operations\n",
            "End KNN operations, time taken: 1.3684818744659424\n",
            "Begin KNN operations\n",
            "End KNN operations, time taken: 1.5915424823760986\n",
            "Begin KNN operations\n",
            "End KNN operations, time taken: 1.882314682006836\n",
            "Begin KNN operations\n",
            "End KNN operations, time taken: 2.147770881652832\n",
            "Begin KNN operations\n",
            "End KNN operations, time taken: 3.7317140102386475\n",
            "Begin KNN operations\n"
          ]
        },
        {
          "output_type": "stream",
          "name": "stderr",
          "text": [
            "\rtraining:  98%|█████████▊| 196/200 [59:39<01:13, 18.40s/it]"
          ]
        },
        {
          "output_type": "stream",
          "name": "stdout",
          "text": [
            "End KNN operations, time taken: 2.6457576751708984\n",
            "training loss: 2.4227020978927616\n",
            "End document, total time: 17.910959005355835\n",
            "Begin document\n",
            "Begin KNN operations\n",
            "End KNN operations, time taken: 0.5218064785003662\n",
            "Begin KNN operations\n",
            "End KNN operations, time taken: 0.8671603202819824\n",
            "Begin KNN operations\n",
            "End KNN operations, time taken: 1.1082725524902344\n",
            "Begin KNN operations\n",
            "End KNN operations, time taken: 1.3583276271820068\n",
            "Begin KNN operations\n",
            "End KNN operations, time taken: 1.64320969581604\n",
            "Begin KNN operations\n",
            "End KNN operations, time taken: 2.9080352783203125\n",
            "Begin KNN operations\n",
            "End KNN operations, time taken: 2.16170072555542\n",
            "Begin KNN operations\n",
            "End KNN operations, time taken: 2.4335155487060547\n",
            "Begin KNN operations\n"
          ]
        },
        {
          "output_type": "stream",
          "name": "stderr",
          "text": [
            "\rtraining:  98%|█████████▊| 197/200 [59:57<00:54, 18.18s/it]"
          ]
        },
        {
          "output_type": "stream",
          "name": "stdout",
          "text": [
            "End KNN operations, time taken: 2.7332420349121094\n",
            "training loss: 2.3818279981613157\n",
            "End document, total time: 17.448203563690186\n",
            "Begin document\n",
            "Begin KNN operations\n",
            "End KNN operations, time taken: 0.5410299301147461\n",
            "Begin KNN operations\n",
            "End KNN operations, time taken: 0.8441789150238037\n",
            "Begin KNN operations\n",
            "End KNN operations, time taken: 1.7335972785949707\n",
            "Begin KNN operations\n",
            "End KNN operations, time taken: 1.95548677444458\n",
            "Begin KNN operations\n",
            "End KNN operations, time taken: 1.62947678565979\n",
            "Begin KNN operations\n",
            "End KNN operations, time taken: 1.9101550579071045\n",
            "Begin KNN operations\n",
            "End KNN operations, time taken: 2.195434331893921\n",
            "Begin KNN operations\n",
            "End KNN operations, time taken: 2.454925060272217\n",
            "Begin KNN operations\n"
          ]
        },
        {
          "output_type": "stream",
          "name": "stderr",
          "text": [
            "\rtraining:  99%|█████████▉| 198/200 [1:00:16<00:37, 18.56s/it]"
          ]
        },
        {
          "output_type": "stream",
          "name": "stdout",
          "text": [
            "End KNN operations, time taken: 4.285090446472168\n",
            "training loss: 2.457322096824646\n",
            "End document, total time: 19.275813579559326\n",
            "Begin document\n",
            "Begin KNN operations\n",
            "End KNN operations, time taken: 0.5346012115478516\n",
            "Begin KNN operations\n",
            "End KNN operations, time taken: 0.8659842014312744\n",
            "Begin KNN operations\n",
            "End KNN operations, time taken: 1.1249256134033203\n",
            "Begin KNN operations\n",
            "End KNN operations, time taken: 1.3758289813995361\n",
            "Begin KNN operations\n",
            "End KNN operations, time taken: 1.6304526329040527\n",
            "Begin KNN operations\n",
            "End KNN operations, time taken: 1.893740177154541\n",
            "Begin KNN operations\n",
            "End KNN operations, time taken: 3.0909838676452637\n",
            "Begin KNN operations\n",
            "End KNN operations, time taken: 2.5657589435577393\n",
            "Begin KNN operations\n"
          ]
        },
        {
          "output_type": "stream",
          "name": "stderr",
          "text": [
            "\rtraining: 100%|█████████▉| 199/200 [1:00:34<00:18, 18.31s/it]"
          ]
        },
        {
          "output_type": "stream",
          "name": "stdout",
          "text": [
            "End KNN operations, time taken: 2.6478359699249268\n",
            "training loss: 2.37930805683136\n",
            "End document, total time: 17.50506615638733\n",
            "Begin document\n",
            "Begin KNN operations\n",
            "End KNN operations, time taken: 0.5256335735321045\n",
            "Begin KNN operations\n",
            "End KNN operations, time taken: 0.8370003700256348\n",
            "Begin KNN operations\n",
            "End KNN operations, time taken: 1.083310842514038\n",
            "Begin KNN operations\n",
            "End KNN operations, time taken: 1.341022253036499\n",
            "Begin KNN operations\n",
            "End KNN operations, time taken: 2.786342144012451\n",
            "Begin KNN operations\n",
            "End KNN operations, time taken: 1.899578332901001\n",
            "Begin KNN operations\n",
            "End KNN operations, time taken: 2.158876657485962\n",
            "Begin KNN operations\n",
            "End KNN operations, time taken: 2.4280664920806885\n",
            "Begin KNN operations\n"
          ]
        },
        {
          "output_type": "stream",
          "name": "stderr",
          "text": [
            "training: 100%|██████████| 200/200 [1:00:52<00:00, 18.26s/it]"
          ]
        },
        {
          "output_type": "stream",
          "name": "stdout",
          "text": [
            "End KNN operations, time taken: 2.6939430236816406\n",
            "training loss: 2.401641416549683\n",
            "End document, total time: 17.53858757019043\n"
          ]
        },
        {
          "output_type": "stream",
          "name": "stderr",
          "text": [
            "\n"
          ]
        }
      ]
    },
    {
      "cell_type": "code",
      "source": [],
      "metadata": {
        "id": "dWW3JC9B6mXg"
      },
      "execution_count": null,
      "outputs": []
    }
  ]
}